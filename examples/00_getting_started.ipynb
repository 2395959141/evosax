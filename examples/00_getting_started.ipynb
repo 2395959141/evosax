{
 "cells": [
  {
   "cell_type": "markdown",
   "id": "ce660e6c-1d05-413d-8dd3-9a3de2671276",
   "metadata": {},
   "source": [
    "# 00 - Getting Started with `evosax` - The Ask-Eval-Tell API\n",
    "### [Last Update: March 2022][![Colab](https://colab.research.google.com/assets/colab-badge.svg)](https://colab.research.google.com/github/RobertTLange/evosax/blob/main/examples/00_getting_started.ipynb)"
   ]
  },
  {
   "cell_type": "code",
   "execution_count": null,
   "id": "99e7d883-ecfc-4602-9b8f-816844f7d212",
   "metadata": {},
   "outputs": [],
   "source": [
    "%matplotlib inline\n",
    "%load_ext autoreload\n",
    "%autoreload 2\n",
    "%config InlineBackend.figure_format = 'retina'\n",
    "\n",
    "!pip install -q git+https://github.com/RobertTLange/evosax.git@main\n",
    "!pip install -q gymnax"
   ]
  },
  {
   "cell_type": "markdown",
   "id": "286b9fb3-556a-491a-b1fb-c1c3181beca0",
   "metadata": {},
   "source": [
    "## Evolution Strategy Instantiation"
   ]
  },
  {
   "cell_type": "code",
   "execution_count": 1,
   "id": "9dee8f4d-9ce8-4f5b-8d9a-ccde409dd873",
   "metadata": {},
   "outputs": [
    {
     "data": {
      "text/plain": [
       "EvoParams(mu_eff=DeviceArray(3.1672993, dtype=float32), c_1=DeviceArray(0.14227484, dtype=float32), c_mu=DeviceArray(0.1547454, dtype=float32), c_sigma=DeviceArray(0.50822735, dtype=float32), d_sigma=DeviceArray(1.5082273, dtype=float32), c_c=DeviceArray(0.60908335, dtype=float32), chi_n=DeviceArray(1.2542727, dtype=float32, weak_type=True), c_m=1.0, sigma_init=1.0, init_min=-3, init_max=3, clip_min=-3.4028235e+38, clip_max=3.4028235e+38)"
      ]
     },
     "execution_count": 1,
     "metadata": {},
     "output_type": "execute_result"
    }
   ],
   "source": [
    "import jax\n",
    "import jax.numpy as jnp\n",
    "from evosax import CMA_ES\n",
    "from evosax.problems import BBOBFitness\n",
    "\n",
    "# Instantiate the evolution strategy instance\n",
    "strategy = CMA_ES(num_dims=2, popsize=10)\n",
    "\n",
    "# Get default hyperparameters (e.g. lrate, etc.)\n",
    "es_params = strategy.default_params\n",
    "es_params = es_params.replace(init_min= -3, init_max=3)\n",
    "\n",
    "# Initialize the strategy\n",
    "rng = jax.random.PRNGKey(0)\n",
    "state = strategy.initialize(rng, es_params)\n",
    "\n",
    "# Have a look at the hyperparameters (change if desired)\n",
    "es_params"
   ]
  },
  {
   "cell_type": "markdown",
   "id": "dd4517e3",
   "metadata": {},
   "source": [
    "## Classic Evolution Strategy Benchmarks"
   ]
  },
  {
   "cell_type": "code",
   "execution_count": 2,
   "id": "969621cb",
   "metadata": {},
   "outputs": [],
   "source": [
    "# Instantiate helper class for classic evolution strategies benchmarks\n",
    "evaluator = BBOBFitness(\"RosenbrockOriginal\", num_dims=2)"
   ]
  },
  {
   "cell_type": "markdown",
   "id": "6c40c7cb-0b36-4047-b181-79bbaf1b2598",
   "metadata": {},
   "source": [
    "Given our initialized strategy we are now ready to `ask` for a set of candidate parameters. Afterwards, we evaluate these on the 2D Rosenbrock problem and `tell` them to our strategy. The strategy will update its `state` and we can iterate."
   ]
  },
  {
   "cell_type": "code",
   "execution_count": 3,
   "id": "e8982ce5-91b0-4ccc-ba46-2c69d4f11287",
   "metadata": {},
   "outputs": [
    {
     "data": {
      "text/plain": [
       "EvoState(p_sigma=DeviceArray([1.4210665 , 0.17011967], dtype=float32), p_c=DeviceArray([1.5021834, 0.1798304], dtype=float32), C=DeviceArray([[1.6521862, 0.2126719],\n",
       "             [0.2126719, 0.6064514]], dtype=float32), D=None, B=None, mean=DeviceArray([-0.7851852,  1.9345263], dtype=float32), sigma=DeviceArray(1.0486844, dtype=float32), weights=DeviceArray([ 0.45627266,  0.27075312,  0.16223112,  0.08523354,\n",
       "              0.02550957, -0.09313666, -0.25813875, -0.4010702 ,\n",
       "             -0.5271447 , -0.639922  ], dtype=float32), weights_truncated=DeviceArray([0.45627266, 0.27075312, 0.16223112, 0.08523354, 0.02550957,\n",
       "             0.        , 0.        , 0.        , 0.        , 0.        ],            dtype=float32), best_member=DeviceArray([0.7087054, 2.3278952], dtype=float32), best_fitness=DeviceArray(17.166704, dtype=float32), gen_counter=DeviceArray(1, dtype=int32, weak_type=True))"
      ]
     },
     "execution_count": 3,
     "metadata": {},
     "output_type": "execute_result"
    }
   ],
   "source": [
    "# Ask for a set of candidate solutions to evaluate\n",
    "x, state = strategy.ask(rng, state, es_params)\n",
    "# Evaluate the population members\n",
    "fitness = evaluator.rollout(rng, x)\n",
    "# Update the evolution strategy\n",
    "state = strategy.tell(x, fitness, state, es_params)\n",
    "state"
   ]
  },
  {
   "cell_type": "markdown",
   "id": "d547fa66-813b-4acf-b99e-fcc0d34a3277",
   "metadata": {},
   "source": [
    "## Running the ES Loop with Logging"
   ]
  },
  {
   "cell_type": "code",
   "execution_count": 4,
   "id": "57b3e83c-e81f-48bd-aa8c-e90b7542502a",
   "metadata": {},
   "outputs": [],
   "source": [
    "from evosax.utils import ESLog\n",
    "# Jittable logging helper\n",
    "num_gens = 50\n",
    "es_logging = ESLog(num_dims=2, num_generations=num_gens, top_k=3, maximize=False)\n",
    "log = es_logging.initialize()"
   ]
  },
  {
   "cell_type": "code",
   "execution_count": 5,
   "id": "791a2d65-7404-40a2-9c4b-4a1e1ac12dfa",
   "metadata": {},
   "outputs": [
    {
     "data": {
      "text/plain": [
       "(<Figure size 432x216 with 1 Axes>,\n",
       " <AxesSubplot:title={'center':'2D Rosenbrock CMA-ES'}, xlabel='Number of Generations', ylabel='Fitness Score'>)"
      ]
     },
     "execution_count": 5,
     "metadata": {},
     "output_type": "execute_result"
    },
    {
     "data": {
      "image/png": "[encoded data removed]",
      "text/plain": [
       "<Figure size 432x216 with 1 Axes>"
      ]
     },
     "metadata": {
      "needs_background": "light"
     },
     "output_type": "display_data"
    }
   ],
   "source": [
    "state = strategy.initialize(rng, es_params)\n",
    "for i in range(num_gens):\n",
    "    rng, rng_ask = jax.random.split(rng)\n",
    "    # Ask for a set candidates\n",
    "    x, state = strategy.ask(rng_ask, state, es_params)\n",
    "    # Evaluate the candidates\n",
    "    fitness = evaluator.rollout(rng, x)\n",
    "    # Update the strategy based on fitness\n",
    "    state = strategy.tell(x, fitness, state, es_params)\n",
    "    # Update the log with results\n",
    "    log = es_logging.update(log, x, fitness)\n",
    "    \n",
    "es_logging.plot(log, \"2D Rosenbrock CMA-ES\", ylims=(0, 30))"
   ]
  },
  {
   "cell_type": "markdown",
   "id": "bd516900",
   "metadata": {},
   "source": [
    "## Simultaneous PyTree Evaluation with `evosax`'s `ParameterReshaper`\n",
    "\n",
    "`evosax` supports the automatic reshaping of proposed flat vectors into Pytrees for smooth neural network fitness evaluations. The transformation is again JAX-composable (`jit`, `vmap`, etc.). Below you find an example for a flax-based multi-layer perceptron:"
   ]
  },
  {
   "cell_type": "code",
   "execution_count": 6,
   "id": "c8bb5d1f-2b3b-4c3a-91fd-58c4be4b10ce",
   "metadata": {},
   "outputs": [],
   "source": [
    "from flax import linen as nn\n",
    "\n",
    "\n",
    "class MLP(nn.Module):\n",
    "    \"\"\"Simple ReLU MLP.\"\"\"\n",
    "\n",
    "    num_hidden_units: int\n",
    "    num_hidden_layers: int\n",
    "    num_output_units: int\n",
    "\n",
    "    @nn.compact\n",
    "    def __call__(self, x, rng):\n",
    "        for l in range(self.num_hidden_layers):\n",
    "            x = nn.Dense(features=self.num_hidden_units)(x)\n",
    "            x = nn.relu(x)\n",
    "        x = nn.Dense(features=self.num_output_units)(x)\n",
    "        return jax.random.categorical(rng, x)\n",
    "    \n",
    "\n",
    "# Instantiate the model callables and get a placeholder pytree\n",
    "network = MLP(64, 2, 2)\n",
    "policy_params = network.init(rng, jnp.zeros(4,), rng)"
   ]
  },
  {
   "cell_type": "code",
   "execution_count": 7,
   "id": "772c9449-6fab-4650-bd82-d0c589eb45b1",
   "metadata": {},
   "outputs": [
    {
     "name": "stdout",
     "output_type": "stream",
     "text": [
      "ParameterReshaper: 4610 parameters detected for optimization.\n"
     ]
    },
    {
     "data": {
      "text/plain": [
       "4610"
      ]
     },
     "execution_count": 7,
     "metadata": {},
     "output_type": "execute_result"
    }
   ],
   "source": [
    "from evosax.utils import ParameterReshaper\n",
    "\n",
    "# Instantiate the reshape helper & get total number of parameters to reshape\n",
    "param_reshaper = ParameterReshaper(policy_params)\n",
    "param_reshaper.total_params"
   ]
  },
  {
   "cell_type": "markdown",
   "id": "def9115f",
   "metadata": {},
   "source": [
    "Now let's instantiate another evolution strategy (`DE` - Differential Evolution) and generate a set of generation members: "
   ]
  },
  {
   "cell_type": "code",
   "execution_count": 8,
   "id": "40ff50bd",
   "metadata": {},
   "outputs": [
    {
     "data": {
      "text/plain": [
       "(100, 4610)"
      ]
     },
     "execution_count": 8,
     "metadata": {},
     "output_type": "execute_result"
    }
   ],
   "source": [
    "from evosax import DE\n",
    "strategy = DE(popsize=100, num_dims=param_reshaper.total_params)\n",
    "state = strategy.initialize(rng, strategy.default_params)\n",
    "x, state = strategy.ask(rng, state, strategy.default_params)\n",
    "x.shape"
   ]
  },
  {
   "cell_type": "markdown",
   "id": "94fe18bf",
   "metadata": {},
   "source": [
    "As we can see this is simply an array with (#population members, #parameters) shape. In order to reshape this array into stacked pytrees, we can simply pass it to the reshaper:"
   ]
  },
  {
   "cell_type": "code",
   "execution_count": 9,
   "id": "607fab0a",
   "metadata": {},
   "outputs": [
    {
     "data": {
      "text/plain": [
       "(frozen_dict_keys(['params']), (100, 4, 64))"
      ]
     },
     "execution_count": 9,
     "metadata": {},
     "output_type": "execute_result"
    }
   ],
   "source": [
    "net_params = param_reshaper.reshape(x)\n",
    "net_params.keys(), net_params['params']['Dense_0']['kernel'].shape"
   ]
  },
  {
   "cell_type": "markdown",
   "id": "4d1192e9",
   "metadata": {},
   "source": [
    "## Fitness Shaping with `evosax`'s `FitnessShaper`\n",
    "\n",
    "By default `evosax` will minimize the objective. If you want to instead maximize it (as you commonly do with RL returns) or want to apply any other common ES fitness shaping, you can use the `FitnessShaper`:"
   ]
  },
  {
   "cell_type": "code",
   "execution_count": 10,
   "id": "9c488bab",
   "metadata": {},
   "outputs": [
    {
     "data": {
      "text/plain": [
       "DeviceArray([ 0.49, -0.04, -0.59], dtype=float32)"
      ]
     },
     "execution_count": 10,
     "metadata": {},
     "output_type": "execute_result"
    }
   ],
   "source": [
    "from evosax import FitnessShaper\n",
    "fit_shaper = FitnessShaper(centered_rank=True, w_decay=0.01, maximize=True)\n",
    "\n",
    "x = jnp.array([[1.0], [2.0], [3.0]])\n",
    "fit = jnp.array([0.0, 1.0, 2.0])\n",
    "fit_shaper.apply(x, fit)"
   ]
  },
  {
   "cell_type": "markdown",
   "id": "420cf593-2ea8-473a-9ea4-1cd38e1d7d93",
   "metadata": {},
   "source": [
    "## ARS on CartPole Task\n",
    "\n",
    "`evosax` also comes with a simple fitness evaluation helper for all [`gymnax`](https://github.com/RobertTLange/gymnax) environments (e.g. CartPole, MinAtar, etc.). We will vectorize the rollouts of the different population members:"
   ]
  },
  {
   "cell_type": "code",
   "execution_count": 11,
   "id": "92cbdc9d-fe18-4582-91c8-4713568c1199",
   "metadata": {},
   "outputs": [],
   "source": [
    "from evosax.problems import GymnaxFitness\n",
    "\n",
    "evaluator = GymnaxFitness(\"CartPole-v1\", num_env_steps=200, num_rollouts=16)\n",
    "evaluator.set_apply_fn(network.apply)"
   ]
  },
  {
   "cell_type": "code",
   "execution_count": 12,
   "id": "5186a497",
   "metadata": {},
   "outputs": [
    {
     "data": {
      "text/plain": [
       "EvoParams(opt_params=OptParams(lrate_init=0.05, lrate_decay=1.0, lrate_limit=0.001, momentum=0.0, beta_1=None, beta_2=None, beta_3=None, eps=None, max_speed=None), sigma_init=0.03, sigma_decay=1.0, sigma_limit=0.01, init_min=0.0, init_max=0.0, clip_min=-3.4028235e+38, clip_max=3.4028235e+38)"
      ]
     },
     "execution_count": 12,
     "metadata": {},
     "output_type": "execute_result"
    }
   ],
   "source": [
    "from evosax import ARS\n",
    "\n",
    "strategy = ARS(popsize=100,\n",
    "               num_dims=param_reshaper.total_params,\n",
    "               elite_ratio=0.1, opt_name=\"sgd\")\n",
    "\n",
    "es_params = strategy.default_params\n",
    "es_params = es_params.replace(opt_params=es_params.opt_params.replace(momentum=0.0))\n",
    "es_params"
   ]
  },
  {
   "cell_type": "code",
   "execution_count": 13,
   "id": "c99235f5-6cb1-4e3b-b00b-1b5789d7898e",
   "metadata": {},
   "outputs": [
    {
     "name": "stderr",
     "output_type": "stream",
     "text": [
      "/Users/rob/anaconda3/envs/mle-toolbox/lib/python3.9/site-packages/flax/core/scope.py:740: FutureWarning: jax.tree_leaves is deprecated, and will be removed in a future release. Use jax.tree_util.tree_leaves instead.\n",
      "  abs_value_flat = jax.tree_leaves(abs_value)\n",
      "/Users/rob/anaconda3/envs/mle-toolbox/lib/python3.9/site-packages/flax/core/scope.py:741: FutureWarning: jax.tree_leaves is deprecated, and will be removed in a future release. Use jax.tree_util.tree_leaves instead.\n",
      "  value_flat = jax.tree_leaves(value)\n"
     ]
    },
    {
     "name": "stdout",
     "output_type": "stream",
     "text": [
      "Generation:  0 Performance:  22.875\n",
      "Generation:  5 Performance:  26.25\n",
      "Generation:  10 Performance:  27.8125\n",
      "Generation:  15 Performance:  31.3125\n",
      "Generation:  20 Performance:  53.0\n",
      "Generation:  25 Performance:  99.0625\n",
      "Generation:  30 Performance:  115.8125\n",
      "Generation:  35 Performance:  130.125\n",
      "Generation:  40 Performance:  192.9375\n",
      "Generation:  45 Performance:  200.0\n"
     ]
    },
    {
     "data": {
      "text/plain": [
       "(<Figure size 432x216 with 1 Axes>,\n",
       " <AxesSubplot:title={'center':'CartPole Augmented Random Search'}, xlabel='Number of Generations', ylabel='Fitness Score'>)"
      ]
     },
     "execution_count": 13,
     "metadata": {},
     "output_type": "execute_result"
    },
    {
     "data": {
      "image/png": "[encoded data removed]",
      "text/plain": [
       "<Figure size 432x216 with 1 Axes>"
      ]
     },
     "metadata": {
      "needs_background": "light"
     },
     "output_type": "display_data"
    }
   ],
   "source": [
    "num_generations = 50\n",
    "num_rollouts = 20\n",
    "print_every_k_gens = 5\n",
    "\n",
    "rng = jax.random.PRNGKey(0)\n",
    "es_logging = ESLog(param_reshaper.total_params,\n",
    "                   num_generations,\n",
    "                   top_k=5,\n",
    "                   maximize=True)\n",
    "log = es_logging.initialize()\n",
    "fit_shaper = FitnessShaper(maximize=True)\n",
    "\n",
    "state = strategy.initialize(rng, es_params)\n",
    "\n",
    "for gen in range(num_generations):\n",
    "    rng, rng_init, rng_ask, rng_eval = jax.random.split(rng, 4)\n",
    "    x, state = strategy.ask(rng_ask, state, es_params)\n",
    "    reshaped_params = param_reshaper.reshape(x)\n",
    "    fitness = evaluator.rollout(rng_eval, reshaped_params).mean(axis=1)\n",
    "    fit_re = fit_shaper.apply(x, fitness)\n",
    "    state = strategy.tell(x, fit_re, state, es_params)\n",
    "    log = es_logging.update(log, x, fitness)\n",
    "    \n",
    "    if gen % print_every_k_gens == 0:\n",
    "        print(\"Generation: \", gen, \"Performance: \", -state.best_fitness)\n",
    "    #break\n",
    "        \n",
    "es_logging.plot(log, \"CartPole Augmented Random Search\")"
   ]
  },
  {
   "cell_type": "markdown",
   "id": "50ba4ab2",
   "metadata": {},
   "source": [
    "# More Minimalism (no `es_params`, `fit_shaper` or `param_reshaper`)\n",
    "\n",
    "We also provide utilities that abstract away all the details if you are only interested in a default implementation or want to avoid 10 additional lines of boilerplate code :)\n",
    "\n",
    "This means that you can directly provide the placeholder parameters and fitness shaping arguments at the time of strategy instantiation. Furthermore, if you don't explicitly provide `es_params` at the time of `initialize`, `ask`, `tell` the strategy will use a set of default parameters:"
   ]
  },
  {
   "cell_type": "code",
   "execution_count": 14,
   "id": "e1fab05b",
   "metadata": {},
   "outputs": [
    {
     "name": "stdout",
     "output_type": "stream",
     "text": [
      "ParameterReshaper: 4610 parameters detected for optimization.\n"
     ]
    }
   ],
   "source": [
    "strategy = ARS(popsize=100,\n",
    "               pholder_params=policy_params,\n",
    "               elite_ratio=0.1,\n",
    "               opt_name=\"sgd\",\n",
    "               maximize=True)"
   ]
  },
  {
   "cell_type": "code",
   "execution_count": 15,
   "id": "07ab2a62",
   "metadata": {},
   "outputs": [
    {
     "name": "stdout",
     "output_type": "stream",
     "text": [
      "Generation:  0 Performance:  22.875\n",
      "Generation:  5 Performance:  26.25\n",
      "Generation:  10 Performance:  27.8125\n",
      "Generation:  15 Performance:  31.3125\n",
      "Generation:  20 Performance:  53.0\n",
      "Generation:  25 Performance:  99.0625\n",
      "Generation:  30 Performance:  115.8125\n",
      "Generation:  35 Performance:  130.125\n",
      "Generation:  40 Performance:  192.9375\n",
      "Generation:  45 Performance:  200.0\n"
     ]
    },
    {
     "data": {
      "text/plain": [
       "(<Figure size 432x216 with 1 Axes>,\n",
       " <AxesSubplot:title={'center':'CartPole Augmented Random Search'}, xlabel='Number of Generations', ylabel='Fitness Score'>)"
      ]
     },
     "execution_count": 15,
     "metadata": {},
     "output_type": "execute_result"
    },
    {
     "data": {
      "image/png": "[encoded data removed]",
      "text/plain": [
       "<Figure size 432x216 with 1 Axes>"
      ]
     },
     "metadata": {
      "needs_background": "light"
     },
     "output_type": "display_data"
    }
   ],
   "source": [
    "num_generations = 50\n",
    "num_rollouts = 20\n",
    "print_every_k_gens = 5\n",
    "\n",
    "rng = jax.random.PRNGKey(0)\n",
    "es_logging = ESLog(param_reshaper.total_params,\n",
    "                   num_generations,\n",
    "                   top_k=5,\n",
    "                   maximize=True)\n",
    "\n",
    "# No es_params!\n",
    "state = strategy.initialize(rng)\n",
    "\n",
    "for gen in range(num_generations):\n",
    "    rng, rng_init, rng_ask, rng_eval = jax.random.split(rng, 4)\n",
    "    x, state = strategy.ask(rng_ask, state)\n",
    "    fitness = evaluator.rollout(rng_eval, x).mean(axis=1)\n",
    "    state = strategy.tell(x, fitness, state)\n",
    "    if gen % print_every_k_gens == 0:\n",
    "        print(\"Generation: \", gen, \"Performance: \", state.best_fitness)\n",
    "    #break\n",
    "        \n",
    "es_logging.plot(log, \"CartPole Augmented Random Search\")"
   ]
  },
  {
   "cell_type": "code",
   "execution_count": null,
   "id": "fc13efd2",
   "metadata": {},
   "outputs": [],
   "source": []
  }
 ],
 "metadata": {
  "kernelspec": {
   "display_name": "mle-toolbox",
   "language": "python",
   "name": "mle-toolbox"
  },
  "language_info": {
   "codemirror_mode": {
    "name": "ipython",
    "version": 3
   },
   "file_extension": ".py",
   "mimetype": "text/x-python",
   "name": "python",
   "nbconvert_exporter": "python",
   "pygments_lexer": "ipython3",
   "version": "3.9.7"
  }
 },
 "nbformat": 4,
 "nbformat_minor": 5
}
