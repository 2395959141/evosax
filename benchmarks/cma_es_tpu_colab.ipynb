{
 "cells": [
  {
   "cell_type": "code",
   "execution_count": null,
   "metadata": {},
   "outputs": [],
   "source": [
    "!pip install jax==0.2.4\n",
    "!pip install jaxlib==0.1.57"
   ]
  },
  {
   "cell_type": "code",
   "execution_count": 8,
   "metadata": {},
   "outputs": [],
   "source": [
    "import requests\n",
    "import os\n",
    "import numpy as np\n",
    "from jax.config import config"
   ]
  },
  {
   "cell_type": "markdown",
   "metadata": {},
   "source": [
    "# TPU JAX Colab Setup"
   ]
  },
  {
   "cell_type": "code",
   "execution_count": null,
   "metadata": {},
   "outputs": [],
   "source": [
    "TPU_DRIVER_MODE = 0\n",
    "\n",
    "def setup_tpu():\n",
    "    \"\"\"Sets up Colab to run on TPU.\n",
    "    Note: make sure the Colab Runtime is set to Accelerator: TPU.\n",
    "    \"\"\"\n",
    "    global TPU_DRIVER_MODE\n",
    "\n",
    "    if not TPU_DRIVER_MODE:\n",
    "        colab_tpu_addr = os.environ['COLAB_TPU_ADDR'].split(':')[0]\n",
    "        url = f'http://{colab_tpu_addr}:8475/requestversion/tpu_driver_nightly'\n",
    "        requests.post(url)\n",
    "        TPU_DRIVER_MODE = 1\n",
    "\n",
    "    # The following is required to use TPU Driver as JAX's backend.\n",
    "    config.FLAGS.jax_xla_backend = \"tpu_driver\"\n",
    "    config.FLAGS.jax_backend_target = \"grpc://\" + os.environ['COLAB_TPU_ADDR']\n",
    "\n",
    "setup_tpu()"
   ]
  },
  {
   "cell_type": "code",
   "execution_count": 9,
   "metadata": {},
   "outputs": [
    {
     "data": {
      "text/plain": [
       "[CpuDevice(id=0)]"
      ]
     },
     "execution_count": 9,
     "metadata": {},
     "output_type": "execute_result"
    }
   ],
   "source": [
    "import jax\n",
    "jax.devices()"
   ]
  },
  {
   "cell_type": "markdown",
   "metadata": {},
   "source": [
    "# Import benchmark function from script"
   ]
  },
  {
   "cell_type": "code",
   "execution_count": 10,
   "metadata": {},
   "outputs": [],
   "source": [
    "from speed_accelerator import load_config, benchmark_accelerator"
   ]
  },
  {
   "cell_type": "code",
   "execution_count": null,
   "metadata": {},
   "outputs": [
    {
     "name": "stdout",
     "output_type": "stream",
     "text": [
      "JAX device: [CpuDevice(id=0)], results/tpu_speed_no_jit\n"
     ]
    }
   ],
   "source": [
    "use_tpu = False\n",
    "save_fname = \"results/tpu_speed_no_jit\"\n",
    "\n",
    "print(f\"JAX device: {jax.devices()}, {save_fname}\")\n",
    "config = load_config(\"../examples/configs/train/cma_config.json\")\n",
    "train_config, net_config, log_config = (config.train_config,\n",
    "                                        config.net_config,\n",
    "                                        config.log_config)\n",
    "num_evaluations = 1000 + 1  # Dont use first - used for compilation\n",
    "population_sizes = [100, 200, 300, 400, 500, 600, 700, 800, 900, 1000]\n",
    "#network_sizes = [16, 48, 80, 112, 144]\n",
    "network_sizes = [48]\n",
    "store_times = np.zeros((3, len(population_sizes), len(network_sizes)))\n",
    "for i, hidden_size in enumerate(network_sizes):\n",
    "    for j, pop_size in enumerate(population_sizes):\n",
    "        mean, std, jit_t = benchmark_accelerator(num_evaluations, pop_size, hidden_size,\n",
    "                                                  net_config, train_config, log_config,\n",
    "                                                  True, use_tpu)\n",
    "        # Jitted time, mean, std\n",
    "        store_times[0, len(network_sizes)-1-i, j] = jit_t\n",
    "        store_times[1, len(network_sizes)-1-i, j] = mean\n",
    "        store_times[2, len(network_sizes)-1-i, j] = std\n",
    "        print(hidden_size, pop_size, mean, std, jit_t)\n",
    "np.save(save_fname, store_times)\n"
   ]
  },
  {
   "cell_type": "code",
   "execution_count": null,
   "metadata": {},
   "outputs": [],
   "source": []
  }
 ],
 "metadata": {
  "kernelspec": {
   "display_name": "Python3 (ma-vision)",
   "language": "python",
   "name": "ma-vision"
  },
  "language_info": {
   "codemirror_mode": {
    "name": "ipython",
    "version": 3
   },
   "file_extension": ".py",
   "mimetype": "text/x-python",
   "name": "python",
   "nbconvert_exporter": "python",
   "pygments_lexer": "ipython3",
   "version": "3.6.9"
  }
 },
 "nbformat": 4,
 "nbformat_minor": 4
}
