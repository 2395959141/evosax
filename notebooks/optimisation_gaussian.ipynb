{
 "cells": [
  {
   "cell_type": "code",
   "execution_count": 1,
   "metadata": {},
   "outputs": [],
   "source": [
    "%matplotlib inline\n",
    "%load_ext autoreload\n",
    "%autoreload 2\n",
    "%config InlineBackend.figure_format = 'retina'\n",
    "import sys\n",
    "sys.path.append(\"..\")\n",
    "\n",
    "import numpy as np\n",
    "import matplotlib.pyplot as plt\n",
    "\n",
    "import jax\n",
    "import jax.numpy as jnp\n",
    "\n",
    "from evosax.problems.low_d_optimisation import (batch_rosenbrock,\n",
    "                                                batch_himmelblau,\n",
    "                                                batch_hump_camel)\n",
    "from evosax.utils import init_logger, update_logger"
   ]
  },
  {
   "cell_type": "markdown",
   "metadata": {},
   "source": [
    "# Demo: Ask-Evaluate-Tell API\n",
    "## 2D Rosenbrock Function"
   ]
  },
  {
   "cell_type": "code",
   "execution_count": 2,
   "metadata": {},
   "outputs": [],
   "source": [
    "from evosax.strategies.gaussian import init_strategy, ask, tell"
   ]
  },
  {
   "cell_type": "code",
   "execution_count": 3,
   "metadata": {},
   "outputs": [
    {
     "name": "stderr",
     "output_type": "stream",
     "text": [
      "WARNING:absl:No GPU/TPU found, falling back to CPU. (Set TF_CPP_MIN_LOG_LEVEL=0 and rerun for more info.)\n"
     ]
    },
    {
     "data": {
      "text/plain": [
       "DeviceArray([-0.13642143,  0.18655843], dtype=float32)"
      ]
     },
     "execution_count": 3,
     "metadata": {},
     "output_type": "execute_result"
    }
   ],
   "source": [
    "rng = jax.random.PRNGKey(0)\n",
    "mean_init, sigma_init = jnp.zeros(2), 1.0\n",
    "pop_size, elite_size = 6, 3\n",
    "params, memory = init_strategy(mean_init, sigma_init,\n",
    "                               pop_size, elite_size)\n",
    "\n",
    "# Fix population size, fix elite size\n",
    "rng, rng_input = jax.random.split(rng)\n",
    "x, memory = ask(rng_input, memory, params)\n",
    "value = batch_rosenbrock(x, 1, 100)\n",
    "memory = tell(x, value, elite_size, params, memory)\n",
    "memory[\"mean\"]"
   ]
  },
  {
   "cell_type": "markdown",
   "metadata": {},
   "source": [
    "### Run full Rosenbrock Example with JIT"
   ]
  },
  {
   "cell_type": "code",
   "execution_count": 4,
   "metadata": {},
   "outputs": [
    {
     "name": "stdout",
     "output_type": "stream",
     "text": [
      "# Gen: 20|Fitness: 0.44|Params: [0.3551187  0.11137407]\n",
      "# Gen: 40|Fitness: 0.44|Params: [0.3551187  0.11137407]\n",
      "# Gen: 60|Fitness: 0.43|Params: [0.34923914 0.11388199]\n",
      "# Gen: 80|Fitness: 0.36|Params: [0.40098324 0.16471687]\n",
      "# Gen: 100|Fitness: 0.36|Params: [0.40098324 0.16471687]\n",
      "# Gen: 120|Fitness: 0.36|Params: [0.40098324 0.16471687]\n",
      "# Gen: 140|Fitness: 0.35|Params: [0.40490937 0.16161555]\n",
      "# Gen: 160|Fitness: 0.32|Params: [0.43937033 0.18410683]\n",
      "# Gen: 180|Fitness: 0.30|Params: [0.44871706 0.20019393]\n",
      "# Gen: 200|Fitness: 0.29|Params: [0.45976156 0.20919243]\n"
     ]
    }
   ],
   "source": [
    "a, b = 1, 100\n",
    "num_params = 2\n",
    "pop_size, elite_size = 10, 5\n",
    "mean_init, sigma_init = jnp.zeros(num_params), 1\n",
    "params, memory = init_strategy(mean_init, sigma_init, pop_size, elite_size)\n",
    "\n",
    "top_k = 3\n",
    "\n",
    "evo_logger = init_logger(top_k, num_params)\n",
    "\n",
    "for generation in range(200):\n",
    "    # Ask - Eval - Tell - Log\n",
    "    rng, rng_input = jax.random.split(rng)\n",
    "    x, memory = ask(rng_input, memory, params)\n",
    "    value = batch_rosenbrock(x, a, b)\n",
    "    memory = tell(x, value, elite_size, params, memory)\n",
    "    evo_logger = update_logger(evo_logger, x, value, memory, top_k)\n",
    "    if (generation + 1) % 20 == 0:\n",
    "        print(\"# Gen: {}|Fitness: {:.2f}|Params: {}\".format(generation+1,\n",
    "                                                  evo_logger[\"top_values\"][0],\n",
    "                                                  evo_logger[\"top_params\"][0]))"
   ]
  },
  {
   "cell_type": "markdown",
   "metadata": {},
   "source": [
    "## Schematic Plot of Contour Distribution Updates for CMA-ES"
   ]
  },
  {
   "cell_type": "code",
   "execution_count": 5,
   "metadata": {},
   "outputs": [],
   "source": [
    "from evosax.strategies.cma_es import init_strategy, ask, tell\n",
    "from evosax.visualize.animate_toy import himmelblau_contour"
   ]
  },
  {
   "cell_type": "code",
   "execution_count": 10,
   "metadata": {},
   "outputs": [
    {
     "ename": "NameError",
     "evalue": "name 'init_cma_es' is not defined",
     "output_type": "error",
     "traceback": [
      "\u001b[0;31m---------------------------------------------------------------------------\u001b[0m",
      "\u001b[0;31mNameError\u001b[0m                                 Traceback (most recent call last)",
      "\u001b[0;32m<ipython-input-10-96036aab883a>\u001b[0m in \u001b[0;36m<module>\u001b[0;34m\u001b[0m\n\u001b[1;32m      3\u001b[0m \u001b[0;32mfrom\u001b[0m \u001b[0mscipy\u001b[0m \u001b[0;32mimport\u001b[0m \u001b[0mstats\u001b[0m\u001b[0;34m\u001b[0m\u001b[0;34m\u001b[0m\u001b[0m\n\u001b[1;32m      4\u001b[0m \u001b[0;34m\u001b[0m\u001b[0m\n\u001b[0;32m----> 5\u001b[0;31m \u001b[0;32mfrom\u001b[0m \u001b[0mevosax\u001b[0m\u001b[0;34m.\u001b[0m\u001b[0mvisualize\u001b[0m\u001b[0;34m.\u001b[0m\u001b[0manimate_toy\u001b[0m \u001b[0;32mimport\u001b[0m \u001b[0mhimmelblau_contour\u001b[0m\u001b[0;34m\u001b[0m\u001b[0;34m\u001b[0m\u001b[0m\n\u001b[0m\u001b[1;32m      6\u001b[0m \u001b[0;34m\u001b[0m\u001b[0m\n\u001b[1;32m      7\u001b[0m \u001b[0mobjective\u001b[0m \u001b[0;34m=\u001b[0m \u001b[0mbatch_himmelblau\u001b[0m\u001b[0;34m\u001b[0m\u001b[0;34m\u001b[0m\u001b[0m\n",
      "\u001b[0;32m~/Dropbox/core-code/evosax/evosax/visualize/animate_toy.py\u001b[0m in \u001b[0;36m<module>\u001b[0;34m\u001b[0m\n\u001b[1;32m     69\u001b[0m \u001b[0;34m\u001b[0m\u001b[0m\n\u001b[1;32m     70\u001b[0m \u001b[0msigma\u001b[0m \u001b[0;34m=\u001b[0m \u001b[0;34m(\u001b[0m\u001b[0mx1_upper_bound\u001b[0m \u001b[0;34m-\u001b[0m \u001b[0mx2_lower_bound\u001b[0m\u001b[0;34m)\u001b[0m \u001b[0;34m/\u001b[0m \u001b[0;36m5\u001b[0m\u001b[0;34m\u001b[0m\u001b[0;34m\u001b[0m\u001b[0m\n\u001b[0;32m---> 71\u001b[0;31m es_params, es_memory = init_cma_es(jnp.zeros(2), sigma,\n\u001b[0m\u001b[1;32m     72\u001b[0m                                    population_size=4, mu=2)\n\u001b[1;32m     73\u001b[0m \u001b[0mevo_logger\u001b[0m \u001b[0;34m=\u001b[0m \u001b[0minit_evo_logger\u001b[0m\u001b[0;34m(\u001b[0m\u001b[0;36m4\u001b[0m\u001b[0;34m,\u001b[0m \u001b[0;36m2\u001b[0m\u001b[0;34m)\u001b[0m\u001b[0;34m\u001b[0m\u001b[0;34m\u001b[0m\u001b[0m\n",
      "\u001b[0;31mNameError\u001b[0m: name 'init_cma_es' is not defined"
     ]
    },
    {
     "data": {
      "image/png": "[encoded data removed]",
      "text/plain": [
       "<Figure size 360x720 with 2 Axes>"
      ]
     },
     "metadata": {
      "image/png": {
       "height": 578,
       "width": 324
      },
      "needs_background": "light"
     },
     "output_type": "display_data"
    }
   ],
   "source": [
    "from matplotlib.colors import LinearSegmentedColormap\n",
    "from pylab import rcParams\n",
    "from scipy import stats\n",
    "\n",
    "\n",
    "objective = batch_himmelblau\n",
    "contour_function = himmelblau_contour\n",
    "global_minimums = [(3.0, 2.0),\n",
    "                   (-2.805118, 3.131312),\n",
    "                   (-3.779310, -3.283186),\n",
    "                   (3.584428, -1.848126),]\n",
    "x1_lower_bound, x1_upper_bound = -4, 4\n",
    "x2_lower_bound, x2_upper_bound = -4, 4\n",
    "\n",
    "\n",
    "def himmelblau_contour(x):\n",
    "    return np.log(himmelblau_fct(x) + 1)\n",
    "\n",
    "def himmelblau_fct(x):\n",
    "    return (x[0]**2 + x[1] - 11)**2 + (x[0] + x[1]**2 - 7)**2"
   ]
  },
  {
   "cell_type": "code",
   "execution_count": null,
   "metadata": {},
   "outputs": [],
   "source": [
    "rng = jax.random.PRNGKey(1)\n",
    "\n",
    "sigma = (x1_upper_bound - x2_lower_bound) / 5\n",
    "es_params, es_memory = init_strategy(jnp.zeros(2), sigma,\n",
    "                                     population_size=4, mu=2)\n",
    "evo_logger = init_logger(4, 2)"
   ]
  },
  {
   "cell_type": "code",
   "execution_count": null,
   "metadata": {},
   "outputs": [],
   "source": [
    "def gen_base_plot():\n",
    "    rcParams[\"figure.figsize\"] = 5, 5\n",
    "    fig1, ax1 = plt.subplots(1, 1)\n",
    "    fig2, ax2 = plt.subplots(1, 1)\n",
    "\n",
    "    color_dict = {\n",
    "        \"red\": ((0.0, 0.0, 0.0), (1.0, 1.0, 1.0)),\n",
    "        \"green\": ((0.0, 0.0, 0.0), (1.0, 1.0, 1.0)),\n",
    "        \"blue\": ((0.0, 1.0, 1.0), (1.0, 1.0, 1.0)),\n",
    "        \"yellow\": ((1.0, 1.0, 1.0), (1.0, 1.0, 1.0)),\n",
    "    }\n",
    "    bw = LinearSegmentedColormap(\"BlueWhile\", color_dict)\n",
    "\n",
    "\n",
    "    ax1.set_xlim(x1_lower_bound, x1_upper_bound)\n",
    "    ax1.set_ylim(x2_lower_bound, x2_upper_bound)\n",
    "    ax2.set_xlim(x1_lower_bound, x1_upper_bound)\n",
    "    ax2.set_ylim(x2_lower_bound, x2_upper_bound)\n",
    "    ax1.axis(\"off\")\n",
    "    ax2.axis(\"off\")\n",
    "\n",
    "    # Plot 4 local minimum value\n",
    "    for m in global_minimums:\n",
    "        ax1.plot(m[0], m[1], \"y*\", ms=10)\n",
    "        ax2.plot(m[0], m[1], \"y*\", ms=10)\n",
    "\n",
    "    # Plot contour of himmelbleu function\n",
    "    x1 = np.arange(x1_lower_bound, x1_upper_bound, 0.01)\n",
    "    x2 = np.arange(x2_lower_bound, x2_upper_bound, 0.01)\n",
    "    x1, x2 = np.meshgrid(x1, x2)\n",
    "    x = np.stack([x1, x2])\n",
    "    ax1.contour(x1, x2, contour_function(x), 30, cmap=bw)\n",
    "    fig1.tight_layout()\n",
    "    fig2.tight_layout()\n",
    "    return fig1, ax1, fig2, ax2"
   ]
  },
  {
   "cell_type": "code",
   "execution_count": null,
   "metadata": {},
   "outputs": [],
   "source": [
    "fig1, ax1, fig2, ax2 = gen_base_plot()\n",
    "\n",
    "rng, rng_input = jax.random.split(rng)\n",
    "x, es_memory = ask(rng_input, es_memory, es_params)\n",
    "\n",
    "for i in range(4):\n",
    "    # Plot sample points\n",
    "    ax1.plot(x[i, 0], x[i, 1], \"o\", c=\"r\", alpha=0.5)\n",
    "    ax2.plot(x[i, 0], x[i, 1], \"o\", c=\"r\", alpha=0.5)\n",
    "\n",
    "# Plot multivariate gaussian distribution of CMA-ES\n",
    "xt, yt = np.mgrid[x1_lower_bound:x1_upper_bound:0.01,\n",
    "                x2_lower_bound:x2_upper_bound:0.01]\n",
    "rv = stats.multivariate_normal(np.array(es_memory[\"mean\"]),\n",
    "                               np.array(es_memory[\"C\"]))\n",
    "pos = np.dstack((xt, yt))\n",
    "ax2.contourf(xt, yt, rv.pdf(pos), cmap=\"Reds\")"
   ]
  },
  {
   "cell_type": "code",
   "execution_count": null,
   "metadata": {},
   "outputs": [],
   "source": [
    "fig1, ax1, fig2, ax2 = gen_base_plot()\n",
    "\n",
    "# Plot multivariate gaussian distribution of CMA-ES\n",
    "xt, yt = np.mgrid[x1_lower_bound:x1_upper_bound:0.01,\n",
    "                x2_lower_bound:x2_upper_bound:0.01]\n",
    "rv1 = stats.multivariate_normal(np.array(np.zeros(2)),\n",
    "                               np.array(np.eye(2)))\n",
    "pos = np.dstack((xt, yt))\n",
    "c1 = ax2.contour(xt, yt, rv1.pdf(pos), cmap=\"Reds\", alpha=0.5)\n",
    "\n",
    "value = objective(x, 0)\n",
    "es_memory = tell(x, value, 2, es_params, es_memory)\n",
    "\n",
    "# Plot multivariate gaussian distribution of CMA-ES\n",
    "x, y = np.mgrid[x1_lower_bound:x1_upper_bound:0.01,\n",
    "                x2_lower_bound:x2_upper_bound:0.01]\n",
    "rv2 = stats.multivariate_normal(np.array(es_memory[\"mean\"]),\n",
    "                               np.array(es_memory[\"C\"]))\n",
    "pos = np.dstack((x, y))\n",
    "c2 = ax2.contourf(x, y, rv2.pdf(pos), cmap=\"Reds\")"
   ]
  },
  {
   "cell_type": "code",
   "execution_count": null,
   "metadata": {},
   "outputs": [],
   "source": []
  }
 ],
 "metadata": {
  "kernelspec": {
   "display_name": "Python3 (ma-vision)",
   "language": "python",
   "name": "ma-vision"
  },
  "language_info": {
   "codemirror_mode": {
    "name": "ipython",
    "version": 3
   },
   "file_extension": ".py",
   "mimetype": "text/x-python",
   "name": "python",
   "nbconvert_exporter": "python",
   "pygments_lexer": "ipython3",
   "version": "3.6.9"
  }
 },
 "nbformat": 4,
 "nbformat_minor": 4
}
