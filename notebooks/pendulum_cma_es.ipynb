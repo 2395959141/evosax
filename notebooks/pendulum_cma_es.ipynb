{
 "cells": [
  {
   "cell_type": "code",
   "execution_count": 1,
   "metadata": {},
   "outputs": [],
   "source": [
    "%matplotlib inline\n",
    "%load_ext autoreload\n",
    "%autoreload 2\n",
    "%config InlineBackend.figure_format = 'retina'\n",
    "\n",
    "import sys\n",
    "sys.path.append(\"..\")\n",
    "\n",
    "import jax\n",
    "import jax.numpy as jnp\n",
    "from jax import vmap, jit"
   ]
  },
  {
   "cell_type": "code",
   "execution_count": null,
   "metadata": {},
   "outputs": [],
   "source": [
    "from evosax.problems.pendulum import reset, step\n",
    "from evosax.strategies.cma_es import (init_strategy, ask, tell,\n",
    "                                      check_termination)\n",
    "from evosax.utils import init_logger, update_logger, flat_to_mlp\n",
    "from examples.ffw_pendulum import pendulum_rollout, init_policy_mlp"
   ]
  },
  {
   "cell_type": "code",
   "execution_count": 3,
   "metadata": {},
   "outputs": [
    {
     "name": "stderr",
     "output_type": "stream",
     "text": [
      "WARNING:absl:No GPU/TPU found, falling back to CPU. (Set TF_CPP_MIN_LOG_LEVEL=0 and rerun for more info.)\n"
     ]
    }
   ],
   "source": [
    "rng = jax.random.PRNGKey(0)\n",
    "\n",
    "env_params = {\"max_speed\": 8,\n",
    "              \"max_torque\": 2.,\n",
    "              \"dt\": 0.05,\n",
    "              \"g\": 10.0,\n",
    "              \"m\": 1.,\n",
    "              \"l\": 1.}"
   ]
  },
  {
   "cell_type": "markdown",
   "metadata": {},
   "source": [
    "# Episode Rollout from Randomly Init Policy"
   ]
  },
  {
   "cell_type": "code",
   "execution_count": 4,
   "metadata": {},
   "outputs": [
    {
     "data": {
      "text/plain": [
       "DeviceArray(-600.16327, dtype=float32)"
      ]
     },
     "execution_count": 4,
     "metadata": {},
     "output_type": "execute_result"
    }
   ],
   "source": [
    "# Rollout single episode with lax.scan\n",
    "rng, rng_input = jax.random.split(rng)\n",
    "policy_params = init_policy_mlp(rng_input, 1, [3, 16, 1], scale=1e-2)\n",
    "\n",
    "rng, rng_input = jax.random.split(rng)\n",
    "pendulum_rollout(rng_input, policy_params, env_params, num_steps=200)"
   ]
  },
  {
   "cell_type": "markdown",
   "metadata": {},
   "source": [
    "# Vectorized Parallel Rollout of Eps with vmap"
   ]
  },
  {
   "cell_type": "code",
   "execution_count": 5,
   "metadata": {},
   "outputs": [
    {
     "data": {
      "text/plain": [
       "DeviceArray([ -626.7644 , -1068.5372 , -1775.2993 , -1148.9524 ,\n",
       "              -863.4879 ,  -710.92145,  -940.70044, -1348.8433 ,\n",
       "             -1785.6411 , -1167.9045 ], dtype=float32)"
      ]
     },
     "execution_count": 5,
     "metadata": {},
     "output_type": "execute_result"
    }
   ],
   "source": [
    "# Rollout a batch of parallel episodes using vmap\n",
    "batch_rollout = jit(vmap(pendulum_rollout, in_axes=(0, None, None, None), out_axes=0),\n",
    "                    static_argnums=(3))\n",
    "rng, rng_input = jax.random.split(rng)\n",
    "rollout_keys = jax.random.split(rng_input, 10)\n",
    "batch_rollout(rollout_keys, policy_params, env_params, 200)"
   ]
  },
  {
   "cell_type": "code",
   "execution_count": 6,
   "metadata": {},
   "outputs": [],
   "source": [
    "# Generate a batch of 5 weight initialisations\n",
    "generation_params = init_policy_mlp(rng_input, 5, [3, 16, 1], scale=1e-2)"
   ]
  },
  {
   "cell_type": "code",
   "execution_count": 7,
   "metadata": {},
   "outputs": [
    {
     "name": "stdout",
     "output_type": "stream",
     "text": [
      "(5, 10)\n"
     ]
    }
   ],
   "source": [
    "# Rollout 10 episodes for 5 agents in parallel\n",
    "v_dict = {\"W1\": 0, \"b1\": 0, \"W2\": 0, \"b2\": 0}\n",
    "generation_rollout = jit(vmap(batch_rollout, in_axes=(None, v_dict, None, None),\n",
    "                              out_axes=0), static_argnums=(2, 3))\n",
    "results = generation_rollout(rollout_keys, generation_params, env_params, 200)\n",
    "print(results.shape)"
   ]
  },
  {
   "cell_type": "code",
   "execution_count": 8,
   "metadata": {},
   "outputs": [
    {
     "data": {
      "text/plain": [
       "DeviceArray([ -686.62976, -1067.7191 , -1773.2311 , -1146.1252 ,\n",
       "              -863.0676 ,  -747.9819 ,  -955.11475, -1351.1321 ,\n",
       "             -1787.5454 , -1167.5414 ], dtype=float32)"
      ]
     },
     "execution_count": 8,
     "metadata": {},
     "output_type": "execute_result"
    }
   ],
   "source": [
    "# Sanity check on one of the 5\n",
    "i = 1\n",
    "policy_sub = {\"W1\": generation_params[\"W1\"][i],\n",
    "              \"b1\": generation_params[\"b1\"][i],\n",
    "              \"W2\": generation_params[\"W2\"][i],\n",
    "              \"b2\": generation_params[\"b2\"][i]}\n",
    "batch_rollout(rollout_keys, policy_sub, env_params, 200)"
   ]
  },
  {
   "cell_type": "markdown",
   "metadata": {},
   "source": [
    "# Neuroevolution with CMA-ES"
   ]
  },
  {
   "cell_type": "code",
   "execution_count": 9,
   "metadata": {},
   "outputs": [],
   "source": [
    "num_params = 3*32 + 32 + 32*1 + 1\n",
    "rng = jax.random.PRNGKey(0)\n",
    "mean_init, sigma_init = jnp.zeros(num_params), 0.1\n",
    "pop_size, elite_size = 500, 250\n",
    "num_evals_per_gen = 50\n",
    "num_generations = 500\n",
    "\n",
    "params, memory = init_strategy(mean_init, sigma_init, pop_size, elite_size)"
   ]
  },
  {
   "cell_type": "code",
   "execution_count": 10,
   "metadata": {},
   "outputs": [
    {
     "data": {
      "text/plain": [
       "161"
      ]
     },
     "execution_count": 10,
     "metadata": {},
     "output_type": "execute_result"
    }
   ],
   "source": [
    "mean_init.shape[0]"
   ]
  },
  {
   "cell_type": "code",
   "execution_count": 11,
   "metadata": {},
   "outputs": [],
   "source": [
    "x, memory = ask(rng, memory, params)"
   ]
  },
  {
   "cell_type": "code",
   "execution_count": 12,
   "metadata": {},
   "outputs": [],
   "source": [
    "generation_params = flat_to_mlp(x, sizes=[3, 32, 1])\n",
    "rng, rng_input = jax.random.split(rng)\n",
    "rollout_keys = jax.random.split(rng_input, num_evals_per_gen)\n",
    "\n",
    "population_returns = generation_rollout(rollout_keys, generation_params, env_params, 200)\n",
    "value = - population_returns.mean(axis=1)\n",
    "memory = tell(x, value, elite_size, params, memory)"
   ]
  },
  {
   "cell_type": "markdown",
   "metadata": {},
   "source": [
    "# Run generation loop on Pendulum Task"
   ]
  },
  {
   "cell_type": "code",
   "execution_count": null,
   "metadata": {},
   "outputs": [],
   "source": [
    "rng = jax.random.PRNGKey(0)\n",
    "\n",
    "num_params = 3*48 + 48 + 48*1 + 1\n",
    "pop_size, elite_size = 100, 50\n",
    "mean_init, sigma_init = jnp.zeros(num_params), 0.1\n",
    "\n",
    "top_k = 5\n",
    "evo_logger = init_logger(top_k, num_params)\n",
    "\n",
    "params, memory = init_strategy(mean_init, sigma_init,\n",
    "                               pop_size, elite_size)\n",
    "\n",
    "for g in range(num_generations):\n",
    "    rng, rng_input = jax.random.split(rng)\n",
    "    x, memory = ask(rng_input, memory, params)\n",
    "    generation_params = flat_to_mlp(x, sizes=[3, 48, 1])\n",
    "    rng, rng_input = jax.random.split(rng)\n",
    "    rollout_keys = jax.random.split(rng_input, num_evals_per_gen)\n",
    "\n",
    "    population_returns = generation_rollout(rollout_keys, generation_params,\n",
    "                                            env_params, 200)\n",
    "    values = - population_returns.mean(axis=1)\n",
    "    memory = tell(x, values, elite_size, params, memory)\n",
    "    evo_logger = update_logger(evo_logger, x, values, memory, top_k)\n",
    "    if (g + 1) in [50, 200, 350, 500]:\n",
    "        print(g+1, values.min())\n",
    "        # jnp.save(\"gen_\" + str(g+1), evo_logger[\"top_params\"])\n",
    "        if check_termination(values, params, memory):\n",
    "            break"
   ]
  }
 ],
 "metadata": {
  "kernelspec": {
   "display_name": "Python3 (ma-vision)",
   "language": "python",
   "name": "ma-vision"
  },
  "language_info": {
   "codemirror_mode": {
    "name": "ipython",
    "version": 3
   },
   "file_extension": ".py",
   "mimetype": "text/x-python",
   "name": "python",
   "nbconvert_exporter": "python",
   "pygments_lexer": "ipython3",
   "version": "3.6.9"
  }
 },
 "nbformat": 4,
 "nbformat_minor": 4
}
