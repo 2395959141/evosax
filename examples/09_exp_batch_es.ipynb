{
 "cells": [
  {
   "cell_type": "markdown",
   "metadata": {},
   "source": [
    "# 09 - Batch Strategy Rollouts\n",
    "### [Last Update: June 2022][![Colab](https://colab.research.google.com/assets/colab-badge.svg)](https://colab.research.google.com/github/RobertTLange/evosax/blob/main/examples/09_exp_batch_es.ipynb)"
   ]
  },
  {
   "cell_type": "code",
   "execution_count": 1,
   "metadata": {},
   "outputs": [],
   "source": [
    "%matplotlib inline\n",
    "%load_ext autoreload\n",
    "%autoreload 2\n",
    "%config InlineBackend.figure_format = 'retina'\n",
    "\n",
    "!pip install git+https://github.com/RobertTLange/evosax.git@main"
   ]
  },
  {
   "cell_type": "markdown",
   "metadata": {},
   "source": [
    "## Experimental (!!!) - Subpopulation Batch ES Rollouts"
   ]
  },
  {
   "cell_type": "code",
   "execution_count": 1,
   "metadata": {},
   "outputs": [
    {
     "name": "stderr",
     "output_type": "stream",
     "text": [
      "<frozen importlib._bootstrap>:228: RuntimeWarning: scipy._lib.messagestream.MessageStream size changed, may indicate binary incompatibility. Expected 56 from C header, got 64 from PyObject\n",
      "WARNING:absl:No GPU/TPU found, falling back to CPU. (Set TF_CPP_MIN_LOG_LEVEL=0 and rerun for more info.)\n"
     ]
    },
    {
     "name": "stdout",
     "output_type": "stream",
     "text": [
      "ParameterReshaper: 4610 parameters detected for optimization.\n"
     ]
    }
   ],
   "source": [
    "import jax\n",
    "import jax.numpy as jnp\n",
    "from evosax import NetworkMapper\n",
    "from evosax.problems import GymFitness\n",
    "from evosax.utils import ParameterReshaper, FitnessShaper\n",
    "\n",
    "rng = jax.random.PRNGKey(0)\n",
    "# Run Strategy on CartPole MLP\n",
    "evaluator = GymFitness(\"CartPole-v1\", num_env_steps=200, num_rollouts=16)\n",
    "\n",
    "network = NetworkMapper[\"MLP\"](\n",
    "    num_hidden_units=64,\n",
    "    num_hidden_layers=2,\n",
    "    num_output_units=2,\n",
    "    hidden_activation=\"relu\",\n",
    "    output_activation=\"categorical\",\n",
    ")\n",
    "pholder = jnp.zeros((1, evaluator.input_shape[0]))\n",
    "params = network.init(\n",
    "    rng,\n",
    "    x=pholder,\n",
    "    rng=rng,\n",
    ")\n",
    "\n",
    "reshaper = ParameterReshaper(params)\n",
    "evaluator.set_apply_fn(reshaper.vmap_dict, network.apply)\n",
    "\n",
    "fit_shaper = FitnessShaper(maximize=True)\n"
   ]
  },
  {
   "cell_type": "code",
   "execution_count": 9,
   "metadata": {},
   "outputs": [],
   "source": [
    "from evosax.experimental.subpops import BatchStrategy\n",
    "\n",
    "strategy = BatchStrategy(\n",
    "    strategy_name=\"DE\",\n",
    "    num_dims=reshaper.total_params,\n",
    "    popsize=100,\n",
    "    num_subpops=5,\n",
    "    communication=\"best_subpop\",\n",
    ")\n",
    "params = strategy.default_params\n",
    "state = strategy.initialize(rng, params)"
   ]
  },
  {
   "cell_type": "code",
   "execution_count": 10,
   "metadata": {},
   "outputs": [
    {
     "name": "stdout",
     "output_type": "stream",
     "text": [
      "1 22.464375 26.3125 2.0493376 [-26.3125 -26.3125 -26.3125 -26.3125 -26.3125]\n",
      "2 22.575624 29.75 2.9526908 [-29.75 -29.75 -29.75 -29.75 -29.75]\n",
      "3 22.914999 29.125 3.4180415 [-29.75 -29.75 -29.75 -29.75 -29.75]\n",
      "4 19.238125 28.9375 2.5196369 [-29.75 -29.75 -29.75 -29.75 -29.75]\n",
      "5 19.704374 33.0625 2.316076 [-33.0625 -33.0625 -33.0625 -33.0625 -33.0625]\n",
      "6 23.7925 61.875 9.7088585 [-61.875 -61.875 -61.875 -61.875 -61.875]\n",
      "7 35.21 118.5625 16.621597 [-118.5625 -118.5625 -118.5625 -118.5625 -118.5625]\n",
      "8 38.021873 86.375 18.679571 [-118.5625 -118.5625 -118.5625 -118.5625 -118.5625]\n",
      "9 45.83875 148.75 31.13269 [-148.75 -148.75 -148.75 -148.75 -148.75]\n",
      "10 36.0625 125.6875 28.167828 [-148.75 -148.75 -148.75 -148.75 -148.75]\n",
      "11 44.895 182.9375 38.524178 [-182.9375 -182.9375 -182.9375 -182.9375 -182.9375]\n",
      "12 49.030624 170.0 36.70624 [-182.9375 -182.9375 -182.9375 -182.9375 -182.9375]\n",
      "13 47.264374 170.75 32.65505 [-182.9375 -182.9375 -182.9375 -182.9375 -182.9375]\n",
      "14 47.146248 174.8125 35.011383 [-182.9375 -182.9375 -182.9375 -182.9375 -182.9375]\n",
      "15 57.025623 200.0 45.128643 [-200. -200. -200. -200. -200.]\n",
      "16 87.83625 200.0 69.39789 [-200. -200. -200. -200. -200.]\n",
      "17 73.627495 200.0 65.97414 [-200. -200. -200. -200. -200.]\n",
      "18 75.694374 200.0 58.033886 [-200. -200. -200. -200. -200.]\n",
      "19 73.02125 200.0 65.48465 [-200. -200. -200. -200. -200.]\n",
      "20 82.159996 200.0 70.50161 [-200. -200. -200. -200. -200.]\n"
     ]
    }
   ],
   "source": [
    "for t in range(20):\n",
    "    rng, rng_eval, rng_iter = jax.random.split(rng, 3)\n",
    "    x, state = strategy.ask(rng_iter, state, params)\n",
    "    x_re = reshaper.reshape(x)\n",
    "    fitness = evaluator.rollout(rng_eval, x_re).mean(axis=1)\n",
    "    fit_re = fit_shaper.apply(x, fitness)\n",
    "    state = strategy.tell(x, fit_re, state, params)\n",
    "\n",
    "    if t % 1 == 0:\n",
    "        print(\n",
    "            t + 1,\n",
    "            fitness.mean(),\n",
    "            fitness.max(),\n",
    "            fitness.std(),\n",
    "            state.best_fitness,  # Best fitness in all subpops\n",
    "        )"
   ]
  },
  {
   "cell_type": "markdown",
   "metadata": {},
   "source": [
    "## Experimental (!!!) - Subpopulation Meta-Batch ES Rollouts"
   ]
  },
  {
   "cell_type": "code",
   "execution_count": 12,
   "metadata": {},
   "outputs": [
    {
     "data": {
      "text/plain": [
       "EvoParams(mu_eff=DeviceArray(1.6496499, dtype=float32), c_1=DeviceArray(0.15949409, dtype=float32), c_mu=DeviceArray(0.02899084, dtype=float32), c_sigma=DeviceArray(0.42194194, dtype=float32), d_sigma=DeviceArray(1.421942, dtype=float32), c_c=DeviceArray(0.63072497, dtype=float32), chi_n=DeviceArray(1.2542727, dtype=float32), weights=DeviceArray([ 0.73042274,  0.2695773 ,  0.        , -0.726532  ,\n",
       "             -1.2900741 ], dtype=float32), weights_truncated=DeviceArray([0.73042274, 0.2695773 , 0.        , 0.        , 0.        ],            dtype=float32), c_m=1.0, sigma_init=0.065, init_min=DeviceArray([0.8, 0.9], dtype=float32), init_max=DeviceArray([0.8, 0.9], dtype=float32), clip_min=-3.4028235e+38, clip_max=3.4028235e+38)"
      ]
     },
     "execution_count": 12,
     "metadata": {},
     "output_type": "execute_result"
    }
   ],
   "source": [
    "from evosax.experimental.subpops import MetaStrategy\n",
    "\n",
    "meta_strategy = MetaStrategy(\n",
    "        meta_strategy_name=\"CMA_ES\",\n",
    "        inner_strategy_name=\"DE\",\n",
    "        meta_params=[\"diff_w\", \"cross_over_rate\"],\n",
    "        num_dims=reshaper.total_params,\n",
    "        popsize=100,\n",
    "        num_subpops=5,\n",
    "        meta_strategy_kwargs={\"elite_ratio\": 0.5},\n",
    "    )\n",
    "meta_es_params = meta_strategy.default_params_meta\n",
    "meta_es_params.replace(\n",
    "    clip_min=jnp.array([0, 0]), clip_max=jnp.array([2, 1])\n",
    ")\n",
    "meta_es_params"
   ]
  },
  {
   "cell_type": "code",
   "execution_count": 17,
   "metadata": {},
   "outputs": [
    {
     "name": "stdout",
     "output_type": "stream",
     "text": [
      "1 20.289999 23.5 1.0141777 [-22.125 -23.5   -23.5   -23.5   -22.125]\n",
      "[0.879098   0.76078224 0.7285294  0.8667383  0.9170291 ]\n",
      "[0.87730575 0.89257807 0.88649285 0.8704477  0.95789057]\n",
      "====================\n",
      "2 23.526875 27.8125 2.8445435 [-27.75   -27.75   -27.5625 -27.8125 -27.5625]\n",
      "[0.7529136  0.75194293 0.75470865 0.73406416 0.7236362 ]\n",
      "[0.92120713 0.80959445 0.904763   0.9089725  0.9178807 ]\n",
      "====================\n",
      "3 18.4025 23.375 1.7486227 [-27.75   -27.75   -27.5625 -27.8125 -27.5625]\n",
      "[0.76000106 0.7763824  0.80698913 0.7326284  0.79374725]\n",
      "[0.8445878  0.90652514 0.9469857  0.9224319  0.8527581 ]\n",
      "====================\n",
      "4 20.2475 28.875 2.2587662 [-27.75   -27.75   -27.5625 -28.875  -27.5625]\n",
      "[0.8238988 0.7451631 0.7800138 0.8030797 0.7789296]\n",
      "[0.81761867 0.87493116 0.85717034 0.8252281  0.8858736 ]\n",
      "====================\n",
      "5 21.651875 26.75 2.3301566 [-27.75   -27.75   -27.5625 -28.875  -27.5625]\n",
      "[0.7483712  0.78120756 0.7842538  0.8036731  0.8382279 ]\n",
      "[0.8533484  0.85126436 0.81118304 0.87271136 0.7978533 ]\n",
      "====================\n",
      "6 24.300625 32.5625 3.8705084 [-30.1875 -30.75   -28.5625 -32.5625 -29.625 ]\n",
      "[0.7154043  0.73717016 0.74947    0.75264627 0.7836797 ]\n",
      "[0.8599149  0.8408388  0.80433404 0.9227266  0.866442  ]\n",
      "====================\n",
      "7 22.035 33.8125 4.2435365 [-33.8125 -30.75   -28.875  -32.5625 -30.3125]\n",
      "[0.73832107 0.7330418  0.80643374 0.7836552  0.74030274]\n",
      "[0.8556646  0.80183303 0.82818526 0.83224803 0.84638065]\n",
      "====================\n",
      "8 22.17375 49.0 7.518158 [-45.5625 -42.0625 -28.875  -49.     -45.4375]\n",
      "[0.7866129  0.73554915 0.7203534  0.752935   0.69754535]\n",
      "[0.84873676 0.8862246  0.83316815 0.79738003 0.8420979 ]\n",
      "====================\n",
      "9 23.22 70.8125 12.524904 [-60.6875 -70.8125 -28.875  -66.5    -45.4375]\n",
      "[0.73071593 0.7588424  0.7373127  0.78221434 0.819327  ]\n",
      "[0.8632609  0.85133994 0.88077104 0.8476571  0.82447743]\n",
      "====================\n",
      "10 27.818125 95.25 17.123335 [-60.6875 -70.8125 -28.875  -67.0625 -95.25  ]\n",
      "[0.74657243 0.73996896 0.74008286 0.77336246 0.76170486]\n",
      "[0.8573377  0.8602473  0.8592791  0.8566864  0.87690324]\n",
      "====================\n",
      "11 33.4875 170.375 33.512127 [-147.625  -149.6875  -28.875   -89.5625 -170.375 ]\n",
      "[0.74657285 0.77310294 0.7667397  0.79113615 0.7745692 ]\n",
      "[0.8604234  0.8604967  0.801528   0.87977314 0.8678907 ]\n",
      "====================\n",
      "12 41.148125 180.875 36.242935 [-147.625  -180.875   -28.875   -89.5625 -170.375 ]\n",
      "[0.784878  0.7705825 0.7628718 0.7921372 0.7565861]\n",
      "[0.8717209  0.84912974 0.8673709  0.847437   0.8717182 ]\n",
      "====================\n",
      "13 47.984375 200.0 39.957558 [-147.625  -200.      -28.875   -89.5625 -180.5   ]\n",
      "[0.76560074 0.76622653 0.7893174  0.77328974 0.7705352 ]\n",
      "[0.8389833  0.852461   0.86471146 0.8482863  0.86811644]\n",
      "====================\n",
      "14 44.32375 200.0 47.0014 [-147.625 -200.     -28.875  -94.5   -200.   ]\n",
      "[0.7761689  0.7649889  0.78513336 0.76904625 0.775042  ]\n",
      "[0.85951185 0.854263   0.87067384 0.8597369  0.86205065]\n",
      "====================\n",
      "15 52.1825 200.0 46.55368 [-147.625 -200.     -28.875  -94.5   -200.   ]\n",
      "[0.76948667 0.76638454 0.7677278  0.79087144 0.7603321 ]\n",
      "[0.8666052  0.86009985 0.84476924 0.8650915  0.85453224]\n",
      "====================\n",
      "16 52.930622 200.0 51.577286 [-149.9375 -200.      -28.875  -132.625  -200.    ]\n",
      "[0.75860137 0.77249414 0.75932413 0.76306224 0.7624783 ]\n",
      "[0.8530121  0.8678422  0.8509262  0.85580117 0.8567307 ]\n",
      "====================\n",
      "17 51.984375 192.9375 48.96752 [-175.875 -200.     -28.875 -132.625 -200.   ]\n",
      "[0.7763821  0.7706568  0.7801008  0.7734966  0.77879196]\n",
      "[0.8634914  0.85994005 0.87226665 0.85772806 0.87526596]\n",
      "====================\n",
      "18 63.015 200.0 56.433624 [-190.25  -200.     -28.875 -183.125 -200.   ]\n",
      "[0.77782947 0.7740208  0.77715224 0.7852487  0.77923805]\n",
      "[0.8703792  0.86372644 0.8684063  0.8587013  0.8679136 ]\n",
      "====================\n",
      "19 60.641247 200.0 54.19631 [-190.25  -200.     -28.875 -183.125 -200.   ]\n",
      "[0.7771916  0.78043425 0.78965497 0.77828103 0.783827  ]\n",
      "[0.8698033  0.8648427  0.86594695 0.8754562  0.8779571 ]\n",
      "====================\n",
      "20 54.751247 200.0 51.718987 [-190.25  -200.     -28.875 -200.    -200.   ]\n",
      "[0.77753127 0.78207856 0.78387165 0.7841341  0.7895221 ]\n",
      "[0.87135184 0.87689304 0.8684612  0.8671708  0.8700651 ]\n",
      "====================\n"
     ]
    }
   ],
   "source": [
    "# META: Initialize the meta strategy state\n",
    "inner_es_params = meta_strategy.default_params\n",
    "meta_state = meta_strategy.initialize_meta(rng, meta_es_params)\n",
    "\n",
    "# META: Get altered inner es hyperparams (placeholder for init)\n",
    "inner_es_params, meta_state = meta_strategy.ask_meta(\n",
    "    rng, meta_state, meta_es_params, inner_es_params\n",
    ")\n",
    "\n",
    "# INNER: Initialize the inner batch ES\n",
    "state = meta_strategy.initialize(rng, inner_es_params)\n",
    "\n",
    "for t in range(20):\n",
    "    rng, rng_eval, rng_iter = jax.random.split(rng, 3)\n",
    "\n",
    "    # META: Get altered inner es hyperparams\n",
    "    inner_es_params, meta_state = meta_strategy.ask_meta(\n",
    "    rng, meta_state, meta_es_params, inner_es_params\n",
    "    )\n",
    "\n",
    "    # INNER: Ask for inner candidate params to evaluate on problem\n",
    "    x, state = meta_strategy.ask(rng_iter, state, inner_es_params)\n",
    "\n",
    "    # INNER: Update using pseudo fitness\n",
    "    x_re = reshaper.reshape(x)\n",
    "    fitness = evaluator.rollout(rng_eval, x_re).mean(axis=1)\n",
    "    fit_re = fit_shaper.apply(x, fitness)\n",
    "    state = meta_strategy.tell(x, fit_re, state, inner_es_params)\n",
    "\n",
    "    # META: Update the meta strategy\n",
    "    meta_state = meta_strategy.tell_meta(\n",
    "        inner_es_params, fit_re, meta_state, meta_es_params\n",
    "    )\n",
    "\n",
    "    if t % 1 == 0:\n",
    "        print(\n",
    "            t + 1,\n",
    "            fitness.mean(),\n",
    "            fitness.max(),\n",
    "            fitness.std(),\n",
    "            state.best_fitness,  # Best fitness in all subpops\n",
    "        )\n",
    "        print(inner_es_params.diff_w)\n",
    "        print(inner_es_params.cross_over_rate)\n",
    "        print(20 * \"=\")\n"
   ]
  },
  {
   "cell_type": "code",
   "execution_count": null,
   "metadata": {},
   "outputs": [],
   "source": []
  }
 ],
 "metadata": {
  "kernelspec": {
   "display_name": "mle-toolbox",
   "language": "python",
   "name": "mle-toolbox"
  },
  "language_info": {
   "codemirror_mode": {
    "name": "ipython",
    "version": 3
   },
   "file_extension": ".py",
   "mimetype": "text/x-python",
   "name": "python",
   "nbconvert_exporter": "python",
   "pygments_lexer": "ipython3",
   "version": "3.9.7"
  }
 },
 "nbformat": 4,
 "nbformat_minor": 4
}
