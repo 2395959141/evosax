{
  "cells": [
    {
      "cell_type": "markdown",
      "metadata": {
        "id": "view-in-github",
        "colab_type": "text"
      },
      "source": [
        "<a href=\"https://colab.research.google.com/github/2395959141/evosax/blob/test1/%E2%80%9CEvotf_ES_brax_control_test_ipynb%E2%80%9D%E7%9A%84%E5%89%AF%E6%9C%AC2024_9_2.ipynb\" target=\"_parent\"><img src=\"https://colab.research.google.com/assets/colab-badge.svg\" alt=\"Open In Colab\"/></a>"
      ]
    },
    {
      "cell_type": "code",
      "execution_count": 1,
      "metadata": {
        "id": "CqFxd05PVcnb"
      },
      "outputs": [],
      "source": [
        "%matplotlib inline\n",
        "%load_ext autoreload\n",
        "%autoreload 2\n",
        "%config InlineBackend.figure_format = 'retina'"
      ]
    },
    {
      "cell_type": "code",
      "source": [
        "!pip install evojax"
      ],
      "metadata": {
        "id": "v7rlsNGDVzQr",
        "outputId": "6260697c-dd25-4df6-e46c-3b3888f81f16",
        "colab": {
          "base_uri": "https://localhost:8080/"
        }
      },
      "execution_count": 2,
      "outputs": [
        {
          "output_type": "stream",
          "name": "stdout",
          "text": [
            "Collecting evojax\n",
            "  Downloading evojax-0.2.17-py3-none-any.whl.metadata (13 kB)\n",
            "Requirement already satisfied: flax in /usr/local/lib/python3.10/dist-packages (from evojax) (0.8.4)\n",
            "Requirement already satisfied: jax>=0.2.17 in /usr/local/lib/python3.10/dist-packages (from evojax) (0.4.26)\n",
            "Requirement already satisfied: jaxlib>=0.1.65 in /usr/local/lib/python3.10/dist-packages (from evojax) (0.4.26+cuda12.cudnn89)\n",
            "Requirement already satisfied: Pillow in /usr/local/lib/python3.10/dist-packages (from evojax) (9.4.0)\n",
            "Collecting cma (from evojax)\n",
            "  Downloading cma-3.4.0-py3-none-any.whl.metadata (8.0 kB)\n",
            "Requirement already satisfied: matplotlib in /usr/local/lib/python3.10/dist-packages (from evojax) (3.7.1)\n",
            "Requirement already satisfied: pyyaml in /usr/local/lib/python3.10/dist-packages (from evojax) (6.0.2)\n",
            "Requirement already satisfied: ml-dtypes>=0.2.0 in /usr/local/lib/python3.10/dist-packages (from jax>=0.2.17->evojax) (0.4.0)\n",
            "Requirement already satisfied: numpy>=1.22 in /usr/local/lib/python3.10/dist-packages (from jax>=0.2.17->evojax) (1.26.4)\n",
            "Requirement already satisfied: opt-einsum in /usr/local/lib/python3.10/dist-packages (from jax>=0.2.17->evojax) (3.3.0)\n",
            "Requirement already satisfied: scipy>=1.9 in /usr/local/lib/python3.10/dist-packages (from jax>=0.2.17->evojax) (1.13.1)\n",
            "Requirement already satisfied: msgpack in /usr/local/lib/python3.10/dist-packages (from flax->evojax) (1.0.8)\n",
            "Requirement already satisfied: optax in /usr/local/lib/python3.10/dist-packages (from flax->evojax) (0.2.2)\n",
            "Requirement already satisfied: orbax-checkpoint in /usr/local/lib/python3.10/dist-packages (from flax->evojax) (0.6.1)\n",
            "Requirement already satisfied: tensorstore in /usr/local/lib/python3.10/dist-packages (from flax->evojax) (0.1.64)\n",
            "Requirement already satisfied: rich>=11.1 in /usr/local/lib/python3.10/dist-packages (from flax->evojax) (13.8.0)\n",
            "Requirement already satisfied: typing-extensions>=4.2 in /usr/local/lib/python3.10/dist-packages (from flax->evojax) (4.12.2)\n",
            "Requirement already satisfied: contourpy>=1.0.1 in /usr/local/lib/python3.10/dist-packages (from matplotlib->evojax) (1.2.1)\n",
            "Requirement already satisfied: cycler>=0.10 in /usr/local/lib/python3.10/dist-packages (from matplotlib->evojax) (0.12.1)\n",
            "Requirement already satisfied: fonttools>=4.22.0 in /usr/local/lib/python3.10/dist-packages (from matplotlib->evojax) (4.53.1)\n",
            "Requirement already satisfied: kiwisolver>=1.0.1 in /usr/local/lib/python3.10/dist-packages (from matplotlib->evojax) (1.4.5)\n",
            "Requirement already satisfied: packaging>=20.0 in /usr/local/lib/python3.10/dist-packages (from matplotlib->evojax) (24.1)\n",
            "Requirement already satisfied: pyparsing>=2.3.1 in /usr/local/lib/python3.10/dist-packages (from matplotlib->evojax) (3.1.4)\n",
            "Requirement already satisfied: python-dateutil>=2.7 in /usr/local/lib/python3.10/dist-packages (from matplotlib->evojax) (2.8.2)\n",
            "Requirement already satisfied: six>=1.5 in /usr/local/lib/python3.10/dist-packages (from python-dateutil>=2.7->matplotlib->evojax) (1.16.0)\n",
            "Requirement already satisfied: markdown-it-py>=2.2.0 in /usr/local/lib/python3.10/dist-packages (from rich>=11.1->flax->evojax) (3.0.0)\n",
            "Requirement already satisfied: pygments<3.0.0,>=2.13.0 in /usr/local/lib/python3.10/dist-packages (from rich>=11.1->flax->evojax) (2.16.1)\n",
            "Requirement already satisfied: absl-py>=0.7.1 in /usr/local/lib/python3.10/dist-packages (from optax->flax->evojax) (1.4.0)\n",
            "Requirement already satisfied: chex>=0.1.86 in /usr/local/lib/python3.10/dist-packages (from optax->flax->evojax) (0.1.86)\n",
            "Requirement already satisfied: etils[epath,epy] in /usr/local/lib/python3.10/dist-packages (from orbax-checkpoint->flax->evojax) (1.7.0)\n",
            "Requirement already satisfied: nest_asyncio in /usr/local/lib/python3.10/dist-packages (from orbax-checkpoint->flax->evojax) (1.6.0)\n",
            "Requirement already satisfied: protobuf in /usr/local/lib/python3.10/dist-packages (from orbax-checkpoint->flax->evojax) (3.20.3)\n",
            "Requirement already satisfied: humanize in /usr/local/lib/python3.10/dist-packages (from orbax-checkpoint->flax->evojax) (4.10.0)\n",
            "Requirement already satisfied: toolz>=0.9.0 in /usr/local/lib/python3.10/dist-packages (from chex>=0.1.86->optax->flax->evojax) (0.12.1)\n",
            "Requirement already satisfied: mdurl~=0.1 in /usr/local/lib/python3.10/dist-packages (from markdown-it-py>=2.2.0->rich>=11.1->flax->evojax) (0.1.2)\n",
            "Requirement already satisfied: fsspec in /usr/local/lib/python3.10/dist-packages (from etils[epath,epy]->orbax-checkpoint->flax->evojax) (2024.6.1)\n",
            "Requirement already satisfied: importlib_resources in /usr/local/lib/python3.10/dist-packages (from etils[epath,epy]->orbax-checkpoint->flax->evojax) (6.4.4)\n",
            "Requirement already satisfied: zipp in /usr/local/lib/python3.10/dist-packages (from etils[epath,epy]->orbax-checkpoint->flax->evojax) (3.20.1)\n",
            "Downloading evojax-0.2.17-py3-none-any.whl (96 kB)\n",
            "\u001b[2K   \u001b[90m━━━━━━━━━━━━━━━━━━━━━━━━━━━━━━━━━━━━━━━━\u001b[0m \u001b[32m96.1/96.1 kB\u001b[0m \u001b[31m1.4 MB/s\u001b[0m eta \u001b[36m0:00:00\u001b[0m\n",
            "\u001b[?25hDownloading cma-3.4.0-py3-none-any.whl (269 kB)\n",
            "\u001b[2K   \u001b[90m━━━━━━━━━━━━━━━━━━━━━━━━━━━━━━━━━━━━━━━━\u001b[0m \u001b[32m269.7/269.7 kB\u001b[0m \u001b[31m4.2 MB/s\u001b[0m eta \u001b[36m0:00:00\u001b[0m\n",
            "\u001b[?25hInstalling collected packages: cma, evojax\n",
            "Successfully installed cma-3.4.0 evojax-0.2.17\n"
          ]
        }
      ]
    },
    {
      "cell_type": "code",
      "source": [
        "!pip install brax\n"
      ],
      "metadata": {
        "id": "Vqd7CdOEV7xf",
        "outputId": "762b07a9-0664-4d29-bcdd-72bf1fc7986e",
        "colab": {
          "base_uri": "https://localhost:8080/"
        }
      },
      "execution_count": 3,
      "outputs": [
        {
          "output_type": "stream",
          "name": "stdout",
          "text": [
            "Collecting brax\n",
            "  Downloading brax-0.10.5-py3-none-any.whl.metadata (7.7 kB)\n",
            "Requirement already satisfied: absl-py in /usr/local/lib/python3.10/dist-packages (from brax) (1.4.0)\n",
            "Collecting dm-env (from brax)\n",
            "  Downloading dm_env-1.6-py3-none-any.whl.metadata (966 bytes)\n",
            "Requirement already satisfied: etils in /usr/local/lib/python3.10/dist-packages (from brax) (1.7.0)\n",
            "Requirement already satisfied: flask in /usr/local/lib/python3.10/dist-packages (from brax) (2.2.5)\n",
            "Collecting flask-cors (from brax)\n",
            "  Downloading Flask_Cors-5.0.0-py2.py3-none-any.whl.metadata (5.5 kB)\n",
            "Requirement already satisfied: flax in /usr/local/lib/python3.10/dist-packages (from brax) (0.8.4)\n",
            "Requirement already satisfied: grpcio in /usr/local/lib/python3.10/dist-packages (from brax) (1.64.1)\n",
            "Requirement already satisfied: gym in /usr/local/lib/python3.10/dist-packages (from brax) (0.25.2)\n",
            "Requirement already satisfied: jax>=0.4.6 in /usr/local/lib/python3.10/dist-packages (from brax) (0.4.26)\n",
            "Requirement already satisfied: jaxlib>=0.4.6 in /usr/local/lib/python3.10/dist-packages (from brax) (0.4.26+cuda12.cudnn89)\n",
            "Collecting jaxopt (from brax)\n",
            "  Downloading jaxopt-0.8.3-py3-none-any.whl.metadata (2.6 kB)\n",
            "Requirement already satisfied: jinja2 in /usr/local/lib/python3.10/dist-packages (from brax) (3.1.4)\n",
            "Collecting ml-collections (from brax)\n",
            "  Downloading ml_collections-0.1.1.tar.gz (77 kB)\n",
            "\u001b[2K     \u001b[90m━━━━━━━━━━━━━━━━━━━━━━━━━━━━━━━━━━━━━━━━\u001b[0m \u001b[32m77.9/77.9 kB\u001b[0m \u001b[31m1.2 MB/s\u001b[0m eta \u001b[36m0:00:00\u001b[0m\n",
            "\u001b[?25h  Preparing metadata (setup.py) ... \u001b[?25l\u001b[?25hdone\n",
            "Collecting mujoco (from brax)\n",
            "  Downloading mujoco-3.2.2-cp310-cp310-manylinux_2_17_x86_64.manylinux2014_x86_64.whl.metadata (44 kB)\n",
            "\u001b[2K     \u001b[90m━━━━━━━━━━━━━━━━━━━━━━━━━━━━━━━━━━━━━━━━\u001b[0m \u001b[32m44.3/44.3 kB\u001b[0m \u001b[31m2.3 MB/s\u001b[0m eta \u001b[36m0:00:00\u001b[0m\n",
            "\u001b[?25hCollecting mujoco-mjx (from brax)\n",
            "  Downloading mujoco_mjx-3.2.2-py3-none-any.whl.metadata (3.4 kB)\n",
            "Requirement already satisfied: numpy in /usr/local/lib/python3.10/dist-packages (from brax) (1.26.4)\n",
            "Requirement already satisfied: optax in /usr/local/lib/python3.10/dist-packages (from brax) (0.2.2)\n",
            "Requirement already satisfied: orbax-checkpoint in /usr/local/lib/python3.10/dist-packages (from brax) (0.6.1)\n",
            "Requirement already satisfied: Pillow in /usr/local/lib/python3.10/dist-packages (from brax) (9.4.0)\n",
            "Collecting pytinyrenderer (from brax)\n",
            "  Downloading pytinyrenderer-0.0.14-cp310-cp310-manylinux_2_17_x86_64.manylinux2014_x86_64.whl.metadata (1.2 kB)\n",
            "Requirement already satisfied: scipy in /usr/local/lib/python3.10/dist-packages (from brax) (1.13.1)\n",
            "Collecting tensorboardX (from brax)\n",
            "  Downloading tensorboardX-2.6.2.2-py2.py3-none-any.whl.metadata (5.8 kB)\n",
            "Collecting trimesh (from brax)\n",
            "  Downloading trimesh-4.4.8-py3-none-any.whl.metadata (18 kB)\n",
            "Requirement already satisfied: typing-extensions in /usr/local/lib/python3.10/dist-packages (from brax) (4.12.2)\n",
            "Requirement already satisfied: ml-dtypes>=0.2.0 in /usr/local/lib/python3.10/dist-packages (from jax>=0.4.6->brax) (0.4.0)\n",
            "Requirement already satisfied: opt-einsum in /usr/local/lib/python3.10/dist-packages (from jax>=0.4.6->brax) (3.3.0)\n",
            "Requirement already satisfied: dm-tree in /usr/local/lib/python3.10/dist-packages (from dm-env->brax) (0.1.8)\n",
            "Requirement already satisfied: Werkzeug>=2.2.2 in /usr/local/lib/python3.10/dist-packages (from flask->brax) (3.0.4)\n",
            "Requirement already satisfied: itsdangerous>=2.0 in /usr/local/lib/python3.10/dist-packages (from flask->brax) (2.2.0)\n",
            "Requirement already satisfied: click>=8.0 in /usr/local/lib/python3.10/dist-packages (from flask->brax) (8.1.7)\n",
            "Requirement already satisfied: MarkupSafe>=2.0 in /usr/local/lib/python3.10/dist-packages (from jinja2->brax) (2.1.5)\n",
            "Requirement already satisfied: msgpack in /usr/local/lib/python3.10/dist-packages (from flax->brax) (1.0.8)\n",
            "Requirement already satisfied: tensorstore in /usr/local/lib/python3.10/dist-packages (from flax->brax) (0.1.64)\n",
            "Requirement already satisfied: rich>=11.1 in /usr/local/lib/python3.10/dist-packages (from flax->brax) (13.8.0)\n",
            "Requirement already satisfied: PyYAML>=5.4.1 in /usr/local/lib/python3.10/dist-packages (from flax->brax) (6.0.2)\n",
            "Requirement already satisfied: cloudpickle>=1.2.0 in /usr/local/lib/python3.10/dist-packages (from gym->brax) (2.2.1)\n",
            "Requirement already satisfied: gym-notices>=0.0.4 in /usr/local/lib/python3.10/dist-packages (from gym->brax) (0.0.8)\n",
            "Requirement already satisfied: six in /usr/local/lib/python3.10/dist-packages (from ml-collections->brax) (1.16.0)\n",
            "Requirement already satisfied: contextlib2 in /usr/local/lib/python3.10/dist-packages (from ml-collections->brax) (21.6.0)\n",
            "Collecting glfw (from mujoco->brax)\n",
            "  Downloading glfw-2.7.0-py2.py27.py3.py30.py31.py32.py33.py34.py35.py36.py37.py38-none-manylinux2014_x86_64.whl.metadata (5.4 kB)\n",
            "Requirement already satisfied: pyopengl in /usr/local/lib/python3.10/dist-packages (from mujoco->brax) (3.1.7)\n",
            "Requirement already satisfied: chex>=0.1.86 in /usr/local/lib/python3.10/dist-packages (from optax->brax) (0.1.86)\n",
            "Requirement already satisfied: nest_asyncio in /usr/local/lib/python3.10/dist-packages (from orbax-checkpoint->brax) (1.6.0)\n",
            "Requirement already satisfied: protobuf in /usr/local/lib/python3.10/dist-packages (from orbax-checkpoint->brax) (3.20.3)\n",
            "Requirement already satisfied: humanize in /usr/local/lib/python3.10/dist-packages (from orbax-checkpoint->brax) (4.10.0)\n",
            "Requirement already satisfied: packaging in /usr/local/lib/python3.10/dist-packages (from tensorboardX->brax) (24.1)\n",
            "Requirement already satisfied: toolz>=0.9.0 in /usr/local/lib/python3.10/dist-packages (from chex>=0.1.86->optax->brax) (0.12.1)\n",
            "Requirement already satisfied: markdown-it-py>=2.2.0 in /usr/local/lib/python3.10/dist-packages (from rich>=11.1->flax->brax) (3.0.0)\n",
            "Requirement already satisfied: pygments<3.0.0,>=2.13.0 in /usr/local/lib/python3.10/dist-packages (from rich>=11.1->flax->brax) (2.16.1)\n",
            "Requirement already satisfied: fsspec in /usr/local/lib/python3.10/dist-packages (from etils[epath,epy]->orbax-checkpoint->brax) (2024.6.1)\n",
            "Requirement already satisfied: importlib_resources in /usr/local/lib/python3.10/dist-packages (from etils[epath,epy]->orbax-checkpoint->brax) (6.4.4)\n",
            "Requirement already satisfied: zipp in /usr/local/lib/python3.10/dist-packages (from etils[epath,epy]->orbax-checkpoint->brax) (3.20.1)\n",
            "Requirement already satisfied: mdurl~=0.1 in /usr/local/lib/python3.10/dist-packages (from markdown-it-py>=2.2.0->rich>=11.1->flax->brax) (0.1.2)\n",
            "Downloading brax-0.10.5-py3-none-any.whl (998 kB)\n",
            "\u001b[2K   \u001b[90m━━━━━━━━━━━━━━━━━━━━━━━━━━━━━━━━━━━━━━━━\u001b[0m \u001b[32m998.9/998.9 kB\u001b[0m \u001b[31m6.7 MB/s\u001b[0m eta \u001b[36m0:00:00\u001b[0m\n",
            "\u001b[?25hDownloading dm_env-1.6-py3-none-any.whl (26 kB)\n",
            "Downloading Flask_Cors-5.0.0-py2.py3-none-any.whl (14 kB)\n",
            "Downloading jaxopt-0.8.3-py3-none-any.whl (172 kB)\n",
            "\u001b[2K   \u001b[90m━━━━━━━━━━━━━━━━━━━━━━━━━━━━━━━━━━━━━━━━\u001b[0m \u001b[32m172.3/172.3 kB\u001b[0m \u001b[31m16.5 MB/s\u001b[0m eta \u001b[36m0:00:00\u001b[0m\n",
            "\u001b[?25hDownloading mujoco-3.2.2-cp310-cp310-manylinux_2_17_x86_64.manylinux2014_x86_64.whl (6.0 MB)\n",
            "\u001b[2K   \u001b[90m━━━━━━━━━━━━━━━━━━━━━━━━━━━━━━━━━━━━━━━━\u001b[0m \u001b[32m6.0/6.0 MB\u001b[0m \u001b[31m48.1 MB/s\u001b[0m eta \u001b[36m0:00:00\u001b[0m\n",
            "\u001b[?25hDownloading mujoco_mjx-3.2.2-py3-none-any.whl (6.6 MB)\n",
            "\u001b[2K   \u001b[90m━━━━━━━━━━━━━━━━━━━━━━━━━━━━━━━━━━━━━━━━\u001b[0m \u001b[32m6.6/6.6 MB\u001b[0m \u001b[31m36.3 MB/s\u001b[0m eta \u001b[36m0:00:00\u001b[0m\n",
            "\u001b[?25hDownloading pytinyrenderer-0.0.14-cp310-cp310-manylinux_2_17_x86_64.manylinux2014_x86_64.whl (1.9 MB)\n",
            "\u001b[2K   \u001b[90m━━━━━━━━━━━━━━━━━━━━━━━━━━━━━━━━━━━━━━━━\u001b[0m \u001b[32m1.9/1.9 MB\u001b[0m \u001b[31m64.6 MB/s\u001b[0m eta \u001b[36m0:00:00\u001b[0m\n",
            "\u001b[?25hDownloading tensorboardX-2.6.2.2-py2.py3-none-any.whl (101 kB)\n",
            "\u001b[2K   \u001b[90m━━━━━━━━━━━━━━━━━━━━━━━━━━━━━━━━━━━━━━━━\u001b[0m \u001b[32m101.7/101.7 kB\u001b[0m \u001b[31m9.0 MB/s\u001b[0m eta \u001b[36m0:00:00\u001b[0m\n",
            "\u001b[?25hDownloading trimesh-4.4.8-py3-none-any.whl (696 kB)\n",
            "\u001b[2K   \u001b[90m━━━━━━━━━━━━━━━━━━━━━━━━━━━━━━━━━━━━━━━━\u001b[0m \u001b[32m696.6/696.6 kB\u001b[0m \u001b[31m38.3 MB/s\u001b[0m eta \u001b[36m0:00:00\u001b[0m\n",
            "\u001b[?25hDownloading glfw-2.7.0-py2.py27.py3.py30.py31.py32.py33.py34.py35.py36.py37.py38-none-manylinux2014_x86_64.whl (211 kB)\n",
            "\u001b[2K   \u001b[90m━━━━━━━━━━━━━━━━━━━━━━━━━━━━━━━━━━━━━━━━\u001b[0m \u001b[32m211.8/211.8 kB\u001b[0m \u001b[31m18.2 MB/s\u001b[0m eta \u001b[36m0:00:00\u001b[0m\n",
            "\u001b[?25hBuilding wheels for collected packages: ml-collections\n",
            "  Building wheel for ml-collections (setup.py) ... \u001b[?25l\u001b[?25hdone\n",
            "  Created wheel for ml-collections: filename=ml_collections-0.1.1-py3-none-any.whl size=94507 sha256=2e0efcaae67997c765fb1857a53293aec80b41ede8aabdcd15a8f73f76223629\n",
            "  Stored in directory: /root/.cache/pip/wheels/7b/89/c9/a9b87790789e94aadcfc393c283e3ecd5ab916aed0a31be8fe\n",
            "Successfully built ml-collections\n",
            "Installing collected packages: pytinyrenderer, glfw, trimesh, tensorboardX, ml-collections, dm-env, mujoco, jaxopt, flask-cors, mujoco-mjx, brax\n",
            "Successfully installed brax-0.10.5 dm-env-1.6 flask-cors-5.0.0 glfw-2.7.0 jaxopt-0.8.3 ml-collections-0.1.1 mujoco-3.2.2 mujoco-mjx-3.2.2 pytinyrenderer-0.0.14 tensorboardX-2.6.2.2 trimesh-4.4.8\n"
          ]
        }
      ]
    },
    {
      "cell_type": "code",
      "source": [
        "!pip install evosax"
      ],
      "metadata": {
        "id": "jE50as3sWFAv",
        "outputId": "cfab35ae-8017-4d37-b49b-619bc26f9001",
        "colab": {
          "base_uri": "https://localhost:8080/"
        }
      },
      "execution_count": 4,
      "outputs": [
        {
          "output_type": "stream",
          "name": "stdout",
          "text": [
            "Collecting evosax\n",
            "  Downloading evosax-0.1.6-py3-none-any.whl.metadata (26 kB)\n",
            "Requirement already satisfied: jax in /usr/local/lib/python3.10/dist-packages (from evosax) (0.4.26)\n",
            "Requirement already satisfied: jaxlib>=0.1.37 in /usr/local/lib/python3.10/dist-packages (from evosax) (0.4.26+cuda12.cudnn89)\n",
            "Requirement already satisfied: chex in /usr/local/lib/python3.10/dist-packages (from evosax) (0.1.86)\n",
            "Requirement already satisfied: flax in /usr/local/lib/python3.10/dist-packages (from evosax) (0.8.4)\n",
            "Requirement already satisfied: numpy in /usr/local/lib/python3.10/dist-packages (from evosax) (1.26.4)\n",
            "Requirement already satisfied: pyyaml in /usr/local/lib/python3.10/dist-packages (from evosax) (6.0.2)\n",
            "Requirement already satisfied: matplotlib in /usr/local/lib/python3.10/dist-packages (from evosax) (3.7.1)\n",
            "Collecting dotmap (from evosax)\n",
            "  Downloading dotmap-1.3.30-py3-none-any.whl.metadata (3.2 kB)\n",
            "Requirement already satisfied: scipy>=1.9 in /usr/local/lib/python3.10/dist-packages (from jaxlib>=0.1.37->evosax) (1.13.1)\n",
            "Requirement already satisfied: ml-dtypes>=0.2.0 in /usr/local/lib/python3.10/dist-packages (from jaxlib>=0.1.37->evosax) (0.4.0)\n",
            "Requirement already satisfied: absl-py>=0.9.0 in /usr/local/lib/python3.10/dist-packages (from chex->evosax) (1.4.0)\n",
            "Requirement already satisfied: typing-extensions>=4.2.0 in /usr/local/lib/python3.10/dist-packages (from chex->evosax) (4.12.2)\n",
            "Requirement already satisfied: toolz>=0.9.0 in /usr/local/lib/python3.10/dist-packages (from chex->evosax) (0.12.1)\n",
            "Requirement already satisfied: opt-einsum in /usr/local/lib/python3.10/dist-packages (from jax->evosax) (3.3.0)\n",
            "Requirement already satisfied: msgpack in /usr/local/lib/python3.10/dist-packages (from flax->evosax) (1.0.8)\n",
            "Requirement already satisfied: optax in /usr/local/lib/python3.10/dist-packages (from flax->evosax) (0.2.2)\n",
            "Requirement already satisfied: orbax-checkpoint in /usr/local/lib/python3.10/dist-packages (from flax->evosax) (0.6.1)\n",
            "Requirement already satisfied: tensorstore in /usr/local/lib/python3.10/dist-packages (from flax->evosax) (0.1.64)\n",
            "Requirement already satisfied: rich>=11.1 in /usr/local/lib/python3.10/dist-packages (from flax->evosax) (13.8.0)\n",
            "Requirement already satisfied: contourpy>=1.0.1 in /usr/local/lib/python3.10/dist-packages (from matplotlib->evosax) (1.2.1)\n",
            "Requirement already satisfied: cycler>=0.10 in /usr/local/lib/python3.10/dist-packages (from matplotlib->evosax) (0.12.1)\n",
            "Requirement already satisfied: fonttools>=4.22.0 in /usr/local/lib/python3.10/dist-packages (from matplotlib->evosax) (4.53.1)\n",
            "Requirement already satisfied: kiwisolver>=1.0.1 in /usr/local/lib/python3.10/dist-packages (from matplotlib->evosax) (1.4.5)\n",
            "Requirement already satisfied: packaging>=20.0 in /usr/local/lib/python3.10/dist-packages (from matplotlib->evosax) (24.1)\n",
            "Requirement already satisfied: pillow>=6.2.0 in /usr/local/lib/python3.10/dist-packages (from matplotlib->evosax) (9.4.0)\n",
            "Requirement already satisfied: pyparsing>=2.3.1 in /usr/local/lib/python3.10/dist-packages (from matplotlib->evosax) (3.1.4)\n",
            "Requirement already satisfied: python-dateutil>=2.7 in /usr/local/lib/python3.10/dist-packages (from matplotlib->evosax) (2.8.2)\n",
            "Requirement already satisfied: six>=1.5 in /usr/local/lib/python3.10/dist-packages (from python-dateutil>=2.7->matplotlib->evosax) (1.16.0)\n",
            "Requirement already satisfied: markdown-it-py>=2.2.0 in /usr/local/lib/python3.10/dist-packages (from rich>=11.1->flax->evosax) (3.0.0)\n",
            "Requirement already satisfied: pygments<3.0.0,>=2.13.0 in /usr/local/lib/python3.10/dist-packages (from rich>=11.1->flax->evosax) (2.16.1)\n",
            "Requirement already satisfied: etils[epath,epy] in /usr/local/lib/python3.10/dist-packages (from orbax-checkpoint->flax->evosax) (1.7.0)\n",
            "Requirement already satisfied: nest_asyncio in /usr/local/lib/python3.10/dist-packages (from orbax-checkpoint->flax->evosax) (1.6.0)\n",
            "Requirement already satisfied: protobuf in /usr/local/lib/python3.10/dist-packages (from orbax-checkpoint->flax->evosax) (3.20.3)\n",
            "Requirement already satisfied: humanize in /usr/local/lib/python3.10/dist-packages (from orbax-checkpoint->flax->evosax) (4.10.0)\n",
            "Requirement already satisfied: mdurl~=0.1 in /usr/local/lib/python3.10/dist-packages (from markdown-it-py>=2.2.0->rich>=11.1->flax->evosax) (0.1.2)\n",
            "Requirement already satisfied: fsspec in /usr/local/lib/python3.10/dist-packages (from etils[epath,epy]->orbax-checkpoint->flax->evosax) (2024.6.1)\n",
            "Requirement already satisfied: importlib_resources in /usr/local/lib/python3.10/dist-packages (from etils[epath,epy]->orbax-checkpoint->flax->evosax) (6.4.4)\n",
            "Requirement already satisfied: zipp in /usr/local/lib/python3.10/dist-packages (from etils[epath,epy]->orbax-checkpoint->flax->evosax) (3.20.1)\n",
            "Downloading evosax-0.1.6-py3-none-any.whl (240 kB)\n",
            "\u001b[2K   \u001b[90m━━━━━━━━━━━━━━━━━━━━━━━━━━━━━━━━━━━━━━━━\u001b[0m \u001b[32m240.4/240.4 kB\u001b[0m \u001b[31m2.2 MB/s\u001b[0m eta \u001b[36m0:00:00\u001b[0m\n",
            "\u001b[?25hDownloading dotmap-1.3.30-py3-none-any.whl (11 kB)\n",
            "Installing collected packages: dotmap, evosax\n",
            "Successfully installed dotmap-1.3.30 evosax-0.1.6\n"
          ]
        }
      ]
    },
    {
      "cell_type": "markdown",
      "metadata": {
        "id": "vj2SbOYRVcnc"
      },
      "source": [
        "EvoTF_ES With MLP Controller"
      ]
    },
    {
      "cell_type": "code",
      "execution_count": 5,
      "metadata": {
        "id": "MUdDfdUSVcnd"
      },
      "outputs": [],
      "source": [
        "import jax\n",
        "import time\n",
        "import numpy as np\n",
        "from evojax.obs_norm import ObsNormalizer\n",
        "from evojax.sim_mgr import SimManager\n",
        "from evojax.task.brax_task import BraxTask\n",
        "from evojax.policy import MLPPolicy\n",
        "\n",
        "from evosax import Strategies\n",
        "from evosax.utils.evojax_wrapper import Evosax2JAX_Wrapper"
      ]
    },
    {
      "cell_type": "code",
      "execution_count": 19,
      "metadata": {
        "id": "RSFBTQWrVcnd"
      },
      "outputs": [],
      "source": [
        "def get_brax_task(\n",
        "    env_name = \"humanoid\",\n",
        "    hidden_dims = [8, 8, 8, 8],\n",
        "):\n",
        "    train_task = BraxTask(env_name, test=False)\n",
        "    test_task = BraxTask(env_name, test=True)\n",
        "    policy = MLPPolicy(\n",
        "        input_dim=train_task.obs_shape[0],\n",
        "        output_dim=train_task.act_shape[0],\n",
        "        hidden_dims=hidden_dims,\n",
        "    )\n",
        "    return train_task, test_task, policy"
      ]
    },
    {
      "cell_type": "code",
      "execution_count": 7,
      "metadata": {
        "id": "ONhtRAA9Vcnd",
        "outputId": "58c2ca3a-c55e-4b97-be34-e1d0244ebea8",
        "colab": {
          "base_uri": "https://localhost:8080/"
        }
      },
      "outputs": [
        {
          "output_type": "stream",
          "name": "stdout",
          "text": [
            "[cuda(id=0)]\n"
          ]
        }
      ],
      "source": [
        "print(jax.devices())"
      ]
    },
    {
      "cell_type": "code",
      "execution_count": 20,
      "metadata": {
        "id": "VLxjXeATVcnd",
        "outputId": "8afa1b24-d4c5-4011-929f-43c9ea7445d7",
        "colab": {
          "base_uri": "https://localhost:8080/"
        }
      },
      "outputs": [
        {
          "output_type": "stream",
          "name": "stderr",
          "text": [
            "INFO:MLPPolicy:MLPPolicy.num_params = 2329\n",
            "INFO:SimManager:use_for_loop=True\n"
          ]
        },
        {
          "output_type": "stream",
          "name": "stdout",
          "text": [
            "Loaded pretrained EvoTF model from ckpt: 2024_03_SNES_small.pkl\n",
            "START EVOLVING 2329 PARAMS.\n",
            "{'num_gens': 1} {'train_perf': 82.86267852783203, 'test_perf': 92.21075439453125}\n",
            "Time taken for iteration 1: 88.99532294273376 seconds\n",
            "{'num_gens': 2} {'train_perf': 88.57404327392578, 'test_perf': 117.45652770996094}\n",
            "Time taken for iteration 2: 0.9276931285858154 seconds\n",
            "{'num_gens': 4} {'train_perf': 103.81219482421875, 'test_perf': 91.39120483398438}\n",
            "Time taken for iteration 4: 1.2719368934631348 seconds\n",
            "{'num_gens': 6} {'train_perf': 113.86822509765625, 'test_perf': 150.15328979492188}\n",
            "Time taken for iteration 6: 1.4053568840026855 seconds\n",
            "{'num_gens': 8} {'train_perf': 92.37818908691406, 'test_perf': 95.097412109375}\n",
            "Time taken for iteration 8: 0.7602798938751221 seconds\n",
            "{'num_gens': 10} {'train_perf': 120.06058502197266, 'test_perf': 152.00283813476562}\n",
            "Time taken for iteration 10: 1.3137550354003906 seconds\n",
            "{'num_gens': 12} {'train_perf': 130.68772888183594, 'test_perf': 170.48239135742188}\n",
            "Time taken for iteration 12: 1.391106128692627 seconds\n",
            "{'num_gens': 14} {'train_perf': 137.61929321289062, 'test_perf': 168.42367553710938}\n",
            "Time taken for iteration 14: 1.351015329360962 seconds\n",
            "{'num_gens': 16} {'train_perf': 160.9091339111328, 'test_perf': 177.5128631591797}\n",
            "Time taken for iteration 16: 1.5125977993011475 seconds\n",
            "{'num_gens': 18} {'train_perf': 181.9889373779297, 'test_perf': 231.12869262695312}\n",
            "Time taken for iteration 18: 2.0281107425689697 seconds\n",
            "{'num_gens': 20} {'train_perf': 176.7869415283203, 'test_perf': 195.45526123046875}\n",
            "Time taken for iteration 20: 1.7458977699279785 seconds\n",
            "{'num_gens': 22} {'train_perf': 171.4333038330078, 'test_perf': 212.0268096923828}\n",
            "Time taken for iteration 22: 2.386488199234009 seconds\n",
            "{'num_gens': 24} {'train_perf': 118.5928955078125, 'test_perf': 104.85005187988281}\n",
            "Time taken for iteration 24: 1.3587706089019775 seconds\n",
            "{'num_gens': 26} {'train_perf': 114.2328109741211, 'test_perf': 291.72998046875}\n",
            "Time taken for iteration 26: 2.0917842388153076 seconds\n",
            "{'num_gens': 28} {'train_perf': 150.14755249023438, 'test_perf': 223.34591674804688}\n",
            "Time taken for iteration 28: 2.4022254943847656 seconds\n",
            "{'num_gens': 30} {'train_perf': 164.9124755859375, 'test_perf': 85.21923828125}\n",
            "Time taken for iteration 30: 1.5635483264923096 seconds\n",
            "{'num_gens': 32} {'train_perf': 120.58424377441406, 'test_perf': 129.93673706054688}\n",
            "Time taken for iteration 32: 1.7646219730377197 seconds\n",
            "{'num_gens': 34} {'train_perf': 86.98039245605469, 'test_perf': 85.314453125}\n",
            "Time taken for iteration 34: 0.7066655158996582 seconds\n",
            "{'num_gens': 36} {'train_perf': 108.62528991699219, 'test_perf': 88.84606170654297}\n",
            "Time taken for iteration 36: 1.1929326057434082 seconds\n",
            "{'num_gens': 38} {'train_perf': 87.65157318115234, 'test_perf': 75.89917755126953}\n",
            "Time taken for iteration 38: 0.9188079833984375 seconds\n",
            "{'num_gens': 40} {'train_perf': 110.77162170410156, 'test_perf': 115.71009826660156}\n",
            "Time taken for iteration 40: 1.4031493663787842 seconds\n",
            "{'num_gens': 42} {'train_perf': 130.8009033203125, 'test_perf': 324.3931579589844}\n",
            "Time taken for iteration 42: 2.8754220008850098 seconds\n",
            "{'num_gens': 44} {'train_perf': 130.49473571777344, 'test_perf': 171.9786376953125}\n",
            "Time taken for iteration 44: 1.5985753536224365 seconds\n",
            "{'num_gens': 46} {'train_perf': 156.55178833007812, 'test_perf': 217.65255737304688}\n",
            "Time taken for iteration 46: 2.2005999088287354 seconds\n",
            "{'num_gens': 48} {'train_perf': 125.09504699707031, 'test_perf': 195.9910430908203}\n",
            "Time taken for iteration 48: 1.7511112689971924 seconds\n",
            "{'num_gens': 50} {'train_perf': 100.05299377441406, 'test_perf': 160.28103637695312}\n",
            "Time taken for iteration 50: 1.663022756576538 seconds\n"
          ]
        }
      ],
      "source": [
        "train_task, test_task, policy = get_brax_task(\"humanoid\")\n",
        "solver = Evosax2JAX_Wrapper(\n",
        "    Strategies[\"EvoTF_ES\"],\n",
        "    param_size=policy.num_params,\n",
        "    pop_size=5,\n",
        "    es_config={\"maximize\": True,\n",
        "               \"centered_rank\": True},\n",
        "    #            \"lrate_init\": 0.01,\n",
        "    #            \"lrate_decay\": 0.999,\n",
        "    #            \"lrate_limit\": 0.001},\n",
        "    # es_params={\"sigma_init\": 0.05,\n",
        "    # \"sigma_decay\": 0.999,\n",
        "    # \"sigma_limit\": 0.01},\n",
        "    seed=0,\n",
        ")\n",
        "obs_normalizer = ObsNormalizer(\n",
        "    obs_shape=train_task.obs_shape, dummy=not True\n",
        ")\n",
        "sim_mgr = SimManager(\n",
        "    policy_net=policy,\n",
        "    train_vec_task=train_task,\n",
        "    valid_vec_task=test_task,\n",
        "    seed=0,\n",
        "    obs_normalizer=obs_normalizer,\n",
        "    pop_size=5,\n",
        "    use_for_loop=True,  #使用 Python 的 for 循环来进行模拟，那么可以将 use_for_loop 设置为 True。\n",
        "    #如果你希望利用 JAX 的自动微分和并行计算功能，那么可以将 use_for_loop 设置为 False。\n",
        "    n_repeats=16,\n",
        "    test_n_repeats=1,\n",
        "    n_evaluations=64,\n",
        ")\n",
        "\n",
        "print(f\"START EVOLVING {policy.num_params} PARAMS.\")\n",
        "# Run ES Loop.\n",
        "for gen_counter in range(50):\n",
        "    start_time = time.time()  # 记录开始时间\n",
        "\n",
        "    params = solver.ask()\n",
        "    scores, _ = sim_mgr.eval_params(params=params, test=False)\n",
        "    solver.tell(fitness=scores)\n",
        "    if gen_counter == 0 or (gen_counter + 1) % 2 == 0:\n",
        "        test_scores, _ = sim_mgr.eval_params(\n",
        "            params=solver.best_params, test=True\n",
        "        )\n",
        "        print(\n",
        "            {\n",
        "                \"num_gens\": gen_counter + 1,\n",
        "            },\n",
        "            {\n",
        "                \"train_perf\": float(np.nanmean(scores)),\n",
        "                \"test_perf\": float(np.nanmean(test_scores)),\n",
        "            },\n",
        "        )\n",
        "        end_time = time.time()  # 记录结束时间\n",
        "        elapsed_time = end_time - start_time  # 计算时间差\n",
        "        print(f\"Time taken for iteration {gen_counter + 1}: {elapsed_time} seconds\")"
      ]
    },
    {
      "cell_type": "code",
      "source": [
        "test_scores, _ = sim_mgr.eval_params(\n",
        "            params=solver.best_params, test=True\n",
        "        )\n",
        "print(\n",
        "    {\n",
        "        \"num_gens\": gen_counter + 1,\n",
        "    },\n",
        "    {\n",
        "        \"train_perf\": float(np.nanmean(scores)),\n",
        "        \"test_perf\": float(np.nanmean(test_scores)),\n",
        "    },\n",
        ")"
      ],
      "metadata": {
        "colab": {
          "base_uri": "https://localhost:8080/"
        },
        "id": "IG4q1KEqYuu3",
        "outputId": "2677d5a0-0245-48fa-e75c-ca67303bb3be"
      },
      "execution_count": 27,
      "outputs": [
        {
          "output_type": "stream",
          "name": "stdout",
          "text": [
            "{'num_gens': 50} {'train_perf': 100.05299377441406, 'test_perf': 157.1584014892578}\n"
          ]
        }
      ]
    },
    {
      "cell_type": "code",
      "source": [
        "from IPython.display import HTML\n",
        "from brax import envs\n",
        "from brax.io import html\n",
        "import jax\n",
        "from brax.io import model\n",
        "from brax.io import json\n",
        "\n",
        "env = envs.create(env_name=\"humanoid\")\n",
        "task_reset_fn = jax.jit(env.reset)\n",
        "policy_reset_fn = jax.jit(policy.reset)\n",
        "step_fn = jax.jit(env.step)\n",
        "act_fn = jax.jit(policy.get_actions)\n",
        "obs_norm_fn = jax.jit(obs_normalizer.normalize_obs)\n",
        "\n",
        "best_params = solver.best_params\n",
        "obs_params = sim_mgr.obs_params\n",
        "\n",
        "total_reward = 0\n",
        "rollout = []\n",
        "rng = jax.random.PRNGKey(seed=42)\n",
        "task_state = task_reset_fn(rng=rng)\n",
        "policy_state = policy_reset_fn(task_state)\n",
        "while not task_state.done:\n",
        "    rollout.append(task_state)\n",
        "    task_state = task_state.replace(\n",
        "    obs=obs_norm_fn(task_state.obs[None, :], obs_params).reshape(1,244))\n",
        "    act, policy_state = act_fn(task_state, best_params[None, :], policy_state)\n",
        "    task_state = task_state.replace(\n",
        "    obs=obs_norm_fn(task_state.obs[None, :], obs_params).reshape(244,))\n",
        "    task_state = step_fn(task_state, act[0])\n",
        "    total_reward = total_reward + task_state.reward\n",
        "\n",
        "print(\"Cumulative reward:\", total_reward)\n",
        "HTML(html.render(env.sys, [s.pipeline_state for s in rollout]))"
      ],
      "metadata": {
        "colab": {
          "base_uri": "https://localhost:8080/",
          "height": 497
        },
        "id": "9icaT1xXYy7x",
        "outputId": "e1c32214-6b20-428d-ae23-701e77c14ec3"
      },
      "execution_count": 29,
      "outputs": [
        {
          "output_type": "stream",
          "name": "stdout",
          "text": [
            "Cumulative reward: 80.37085\n"
          ]
        },
        {
          "output_type": "execute_result",
          "data": {
            "text/plain": [
              "<IPython.core.display.HTML object>"
            ],
            "text/html": [
              "<!DOCTYPE html>\n",
              "<html>\n",
              "\n",
              "  <head>\n",
              "    <title>Brax visualizer</title>\n",
              "    <link rel=\"shortcut icon\" type=\"image/x-icon\" href=\"/favicon.ico\">\n",
              "  </head>\n",
              "\n",
              "  <style>\n",
              "    body {\n",
              "      margin: 0;\n",
              "      padding: 0;\n",
              "    }\n",
              "\n",
              "    #brax-viewer {\n",
              "      height: 480px;\n",
              "      margin: 0;\n",
              "      padding: 0;\n",
              "    }\n",
              "  </style>\n",
              "  <script async src=\"https://unpkg.com/es-module-shims@1.6.3/dist/es-module-shims.js\"></script>\n",
              "\n",
              "  <script type=\"importmap\">\n",
              "    {\n",
              "      \"imports\": {\n",
              "        \"three\": \"https://unpkg.com/three@0.150.1/build/three.module.js\",\n",
              "        \"three/addons/\": \"https://unpkg.com/three@0.150.1/examples/jsm/\",\n",
              "        \"lilgui\": \"https://cdn.jsdelivr.net/npm/lil-gui@0.18.0/+esm\",\n",
              "        \"viewer\": \"https://cdn.jsdelivr.net/gh/google/brax@v0.10.5/brax/visualizer/js/viewer.js\"\n",
              "      }\n",
              "    }\n",
              "  </script>\n",
              "\n",
              "  <script src=\"https://unpkg.com/pako@2.1.0/dist/pako.min.js\"></script>\n",
              "\n",
              "  <script type=\"application/javascript\">\n",
              "  var system = \"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\";\n",
              "  // decode base64 (convert ascii to binary)\n",
              "  system = atob(system);\n",
              "  // convert binary string to character-number array\n",
              "  system = system.split('').map(function(x){return x.charCodeAt(0);});\n",
              "  // decompress\n",
              "  system = pako.inflate(system);\n",
              "  // convert gunzipped byteArray back to ascii string\n",
              "  system = new TextDecoder(\"utf-8\").decode(system);\n",
              "  // and load json\n",
              "  system = JSON.parse(system);\n",
              "  </script>\n",
              "\n",
              "  <body>\n",
              "\n",
              "    <div id=\"brax-viewer\"></div>\n",
              "\n",
              "    <script type=\"module\">\n",
              "      import {Viewer} from 'viewer';\n",
              "      const domElement = document.getElementById(\"brax-viewer\");\n",
              "      var viewer = new Viewer(domElement, system);\n",
              "    </script>\n",
              "\n",
              "  </body>\n",
              "\n",
              "</html>"
            ]
          },
          "metadata": {},
          "execution_count": 29
        }
      ]
    }
  ],
  "metadata": {
    "kernelspec": {
      "display_name": "Python 3",
      "name": "python3"
    },
    "language_info": {
      "codemirror_mode": {
        "name": "ipython",
        "version": 3
      },
      "file_extension": ".py",
      "mimetype": "text/x-python",
      "name": "python",
      "nbconvert_exporter": "python",
      "pygments_lexer": "ipython3",
      "version": "3.10.14"
    },
    "colab": {
      "provenance": [],
      "machine_shape": "hm",
      "gpuType": "A100",
      "include_colab_link": true
    },
    "accelerator": "GPU"
  },
  "nbformat": 4,
  "nbformat_minor": 0
}