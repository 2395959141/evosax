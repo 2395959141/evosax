{
 "cells": [
  {
   "cell_type": "markdown",
   "metadata": {},
   "source": [
    "# 08 - Indirect Encodings\n",
    "### [Last Update: June 2022][![Colab](https://colab.research.google.com/assets/colab-badge.svg)](https://colab.research.google.com/github/RobertTLange/evosax/blob/main/examples/08_encodings.ipynb)"
   ]
  },
  {
   "cell_type": "code",
   "execution_count": null,
   "metadata": {},
   "outputs": [],
   "source": [
    "%matplotlib inline\n",
    "%load_ext autoreload\n",
    "%autoreload 2\n",
    "%config InlineBackend.figure_format = 'retina'\n",
    "\n",
    "!pip install git+https://github.com/RobertTLange/evosax.git@main"
   ]
  },
  {
   "cell_type": "markdown",
   "metadata": {},
   "source": [
    "## Experimental (!!!) - Random Encodings"
   ]
  },
  {
   "cell_type": "code",
   "execution_count": 1,
   "metadata": {},
   "outputs": [
    {
     "name": "stderr",
     "output_type": "stream",
     "text": [
      "<frozen importlib._bootstrap>:228: RuntimeWarning: scipy._lib.messagestream.MessageStream size changed, may indicate binary incompatibility. Expected 56 from C header, got 64 from PyObject\n",
      "WARNING:absl:No GPU/TPU found, falling back to CPU. (Set TF_CPP_MIN_LOG_LEVEL=0 and rerun for more info.)\n"
     ]
    },
    {
     "name": "stdout",
     "output_type": "stream",
     "text": [
      "ParameterReshaper: 4610 parameters detected for optimization.\n"
     ]
    },
    {
     "data": {
      "text/plain": [
       "DeviceArray(4610, dtype=int32)"
      ]
     },
     "execution_count": 1,
     "metadata": {},
     "output_type": "execute_result"
    }
   ],
   "source": [
    "import jax\n",
    "import jax.numpy as jnp\n",
    "from evosax import NetworkMapper\n",
    "from evosax.problems import GymFitness\n",
    "from evosax.utils import ParameterReshaper\n",
    "\n",
    "rng = jax.random.PRNGKey(0)\n",
    "# Run Strategy on CartPole MLP\n",
    "evaluator = GymFitness(\"CartPole-v1\", num_env_steps=200, num_rollouts=16)\n",
    "\n",
    "network = NetworkMapper[\"MLP\"](\n",
    "    num_hidden_units=64,\n",
    "    num_hidden_layers=2,\n",
    "    num_output_units=2,\n",
    "    hidden_activation=\"relu\",\n",
    "    output_activation=\"categorical\",\n",
    ")\n",
    "pholder = jnp.zeros((1, evaluator.input_shape[0]))\n",
    "params = network.init(\n",
    "    rng,\n",
    "    x=pholder,\n",
    "    rng=rng,\n",
    ")\n",
    "\n",
    "reshaper = ParameterReshaper(params)\n",
    "reshaper.total_params"
   ]
  },
  {
   "cell_type": "code",
   "execution_count": 2,
   "metadata": {},
   "outputs": [],
   "source": [
    "from evosax.utils import FitnessShaper\n",
    "from evosax.experimental.decodings import RandomDecoder\n",
    "\n",
    "# Only optimize 10 parameters!\n",
    "num_encoding_dims = 6\n",
    "reshaper = RandomDecoder(num_encoding_dims, params)\n",
    "evaluator.set_apply_fn(reshaper.vmap_dict, network.apply)\n",
    "\n",
    "fit_shaper = FitnessShaper(maximize=True)\n"
   ]
  },
  {
   "cell_type": "code",
   "execution_count": 3,
   "metadata": {},
   "outputs": [
    {
     "name": "stderr",
     "output_type": "stream",
     "text": [
      "/Users/rob/anaconda3/envs/mle-toolbox/lib/python3.9/site-packages/jax/_src/tree_util.py:188: FutureWarning: jax.tree_util.tree_multimap() is deprecated. Please use jax.tree_util.tree_map() instead as a drop-in replacement.\n",
      "  warnings.warn('jax.tree_util.tree_multimap() is deprecated. Please use jax.tree_util.tree_map() '\n"
     ]
    },
    {
     "name": "stdout",
     "output_type": "stream",
     "text": [
      "20 133.08125 200.0 50.5719 -200.0\n",
      "40 149.9775 200.0 45.9242 -200.0\n",
      "60 157.07562 200.0 51.393032 -200.0\n",
      "80 151.68312 200.0 53.497288 -200.0\n",
      "100 160.70312 200.0 50.2572 -200.0\n"
     ]
    }
   ],
   "source": [
    "from evosax import DE\n",
    "\n",
    "strategy = DE(\n",
    "    num_dims=reshaper.total_params,\n",
    "    popsize=100,\n",
    ")\n",
    "state = strategy.initialize(rng)\n",
    "\n",
    "for t in range(100):\n",
    "    rng, rng_eval, rng_iter = jax.random.split(rng, 3)\n",
    "    x, state = strategy.ask(rng_iter, state)\n",
    "    x_re = reshaper.reshape(x)\n",
    "    fitness = evaluator.rollout(rng_eval, x_re).mean(axis=1)\n",
    "    fit_re = fit_shaper.apply(x, fitness)\n",
    "    state = strategy.tell(x, fit_re, state)\n",
    "\n",
    "    if (t + 1) % 20 == 0:\n",
    "        print(\n",
    "            t + 1,\n",
    "            fitness.mean(),\n",
    "            fitness.max(),\n",
    "            fitness.std(),\n",
    "            state.best_fitness,\n",
    "        )"
   ]
  },
  {
   "cell_type": "markdown",
   "metadata": {},
   "source": [
    "## Experimental (!!!) - Hypernetwork Encodings"
   ]
  },
  {
   "cell_type": "code",
   "execution_count": 4,
   "metadata": {},
   "outputs": [
    {
     "name": "stdout",
     "output_type": "stream",
     "text": [
      "ParameterReshaper: 2306 parameters detected for optimization.\n"
     ]
    },
    {
     "data": {
      "text/plain": [
       "DeviceArray(2306, dtype=int32)"
      ]
     },
     "execution_count": 4,
     "metadata": {},
     "output_type": "execute_result"
    }
   ],
   "source": [
    "from evosax.experimental.decodings import HyperDecoder\n",
    "\n",
    "reshaper = HyperDecoder(\n",
    "        params,\n",
    "        hypernet_config={\n",
    "            \"num_latent_units\": 3,  # Latent units per module kernel/bias\n",
    "            \"num_hidden_units\": 2,  # Hidden dimensionality of a_i^j embedding\n",
    "        },\n",
    "    )\n",
    "reshaper.total_params"
   ]
  },
  {
   "cell_type": "code",
   "execution_count": 5,
   "metadata": {},
   "outputs": [
    {
     "name": "stdout",
     "output_type": "stream",
     "text": [
      "20 19.089375 30.3125 6.1910863 -33.4375\n",
      "40 29.787498 195.5625 32.49928 -200.0\n",
      "60 31.540625 200.0 44.170444 -200.0\n",
      "80 28.501875 200.0 47.56071 -200.0\n",
      "100 28.136875 200.0 44.376225 -200.0\n"
     ]
    }
   ],
   "source": [
    "strategy = DE(\n",
    "    num_dims=reshaper.total_params,\n",
    "    popsize=100,\n",
    ")\n",
    "state = strategy.initialize(rng)\n",
    "\n",
    "for t in range(100):\n",
    "    rng, rng_eval, rng_iter = jax.random.split(rng, 3)\n",
    "    x, state = strategy.ask(rng_iter, state)\n",
    "    x_re = reshaper.reshape(x)\n",
    "    fitness = evaluator.rollout(rng_eval, x_re).mean(axis=1)\n",
    "    fit_re = fit_shaper.apply(x, fitness)\n",
    "    state = strategy.tell(x, fit_re, state)\n",
    "\n",
    "    if (t + 1) % 20 == 0:\n",
    "        print(\n",
    "            t + 1,\n",
    "            fitness.mean(),\n",
    "            fitness.max(),\n",
    "            fitness.std(),\n",
    "            state.best_fitness\n",
    "            )"
   ]
  },
  {
   "cell_type": "code",
   "execution_count": null,
   "metadata": {},
   "outputs": [],
   "source": []
  }
 ],
 "metadata": {
  "kernelspec": {
   "display_name": "mle-toolbox",
   "language": "python",
   "name": "mle-toolbox"
  },
  "language_info": {
   "codemirror_mode": {
    "name": "ipython",
    "version": 3
   },
   "file_extension": ".py",
   "mimetype": "text/x-python",
   "name": "python",
   "nbconvert_exporter": "python",
   "pygments_lexer": "ipython3",
   "version": "3.9.7"
  }
 },
 "nbformat": 4,
 "nbformat_minor": 4
}
