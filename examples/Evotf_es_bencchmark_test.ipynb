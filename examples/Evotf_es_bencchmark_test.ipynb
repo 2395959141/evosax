{
 "cells": [
  {
   "cell_type": "code",
   "execution_count": 1,
   "metadata": {},
   "outputs": [],
   "source": [
    "%matplotlib inline\n",
    "%load_ext autoreload\n",
    "%autoreload 2\n",
    "%config InlineBackend.figure_format = 'retina'"
   ]
  },
  {
   "cell_type": "code",
   "execution_count": 2,
   "metadata": {},
   "outputs": [],
   "source": [
    "import jax\n",
    "import jax.numpy as jnp\n",
    "from evosax import CMA_ES , EvoTF_ES\n",
    "from evosax.problems import BBOBFitness\n",
    "\n",
    "# Instantiate the problem evaluator\n",
    "rosenbrock = BBOBFitness(\"RosenbrockOriginal\", num_dims=10, seed_id=2)\n",
    "#rosenbrock.visualize(plot_log_fn=True)"
   ]
  },
  {
   "cell_type": "code",
   "execution_count": 3,
   "metadata": {},
   "outputs": [
    {
     "name": "stdout",
     "output_type": "stream",
     "text": [
      "Loaded pretrained EvoTF model from ckpt: 2024_03_SNES_small.pkl\n",
      "EvoTF_ES - # Gen: 10|Fitness: 25969597349888.00000\n",
      "EvoTF_ES - # Gen: 20|Fitness: 20689186717696.00000\n",
      "EvoTF_ES - # Gen: 30|Fitness: 15526163120128.00000\n",
      "EvoTF_ES - # Gen: 40|Fitness: 10913834860544.00000\n",
      "EvoTF_ES - # Gen: 50|Fitness: 5563140276224.00000\n",
      "EvoTF_ES - # Gen: 60|Fitness: 2070152740864.00000\n",
      "EvoTF_ES - # Gen: 70|Fitness: 791563534336.00000\n",
      "EvoTF_ES - # Gen: 80|Fitness: 595409633280.00000\n",
      "EvoTF_ES - # Gen: 90|Fitness: 534578331648.00000\n",
      "EvoTF_ES - # Gen: 100|Fitness: 534578331648.00000\n"
     ]
    }
   ],
   "source": [
    "# Instantiate the search strategy\n",
    "rng = jax.random.PRNGKey(0)\n",
    "strategy = EvoTF_ES(popsize=512, num_dims=10) #elite_ratio=0.5)\n",
    "#strategy = CMA_ES(popsize=512, num_dims=100, elite_ratio=0.5)\n",
    "es_params = strategy.default_params.replace(init_min=-1000, init_max=1000)\n",
    "\n",
    "state = strategy.initialize(rng, es_params)\n",
    "\n",
    "# Run ask-eval-tell loop - NOTE: By default minimization\n",
    "for t in range(100):\n",
    "    rng, rng_gen, rng_eval = jax.random.split(rng, 3)\n",
    "    x, state = strategy.ask(rng_gen, state, es_params)\n",
    "    fitness = rosenbrock.rollout(rng_eval, x)\n",
    "    state = strategy.tell(x, fitness, state, es_params)\n",
    "\n",
    "    if (t + 1) % 10 == 0:\n",
    "        # print(\"CMA-ES - # Gen: {}|Fitness: {:.5f}|Params: {}\".format(\n",
    "        #     t+1, state.best_fitness, state.best_member))\n",
    "        print(\"EvoTF_ES - # Gen: {}|Fitness: {:.5f}\".format(\n",
    "            t+1, state.best_fitness,))\n",
    "        # print(\"EvoTF_ES - # Gen: {}\".format(\n",
    "        #     t+1, state.best_fitness))"
   ]
  }
 ],
 "metadata": {
  "kernelspec": {
   "display_name": "Python 3",
   "language": "python",
   "name": "python3"
  },
  "language_info": {
   "codemirror_mode": {
    "name": "ipython",
    "version": 3
   },
   "file_extension": ".py",
   "mimetype": "text/x-python",
   "name": "python",
   "nbconvert_exporter": "python",
   "pygments_lexer": "ipython3",
   "version": "3.10.14"
  }
 },
 "nbformat": 4,
 "nbformat_minor": 2
}
