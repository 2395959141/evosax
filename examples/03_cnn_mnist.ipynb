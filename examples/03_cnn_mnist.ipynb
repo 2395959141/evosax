{
 "cells": [
  {
   "cell_type": "markdown",
   "metadata": {},
   "source": [
    "# 03 - Evolving a MNIST CNN\n",
    "### [Last Update: February 2022][![Colab](https://colab.research.google.com/assets/colab-badge.svg)](https://colab.research.google.com/github/RobertTLange/evosax/blob/main/examples/03_cnn_mnist.ipynb)"
   ]
  },
  {
   "cell_type": "code",
   "execution_count": 1,
   "metadata": {},
   "outputs": [
    {
     "name": "stderr",
     "output_type": "stream",
     "text": [
      "WARNING:absl:No GPU/TPU found, falling back to CPU. (Set TF_CPP_MIN_LOG_LEVEL=0 and rerun for more info.)\n"
     ]
    }
   ],
   "source": [
    "%matplotlib inline\n",
    "%load_ext autoreload\n",
    "%autoreload 2\n",
    "%config InlineBackend.figure_format = 'retina'\n",
    "\n",
    "import jax\n",
    "import jax.numpy as jnp"
   ]
  },
  {
   "cell_type": "code",
   "execution_count": null,
   "metadata": {},
   "outputs": [],
   "source": [
    "from evosax import Augmented_RS\n",
    "from ParameterReshaper, NetworkMapper\n",
    "from evosax.problems import SupervisedFitness\n",
    "\n",
    "rng = jax.random.PRNGKey(0)\n",
    "network = NetworkMapper[\"All_CNN_C\"](\n",
    "        depth_1=1,\n",
    "        depth_2=1,\n",
    "        features_1=16,\n",
    "        features_2=8,\n",
    "        kernel_1=3,\n",
    "        kernel_2=5,\n",
    "        strides_1=1,\n",
    "        strides_2=1,\n",
    "        final_window=(28, 28),\n",
    "        num_output_units=10,\n",
    "    )\n",
    "pholder = jnp.zeros((1, 28, 28, 1))\n",
    "params = network.init(\n",
    "    rng,\n",
    "    x=pholder,\n",
    "    rng=rng,\n",
    ")\n",
    "\n",
    "param_reshaper = ParameterReshaper(params['params'])"
   ]
  },
  {
   "cell_type": "code",
   "execution_count": null,
   "metadata": {},
   "outputs": [],
   "source": [
    "evaluator = SupervisedFitness(\"MNIST\", batch_size=128)\n",
    "evaluator.set_apply_fn(network.apply)\n",
    "rollout = jax.jit(jax.vmap(evaluator.rollout, in_axes=(None, param_reshaper.vmap_dict)))"
   ]
  },
  {
   "cell_type": "code",
   "execution_count": null,
   "metadata": {},
   "outputs": [],
   "source": [
    "strategy = Augmented_RS(popsize=100,\n",
    "                        num_dims=param_reshaper.total_params,\n",
    "                        elite_ratio=0.2\n",
    "                        opt_name=\"clipup\")\n",
    "\n",
    "es_params = {\n",
    "        \"lrate_init\": 0.01,  # Adam learning rate outer step\n",
    "        \"lrate_decay\": 0.999,\n",
    "        \"lrate_limit\": 0.001,\n",
    "        \"sigma_init\": 0.1,\n",
    "        \"sigma_decay\": 0.999,\n",
    "        \"sigma_limit\": 0.01,\n",
    "        \"init_min\": -0.1,\n",
    "        \"init_max\": 0.1\n",
    "}"
   ]
  },
  {
   "cell_type": "code",
   "execution_count": null,
   "metadata": {},
   "outputs": [],
   "source": [
    "num_generations = 350\n",
    "num_rollouts = 20\n",
    "state = strategy.initialize(rng, es_params)\n",
    "\n",
    "for gen in range(num_generations):\n",
    "    rng, rng_init, rng_ask, rng_eval = jax.random.split(rng, 4)\n",
    "    x, state = strategy.ask(rng_ask, state, es_params)\n",
    "    reshaped_params = param_reshaper.reshape(x)\n",
    "    batch_rng = jax.random.split(rng_eval, num_rollouts)\n",
    "    fitness = rollout(batch_rng, reshaped_params).mean(axis=1)\n",
    "    state = strategy.tell(x, fitness, state, es_params)"
   ]
  },
  {
   "cell_type": "markdown",
   "metadata": {},
   "source": []
  }
 ],
 "metadata": {
  "kernelspec": {
   "display_name": "Python3 (ma-vision)",
   "language": "python",
   "name": "ma-vision"
  },
  "language_info": {
   "codemirror_mode": {
    "name": "ipython",
    "version": 3
   },
   "file_extension": ".py",
   "mimetype": "text/x-python",
   "name": "python",
   "nbconvert_exporter": "python",
   "pygments_lexer": "ipython3",
   "version": "3.6.9"
  }
 },
 "nbformat": 4,
 "nbformat_minor": 4
}
