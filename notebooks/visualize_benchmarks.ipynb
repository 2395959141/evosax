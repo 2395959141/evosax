{
 "cells": [
  {
   "cell_type": "code",
   "execution_count": null,
   "metadata": {},
   "outputs": [],
   "source": [
    "from mle_toolbox.utils import (plot_heatmap_array, hyper_log_to_df,\n",
    "                               visualize_1D_bar, visualize_1D_line)\n",
    "import numpy as np"
   ]
  },
  {
   "cell_type": "markdown",
   "metadata": {},
   "source": [
    "# Speed Comparisons for Different Devices"
   ]
  },
  {
   "cell_type": "code",
   "execution_count": null,
   "metadata": {},
   "outputs": [],
   "source": [
    "cpu_speeds = np.load(\"../cpu_speed.npy\")\n",
    "gpu_speeds = np.load(\"../gpu_speed.npy\")\n",
    "\n",
    "# rows: network sizes, cols: population sizes\n",
    "population_sizes = [100, 250, 500, 750, 1000]\n",
    "network_sizes = [16, 48, 80, 112, 144]\n",
    "cpu_speeds.shape"
   ]
  },
  {
   "cell_type": "code",
   "execution_count": null,
   "metadata": {},
   "outputs": [],
   "source": [
    "plot_heatmap_array(range_x=population_sizes,\n",
    "                   range_y=network_sizes,\n",
    "                   heat_array=cpu_speeds[1],\n",
    "                   title=\"CPU Exec: Single CMA-ES Generation\",\n",
    "                   xy_labels=[\"Population Size\", \"Network H Size\"],\n",
    "                   variable_name=\"Time in Secs\",\n",
    "                   every_nth_tick=1,\n",
    "                   text_in_cell = False,\n",
    "                   round_ticks=0,\n",
    "                   cmap=\"magma_r\")"
   ]
  },
  {
   "cell_type": "code",
   "execution_count": null,
   "metadata": {},
   "outputs": [],
   "source": [
    "plot_heatmap_array(range_x=population_sizes,\n",
    "                   range_y=network_sizes,\n",
    "                   heat_array=gpu_speeds[1],\n",
    "                   title=\"GPU Exec: Single CMA-ES Generation\",\n",
    "                   xy_labels=[\"Population Size\", \"Network H Size\"],\n",
    "                   variable_name=\"Time in Secs\",\n",
    "                   every_nth_tick=1,\n",
    "                   text_in_cell = False,\n",
    "                   round_ticks=0,\n",
    "                   cmap=\"magma_r\")"
   ]
  },
  {
   "cell_type": "code",
   "execution_count": null,
   "metadata": {},
   "outputs": [],
   "source": [
    "plot_heatmap_array(range_x=population_sizes,\n",
    "                   range_y=network_sizes,\n",
    "                   heat_array=cpu_speeds[0],\n",
    "                   title=\"CPU Compile: Single CMA-ES Generation\",\n",
    "                   xy_labels=[\"Population Size\", \"Network H Size\"],\n",
    "                   variable_name=\"Time in Secs\",\n",
    "                   every_nth_tick=1,\n",
    "                   text_in_cell = False,\n",
    "                   round_ticks=0,\n",
    "                   cmap=\"magma_r\")"
   ]
  },
  {
   "cell_type": "markdown",
   "metadata": {},
   "source": [
    "# Hyperparameter Comparison for Pendulum CMA-ES"
   ]
  },
  {
   "cell_type": "code",
   "execution_count": null,
   "metadata": {},
   "outputs": [],
   "source": [
    "df_pop_hiddens = hyper_log_to_df(\"../experiments/gridsearch/01/hyperlog.pkl\")\n",
    "fixed_params = None\n",
    "param_to_plot = 'hidden_size'\n",
    "target_to_plot = 'target'\n",
    "visualize_1D_bar(df_pop_hiddens, param_to_plot, target_to_plot,\n",
    "                 \"CMA-ES: Hidden Dimension - [3, H, 1]\",\n",
    "                 [\"H - Hidden Layer Size\", \"Cum. Episode Cost\"], 1)"
   ]
  },
  {
   "cell_type": "code",
   "execution_count": null,
   "metadata": {},
   "outputs": [],
   "source": [
    "df_c_m = hyper_log_to_df(\"../experiments/gridsearch/02/hyperlog.pkl\")\n",
    "fixed_params = None\n",
    "param_to_plot = 'c_m'\n",
    "target_to_plot = 'target'\n",
    "visualize_1D_bar(df_c_m, param_to_plot, target_to_plot,\n",
    "                 r\"CMA-ES: Mean Learning Rates $c_m$\",\n",
    "                 [r\"Mean Learning Rate $c_m$\", \"Cum. Episode Cost\"], 1, (0, 500))"
   ]
  },
  {
   "cell_type": "code",
   "execution_count": null,
   "metadata": {},
   "outputs": [],
   "source": [
    "df_elite = hyper_log_to_df(\"../experiments/gridsearch/03/hyperlog.pkl\")\n",
    "fixed_params = None\n",
    "param_to_plot = 'elite_percentage'\n",
    "target_to_plot = 'target'\n",
    "visualize_1D_bar(df_elite, param_to_plot, target_to_plot,\n",
    "                 r\"CMA-ES: Sizes of Truncation Selection\",\n",
    "                 [r\"% Percentage of Total Population\", \"Cum. Episode Cost\"], 1)"
   ]
  }
 ],
 "metadata": {
  "kernelspec": {
   "display_name": "Python3 (ma-vision)",
   "language": "python",
   "name": "ma-vision"
  },
  "language_info": {
   "codemirror_mode": {
    "name": "ipython",
    "version": 3
   },
   "file_extension": ".py",
   "mimetype": "text/x-python",
   "name": "python",
   "nbconvert_exporter": "python",
   "pygments_lexer": "ipython3",
   "version": "3.6.9"
  }
 },
 "nbformat": 4,
 "nbformat_minor": 4
}
