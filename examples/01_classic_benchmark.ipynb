{
 "cells": [
  {
   "cell_type": "markdown",
   "metadata": {},
   "source": [
    "# 01 - Simple ES Benchmark Function\n",
    "### [Last Update: February 2022][![Colab](https://colab.research.google.com/assets/colab-badge.svg)](https://colab.research.google.com/github/RobertTLange/evosax/blob/main/examples/01_classic_benchmark.ipynb)"
   ]
  },
  {
   "cell_type": "code",
   "execution_count": 1,
   "metadata": {},
   "outputs": [],
   "source": [
    "%matplotlib inline\n",
    "%load_ext autoreload\n",
    "%autoreload 2\n",
    "%config InlineBackend.figure_format = 'retina'\n",
    "\n",
    "import jax\n",
    "import matplotlib.pyplot as plt"
   ]
  },
  {
   "cell_type": "markdown",
   "metadata": {},
   "source": [
    "## 2D Rosenbrock with CMA-ES"
   ]
  },
  {
   "cell_type": "code",
   "execution_count": 2,
   "metadata": {},
   "outputs": [],
   "source": [
    "from evosax import CMA_ES\n",
    "from evosax.problems import ClassicFitness\n",
    "\n",
    "# Instantiate the problem evaluator\n",
    "rosenbrock = ClassicFitness(\"rosenbrock\", num_dims=2)\n",
    "\n",
    "# Instantiate the search strategy\n",
    "rng = jax.random.PRNGKey(0)\n",
    "strategy = CMA_ES(popsize=20, num_dims=2, elite_ratio=0.5)\n",
    "params = strategy.default_params\n",
    "state = strategy.initialize(rng, params)\n",
    "\n",
    "# Run ask-eval-tell loop - NOTE: By default minimization\n",
    "for t in range(50):\n",
    "    rng, rng_gen, rng_eval = jax.random.split(rng, 3)\n",
    "    x, state = strategy.ask(rng_gen, state, params)\n",
    "    fitness = rosenbrock.rollout(rng_eval, x)\n",
    "    state = strategy.tell(x, fitness, state, params)\n",
    "\n",
    "    if (t + 1) % 10 == 0:\n",
    "        print(\"# Gen: {}|Fitness: {:.2f}|Params: {}\".format(\n",
    "            t+1, state[\"best_fitness\"], state[\"best_member\"]))"
   ]
  },
  {
   "cell_type": "markdown",
   "metadata": {},
   "source": [
    "## 2D Rosenbrock with Other ES"
   ]
  },
  {
   "cell_type": "code",
   "execution_count": null,
   "metadata": {},
   "outputs": [],
   "source": [
    "from evosax import Strategies\n",
    "rng = jax.random.PRNGKey(0)\n",
    "\n",
    "for s_name in [\"Simple_ES\", \"Simple_GA\", \"PSO_ES\", \"Differential_ES\"]:\n",
    "    if s_name in [\"Simple_ES\", \"Simple_GA\"]: \n",
    "        strategy = Strategies[s_name](popsize=20, num_dims=2, elite_ratio=0.5)\n",
    "    else:\n",
    "        strategy = Strategies[s_name](popsize=20, num_dims=2)\n",
    "    params = strategy.default_params\n",
    "    state = strategy.initialize(rng, params)\n",
    "\n",
    "    for t in range(50):\n",
    "        rng, rng_gen, rng_eval = jax.random.split(rng, 3)\n",
    "        x, state = strategy.ask(rng_gen, state, params)\n",
    "        fitness = rosenbrock.rollout(rng_eval, x)\n",
    "        state = strategy.tell(x, fitness, state, params)\n",
    "\n",
    "        if (t + 1) % 10 == 0:\n",
    "            print(\"# Gen: {}|Fitness: {:.2f}|Params: {}\".format(\n",
    "                t+1, state[\"best_fitness\"], state[\"best_member\"]))"
   ]
  },
  {
   "cell_type": "markdown",
   "metadata": {},
   "source": [
    "# xNES on Sinusoidal Task"
   ]
  },
  {
   "cell_type": "code",
   "execution_count": null,
   "metadata": {},
   "outputs": [],
   "source": [
    "from evosax.strategies import xNES\n",
    "\n",
    "\n",
    "def f(x):  # sin(x^2+y^2)/(x^2+y^2)\n",
    "    r = jnp.sum(x ** 2)\n",
    "    return -jnp.sin(r) / r\n",
    "\n",
    "batch_func = jax.vmap(f, in_axes=0)\n",
    "\n",
    "rng = jax.random.PRNGKey(0)\n",
    "strategy = xNES(popsize=50, num_dims=2)\n",
    "params = strategy.default_params\n",
    "params[\"use_adaptive_sampling\"] = True\n",
    "params[\"use_fitness_shaping\"] = True\n",
    "params[\"eta_bmat\"] = 0.01\n",
    "params[\"eta_sigma\"] = 0.1\n",
    "\n",
    "state = strategy.initialize(rng, params)\n",
    "state[\"mean\"] = jnp.array([9999.0, -9999.0])  # a bad init guess\n",
    "fitness_log = []\n",
    "num_iters = 5000\n",
    "for t in range(num_iters):\n",
    "    rng, rng_iter = jax.random.split(rng)\n",
    "    y, state = strategy.ask(rng_iter, state, params)\n",
    "    fitness = batch_func(y)\n",
    "    state = strategy.tell(y, fitness, state, params)\n",
    "    best_id = jnp.argmin(fitness)\n",
    "    fitness_log.append(fitness[best_id])\n",
    "    if t % 500 == 0:\n",
    "        print(t, jnp.min(jnp.array(fitness_log)), state[\"mean\"])\n"
   ]
  }
 ],
 "metadata": {
  "kernelspec": {
   "display_name": "Python3 (ma-vision)",
   "language": "python",
   "name": "ma-vision"
  },
  "language_info": {
   "codemirror_mode": {
    "name": "ipython",
    "version": 3
   },
   "file_extension": ".py",
   "mimetype": "text/x-python",
   "name": "python",
   "nbconvert_exporter": "python",
   "pygments_lexer": "ipython3",
   "version": "3.6.9"
  }
 },
 "nbformat": 4,
 "nbformat_minor": 4
}
