{
 "cells": [
  {
   "cell_type": "markdown",
   "metadata": {},
   "source": [
    "# 01 - Simple ES Benchmark Function\n",
    "### [Last Update: March 2022][![Colab](https://colab.research.google.com/assets/colab-badge.svg)](https://colab.research.google.com/github/RobertTLange/evosax/blob/main/examples/01_classic_benchmark.ipynb)"
   ]
  },
  {
   "cell_type": "code",
   "execution_count": null,
   "metadata": {},
   "outputs": [],
   "source": [
    "%matplotlib inline\n",
    "%load_ext autoreload\n",
    "%autoreload 2\n",
    "%config InlineBackend.figure_format = 'retina'\n",
    "\n",
    "!pip install -q git+https://github.com/RobertTLange/evosax.git@main"
   ]
  },
  {
   "cell_type": "markdown",
   "metadata": {},
   "source": [
    "## 2D Rosenbrock with CMA-ES\n",
    "\n",
    "`evosax` implements a set of different classic benchmark functions. These include multi-dimensional versions of `quadratic`, `rosenbrock`, `ackley`, `griewank`, `rastrigin`, `schwefel`, `himmelblau`, `six-hump`. In the following we focus on the 2D Rosenbrock case, but feel free to play around with the others."
   ]
  },
  {
   "cell_type": "code",
   "execution_count": 1,
   "metadata": {},
   "outputs": [
    {
     "name": "stderr",
     "output_type": "stream",
     "text": [
      "<frozen importlib._bootstrap>:228: RuntimeWarning: scipy._lib.messagestream.MessageStream size changed, may indicate binary incompatibility. Expected 56 from C header, got 64 from PyObject\n",
      "WARNING:absl:No GPU/TPU found, falling back to CPU. (Set TF_CPP_MIN_LOG_LEVEL=0 and rerun for more info.)\n"
     ]
    },
    {
     "name": "stdout",
     "output_type": "stream",
     "text": [
      "CMA-ES - # Gen: 10|Fitness: 0.13|Params: [0.6441135  0.41466928]\n",
      "CMA-ES - # Gen: 20|Fitness: 0.00|Params: [0.97413015 0.9518173 ]\n",
      "CMA-ES - # Gen: 30|Fitness: 0.00|Params: [0.9981632 0.9965331]\n",
      "CMA-ES - # Gen: 40|Fitness: 0.00|Params: [0.9999719 0.9999461]\n",
      "CMA-ES - # Gen: 50|Fitness: 0.00|Params: [0.9999997 0.9999994]\n"
     ]
    }
   ],
   "source": [
    "import jax\n",
    "import jax.numpy as jnp\n",
    "from evosax import CMA_ES\n",
    "from evosax.problems import ClassicFitness\n",
    "\n",
    "# Instantiate the problem evaluator\n",
    "rosenbrock = ClassicFitness(\"rosenbrock\", num_dims=2)\n",
    "\n",
    "# Instantiate the search strategy\n",
    "rng = jax.random.PRNGKey(0)\n",
    "strategy = CMA_ES(popsize=20, num_dims=2, elite_ratio=0.5)\n",
    "state = strategy.initialize(rng)\n",
    "\n",
    "# Run ask-eval-tell loop - NOTE: By default minimization\n",
    "for t in range(50):\n",
    "    rng, rng_gen, rng_eval = jax.random.split(rng, 3)\n",
    "    x, state = strategy.ask(rng_gen, state)\n",
    "    fitness = rosenbrock.rollout(rng_eval, x)\n",
    "    state = strategy.tell(x, fitness, state)\n",
    "\n",
    "    if (t + 1) % 10 == 0:\n",
    "        print(\"CMA-ES - # Gen: {}|Fitness: {:.2f}|Params: {}\".format(\n",
    "            t+1, state.best_fitness, state.best_member))"
   ]
  },
  {
   "cell_type": "markdown",
   "metadata": {},
   "source": [
    "## 2D Rosenbrock with Other ES"
   ]
  },
  {
   "cell_type": "code",
   "execution_count": 2,
   "metadata": {},
   "outputs": [
    {
     "name": "stdout",
     "output_type": "stream",
     "text": [
      "SimpleES - # Gen: 5|Fitness: 0.44|Params: [0.41951638 0.14410228]\n",
      "SimpleES - # Gen: 10|Fitness: 0.04|Params: [0.91297907 0.8160112 ]\n",
      "SimpleES - # Gen: 15|Fitness: 0.01|Params: [0.98460174 0.97844493]\n",
      "SimpleES - # Gen: 20|Fitness: 0.01|Params: [0.98460174 0.97844493]\n",
      "SimpleES - # Gen: 25|Fitness: 0.01|Params: [0.98460174 0.97844493]\n",
      "SimpleES - # Gen: 30|Fitness: 0.01|Params: [0.98460174 0.97844493]\n",
      "====================\n",
      "SimpleGA - # Gen: 5|Fitness: 6.79|Params: [-0.012256   -0.24003565]\n",
      "SimpleGA - # Gen: 10|Fitness: 0.68|Params: [0.21533592 0.02063736]\n",
      "SimpleGA - # Gen: 15|Fitness: 0.39|Params: [0.4103716  0.14900509]\n",
      "SimpleGA - # Gen: 20|Fitness: 0.18|Params: [0.5903524  0.33600026]\n",
      "SimpleGA - # Gen: 25|Fitness: 0.17|Params: [0.6199676  0.39935672]\n",
      "SimpleGA - # Gen: 30|Fitness: 0.13|Params: [0.64335036 0.40990546]\n",
      "====================\n",
      "PSO - # Gen: 5|Fitness: 1.11|Params: [-0.01428866  0.02790421]\n",
      "PSO - # Gen: 10|Fitness: 0.03|Params: [1.0889671 1.1718146]\n",
      "PSO - # Gen: 15|Fitness: 0.01|Params: [1.109518  1.2260276]\n",
      "PSO - # Gen: 20|Fitness: 0.01|Params: [1.07492   1.1620886]\n",
      "PSO - # Gen: 25|Fitness: 0.01|Params: [1.07492   1.1620886]\n",
      "PSO - # Gen: 30|Fitness: 0.01|Params: [1.07492   1.1620886]\n",
      "====================\n",
      "DE - # Gen: 5|Fitness: 0.33|Params: [0.4517086  0.18653232]\n",
      "DE - # Gen: 10|Fitness: 0.06|Params: [0.7975259 0.6230468]\n",
      "DE - # Gen: 15|Fitness: 0.00|Params: [0.95278853 0.90621567]\n",
      "DE - # Gen: 20|Fitness: 0.00|Params: [0.9835618 0.9694447]\n",
      "DE - # Gen: 25|Fitness: 0.00|Params: [1.0125908 1.0251266]\n",
      "DE - # Gen: 30|Fitness: 0.00|Params: [1.0005985 1.0011392]\n",
      "====================\n",
      "Sep_CMA_ES - # Gen: 5|Fitness: 5.25|Params: [-1.2778556  1.6572908]\n",
      "Sep_CMA_ES - # Gen: 10|Fitness: 5.25|Params: [-1.2778556  1.6572908]\n",
      "Sep_CMA_ES - # Gen: 15|Fitness: 5.25|Params: [-1.2778556  1.6572908]\n",
      "Sep_CMA_ES - # Gen: 20|Fitness: 5.25|Params: [-1.2778556  1.6572908]\n",
      "Sep_CMA_ES - # Gen: 25|Fitness: 5.25|Params: [-1.2778556  1.6572908]\n",
      "Sep_CMA_ES - # Gen: 30|Fitness: 5.25|Params: [-1.2778556  1.6572908]\n",
      "====================\n",
      "Full_iAMaLGaM - # Gen: 5|Fitness: 0.25|Params: [0.6604285  0.39947018]\n",
      "Full_iAMaLGaM - # Gen: 10|Fitness: 0.13|Params: [0.69210684 0.4968851 ]\n",
      "Full_iAMaLGaM - # Gen: 15|Fitness: 0.04|Params: [0.7911089 0.6271153]\n",
      "Full_iAMaLGaM - # Gen: 20|Fitness: 0.01|Params: [0.8877124  0.78315926]\n",
      "Full_iAMaLGaM - # Gen: 25|Fitness: 0.00|Params: [0.97602683 0.9512631 ]\n",
      "Full_iAMaLGaM - # Gen: 30|Fitness: 0.00|Params: [0.99968135 0.999422  ]\n",
      "====================\n",
      "Indep_iAMaLGaM - # Gen: 5|Fitness: 0.17|Params: [0.61008203 0.38497373]\n",
      "Indep_iAMaLGaM - # Gen: 10|Fitness: 0.14|Params: [0.69136626 0.5000103 ]\n",
      "Indep_iAMaLGaM - # Gen: 15|Fitness: 0.14|Params: [0.69136626 0.5000103 ]\n",
      "Indep_iAMaLGaM - # Gen: 20|Fitness: 0.14|Params: [0.69136626 0.5000103 ]\n",
      "Indep_iAMaLGaM - # Gen: 25|Fitness: 0.14|Params: [0.63670754 0.41385096]\n",
      "Indep_iAMaLGaM - # Gen: 30|Fitness: 0.14|Params: [0.63670754 0.41385096]\n",
      "====================\n",
      "MA_ES - # Gen: 5|Fitness: 840.14|Params: [ 1.6348459  -0.22510758]\n",
      "MA_ES - # Gen: 10|Fitness: 839.89|Params: [ 1.6386213  -0.21230145]\n",
      "MA_ES - # Gen: 15|Fitness: 839.11|Params: [ 1.6380427  -0.21285582]\n",
      "MA_ES - # Gen: 20|Fitness: 839.04|Params: [ 1.6380086  -0.21284352]\n",
      "MA_ES - # Gen: 25|Fitness: 839.04|Params: [ 1.6380068  -0.21284315]\n",
      "MA_ES - # Gen: 30|Fitness: 839.04|Params: [ 1.6380068  -0.21284278]\n",
      "====================\n",
      "LM_MA_ES - # Gen: 5|Fitness: 6.08|Params: [-1.30967    1.6290693]\n",
      "LM_MA_ES - # Gen: 10|Fitness: 6.08|Params: [-1.30967    1.6290693]\n",
      "LM_MA_ES - # Gen: 15|Fitness: 6.08|Params: [-1.30967    1.6290693]\n",
      "LM_MA_ES - # Gen: 20|Fitness: 6.08|Params: [-1.30967    1.6290693]\n",
      "LM_MA_ES - # Gen: 25|Fitness: 6.08|Params: [-1.30967    1.6290693]\n",
      "LM_MA_ES - # Gen: 30|Fitness: 6.08|Params: [-1.30967    1.6290693]\n",
      "====================\n",
      "RmES - # Gen: 5|Fitness: 1.81|Params: [ 0.17560971 -0.0752801 ]\n",
      "RmES - # Gen: 10|Fitness: 0.12|Params: [0.7972345  0.60836744]\n",
      "RmES - # Gen: 15|Fitness: 0.09|Params: [0.9898771 1.0095383]\n",
      "RmES - # Gen: 20|Fitness: 0.01|Params: [0.9717485 0.9363907]\n",
      "RmES - # Gen: 25|Fitness: 0.01|Params: [0.94771284 0.9043704 ]\n",
      "RmES - # Gen: 30|Fitness: 0.00|Params: [1.0041738 1.006372 ]\n",
      "====================\n",
      "GLD - # Gen: 5|Fitness: 2.20|Params: [-0.1850586   0.12321383]\n",
      "GLD - # Gen: 10|Fitness: 1.01|Params: [-0.00243703  0.00842408]\n",
      "GLD - # Gen: 15|Fitness: 0.40|Params: [0.364061  0.1313454]\n",
      "GLD - # Gen: 20|Fitness: 0.27|Params: [0.5125    0.2448907]\n",
      "GLD - # Gen: 25|Fitness: 0.16|Params: [0.6050571  0.37277922]\n",
      "GLD - # Gen: 30|Fitness: 0.10|Params: [0.68510354 0.4659995 ]\n",
      "====================\n",
      "SimAnneal - # Gen: 5|Fitness: 19.24|Params: [-1.131186   0.8961963]\n",
      "SimAnneal - # Gen: 10|Fitness: 3.70|Params: [-0.8958996   0.83507967]\n",
      "SimAnneal - # Gen: 15|Fitness: 3.08|Params: [-0.7558189  0.5737612]\n",
      "SimAnneal - # Gen: 20|Fitness: 2.34|Params: [-0.52904546  0.27448243]\n",
      "SimAnneal - # Gen: 25|Fitness: 1.89|Params: [-0.36856776  0.14812674]\n",
      "SimAnneal - # Gen: 30|Fitness: 1.23|Params: [-0.07835681  0.03237222]\n",
      "====================\n"
     ]
    }
   ],
   "source": [
    "from evosax import Strategies\n",
    "rng = jax.random.PRNGKey(0)\n",
    "\n",
    "for s_name in [\"SimpleES\", \"SimpleGA\", \"PSO\", \"DE\", \"Sep_CMA_ES\",\n",
    "               \"Full_iAMaLGaM\", \"Indep_iAMaLGaM\", \"MA_ES\", \"LM_MA_ES\",\n",
    "               \"RmES\", \"GLD\", \"SimAnneal\"]:\n",
    "    strategy = Strategies[s_name](popsize=20, num_dims=2)\n",
    "    es_params = strategy.default_params\n",
    "    es_params = es_params.replace(init_min=-2, init_max=2)\n",
    "    state = strategy.initialize(rng, es_params)\n",
    "\n",
    "    for t in range(30):\n",
    "        rng, rng_gen, rng_eval = jax.random.split(rng, 3)\n",
    "        x, state = strategy.ask(rng_gen, state, es_params)\n",
    "        fitness = rosenbrock.rollout(rng_eval, x)\n",
    "        state = strategy.tell(x, fitness, state, es_params)\n",
    "\n",
    "        if (t + 1) % 5 == 0:\n",
    "            print(\"{} - # Gen: {}|Fitness: {:.2f}|Params: {}\".format(\n",
    "                s_name, t+1, state.best_fitness, state.best_member))\n",
    "    print(20*\"=\")"
   ]
  },
  {
   "cell_type": "markdown",
   "metadata": {},
   "source": [
    "# XNES on Sinusoidal Task"
   ]
  },
  {
   "cell_type": "code",
   "execution_count": 3,
   "metadata": {},
   "outputs": [
    {
     "name": "stdout",
     "output_type": "stream",
     "text": [
      "xNES - # Gen: 500|Fitness: -0.00000|Params: [ 9991.45  -9987.809]\n",
      "xNES - # Gen: 1000|Fitness: -0.00000|Params: [ 9951.659 -9911.333]\n",
      "xNES - # Gen: 1500|Fitness: -1.00000|Params: [ 8.5644424e-05 -5.0786706e-03]\n",
      "xNES - # Gen: 2000|Fitness: -1.00000|Params: [ 8.5644424e-05 -5.0786706e-03]\n",
      "xNES - # Gen: 2500|Fitness: -1.00000|Params: [ 8.5644424e-05 -5.0786706e-03]\n",
      "xNES - # Gen: 3000|Fitness: -1.00000|Params: [ 8.5644424e-05 -5.0786706e-03]\n",
      "xNES - # Gen: 3500|Fitness: -1.00000|Params: [ 8.5644424e-05 -5.0786706e-03]\n",
      "xNES - # Gen: 4000|Fitness: -1.00000|Params: [ 8.5644424e-05 -5.0786706e-03]\n",
      "xNES - # Gen: 4500|Fitness: -1.00000|Params: [ 8.5644424e-05 -5.0786706e-03]\n",
      "xNES - # Gen: 5000|Fitness: -1.00000|Params: [ 8.5644424e-05 -5.0786706e-03]\n"
     ]
    }
   ],
   "source": [
    "from evosax.strategies import XNES\n",
    "\n",
    "def f(x):\n",
    "    \"\"\"Taken from https://github.com/chanshing/xnes\"\"\" \n",
    "    r = jnp.sum(x ** 2)\n",
    "    return -jnp.sin(r) / r\n",
    "\n",
    "batch_func = jax.vmap(f, in_axes=0)\n",
    "\n",
    "rng = jax.random.PRNGKey(0)\n",
    "strategy = XNES(popsize=50, num_dims=2)\n",
    "es_params = strategy.default_params\n",
    "es_params = es_params.replace(use_adaptive_sampling=True, \n",
    "                              use_fitness_shaping=True,\n",
    "                              eta_bmat=0.01,\n",
    "                              eta_sigma_init=0.1)\n",
    "\n",
    "state = strategy.initialize(rng, es_params)\n",
    "# Set mean to a bad initial guess\n",
    "state = state.replace(mean = jnp.array([9999.0, -9999.0]))\n",
    "num_iters = 5000\n",
    "for t in range(num_iters):\n",
    "    rng, rng_iter = jax.random.split(rng)\n",
    "    y, state = strategy.ask(rng_iter, state, es_params)\n",
    "    fitness = batch_func(y)\n",
    "    state = strategy.tell(y, fitness, state, es_params)\n",
    "    if (t + 1) % 500 == 0:\n",
    "        print(\"xNES - # Gen: {}|Fitness: {:.5f}|Params: {}\".format(\n",
    "                t+1, state.best_fitness, state.best_member))\n"
   ]
  },
  {
   "cell_type": "code",
   "execution_count": null,
   "metadata": {},
   "outputs": [],
   "source": []
  }
 ],
 "metadata": {
  "kernelspec": {
   "display_name": "mle-toolbox",
   "language": "python",
   "name": "mle-toolbox"
  },
  "language_info": {
   "codemirror_mode": {
    "name": "ipython",
    "version": 3
   },
   "file_extension": ".py",
   "mimetype": "text/x-python",
   "name": "python",
   "nbconvert_exporter": "python",
   "pygments_lexer": "ipython3",
   "version": "3.9.7"
  }
 },
 "nbformat": 4,
 "nbformat_minor": 4
}
