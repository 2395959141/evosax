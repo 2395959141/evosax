{
 "cells": [
  {
   "cell_type": "markdown",
   "metadata": {},
   "source": [
    "# 01 - Simple ES Benchmark Function\n",
    "### [Last Update: February 2022][![Colab](https://colab.research.google.com/assets/colab-badge.svg)](https://colab.research.google.com/github/RobertTLange/evosax/blob/main/examples/01_classic_benchmark.ipynb)"
   ]
  },
  {
   "cell_type": "code",
   "execution_count": 1,
   "metadata": {},
   "outputs": [],
   "source": [
    "%matplotlib inline\n",
    "%load_ext autoreload\n",
    "%autoreload 2\n",
    "%config InlineBackend.figure_format = 'retina'\n",
    "\n",
    "!pip install evosax\n",
    "\n",
    "import jax\n",
    "import jax.numpy as jnp"
   ]
  },
  {
   "cell_type": "markdown",
   "metadata": {},
   "source": [
    "## 2D Rosenbrock with CMA-ES\n",
    "\n",
    "`evosax` implements a set of different classic benchmark functions. These include multi-dimensional versions of `quadratic`, `rosenbrock`, `ackley`, `griewank`, `rastrigin`, `schwefel`, `himmelblau`, `six-hump`. In the following we focus on the 2D Rosenbrock case, but feel free to play around with the others."
   ]
  },
  {
   "cell_type": "code",
   "execution_count": 2,
   "metadata": {},
   "outputs": [
    {
     "name": "stdout",
     "output_type": "stream",
     "text": [
      "CMA-ES - # Gen: 10|Fitness: 0.67|Params: [0.18411857 0.02598005]\n",
      "CMA-ES - # Gen: 20|Fitness: 0.14|Params: [0.6254667  0.39644676]\n",
      "CMA-ES - # Gen: 30|Fitness: 0.01|Params: [0.9449675  0.89805067]\n",
      "CMA-ES - # Gen: 40|Fitness: 0.00|Params: [0.999287  0.9985225]\n",
      "CMA-ES - # Gen: 50|Fitness: 0.00|Params: [0.999984   0.99996775]\n"
     ]
    }
   ],
   "source": [
    "from evosax import CMA_ES\n",
    "from evosax.problems import ClassicFitness\n",
    "\n",
    "# Instantiate the problem evaluator\n",
    "rosenbrock = ClassicFitness(\"rosenbrock\", num_dims=2)\n",
    "\n",
    "# Instantiate the search strategy\n",
    "rng = jax.random.PRNGKey(0)\n",
    "strategy = CMA_ES(popsize=20, num_dims=2, elite_ratio=0.5)\n",
    "es_params = strategy.default_params\n",
    "state = strategy.initialize(rng, es_params)\n",
    "\n",
    "# Run ask-eval-tell loop - NOTE: By default minimization\n",
    "for t in range(50):\n",
    "    rng, rng_gen, rng_eval = jax.random.split(rng, 3)\n",
    "    x, state = strategy.ask(rng_gen, state, es_params)\n",
    "    fitness = rosenbrock.rollout(rng_eval, x)\n",
    "    state = strategy.tell(x, fitness, state, es_params)\n",
    "\n",
    "    if (t + 1) % 10 == 0:\n",
    "        print(\"CMA-ES - # Gen: {}|Fitness: {:.2f}|Params: {}\".format(\n",
    "            t+1, state[\"best_fitness\"], state[\"best_member\"]))"
   ]
  },
  {
   "cell_type": "markdown",
   "metadata": {},
   "source": [
    "## 2D Rosenbrock with Other ES"
   ]
  },
  {
   "cell_type": "code",
   "execution_count": 3,
   "metadata": {},
   "outputs": [
    {
     "name": "stdout",
     "output_type": "stream",
     "text": [
      "Simple_ES - # Gen: 5|Fitness: 0.30|Params: [0.92314136 0.90602154]\n",
      "Simple_ES - # Gen: 10|Fitness: 0.30|Params: [0.92314136 0.90602154]\n",
      "Simple_ES - # Gen: 15|Fitness: 0.01|Params: [1.0070696 1.0240867]\n",
      "Simple_ES - # Gen: 20|Fitness: 0.01|Params: [1.0070696 1.0240867]\n",
      "Simple_ES - # Gen: 25|Fitness: 0.01|Params: [1.0070696 1.0240867]\n",
      "Simple_ES - # Gen: 30|Fitness: 0.01|Params: [1.0070696 1.0240867]\n",
      "====================\n",
      "Simple_GA - # Gen: 5|Fitness: 0.48|Params: [1.0857993 1.2479298]\n",
      "Simple_GA - # Gen: 10|Fitness: 0.34|Params: [1.0905902 1.2473906]\n",
      "Simple_GA - # Gen: 15|Fitness: 0.16|Params: [1.0978061 1.2433528]\n",
      "Simple_GA - # Gen: 20|Fitness: 0.06|Params: [1.1003273 1.2336206]\n",
      "Simple_GA - # Gen: 25|Fitness: 0.01|Params: [1.1077771 1.2309372]\n",
      "Simple_GA - # Gen: 30|Fitness: 0.01|Params: [1.1069536 1.225423 ]\n",
      "====================\n",
      "PSO_ES - # Gen: 5|Fitness: 1.11|Params: [-0.01428866  0.02790421]\n",
      "PSO_ES - # Gen: 10|Fitness: 0.03|Params: [1.0889671 1.1718146]\n",
      "PSO_ES - # Gen: 15|Fitness: 0.01|Params: [1.109518  1.2260276]\n",
      "PSO_ES - # Gen: 20|Fitness: 0.01|Params: [1.07492   1.1620886]\n",
      "PSO_ES - # Gen: 25|Fitness: 0.01|Params: [1.07492   1.1620886]\n",
      "PSO_ES - # Gen: 30|Fitness: 0.01|Params: [1.07492   1.1620886]\n",
      "====================\n",
      "Differential_ES - # Gen: 5|Fitness: 1.47|Params: [0.4202202  0.07006817]\n",
      "Differential_ES - # Gen: 10|Fitness: 0.06|Params: [0.8021141  0.62911767]\n",
      "Differential_ES - # Gen: 15|Fitness: 0.02|Params: [0.9362315  0.86526275]\n",
      "Differential_ES - # Gen: 20|Fitness: 0.00|Params: [0.9845552 0.9694641]\n",
      "Differential_ES - # Gen: 25|Fitness: 0.00|Params: [0.9845552 0.9694641]\n",
      "Differential_ES - # Gen: 30|Fitness: 0.00|Params: [1.0019752 1.0039067]\n",
      "====================\n"
     ]
    }
   ],
   "source": [
    "from evosax import Strategies\n",
    "rng = jax.random.PRNGKey(0)\n",
    "\n",
    "for s_name in [\"Simple_ES\", \"Simple_GA\", \"PSO_ES\", \"Differential_ES\"]:\n",
    "    if s_name in [\"Simple_ES\", \"Simple_GA\"]: \n",
    "        strategy = Strategies[s_name](popsize=20, num_dims=2, elite_ratio=0.5)\n",
    "    else:\n",
    "        strategy = Strategies[s_name](popsize=20, num_dims=2)\n",
    "    es_params = strategy.default_params\n",
    "    state = strategy.initialize(rng, es_params)\n",
    "\n",
    "    for t in range(30):\n",
    "        rng, rng_gen, rng_eval = jax.random.split(rng, 3)\n",
    "        x, state = strategy.ask(rng_gen, state, es_params)\n",
    "        fitness = rosenbrock.rollout(rng_eval, x)\n",
    "        state = strategy.tell(x, fitness, state, es_params)\n",
    "\n",
    "        if (t + 1) % 5 == 0:\n",
    "            print(\"{} - # Gen: {}|Fitness: {:.2f}|Params: {}\".format(\n",
    "                s_name, t+1, state[\"best_fitness\"], state[\"best_member\"]))\n",
    "    print(20*\"=\")"
   ]
  },
  {
   "cell_type": "markdown",
   "metadata": {},
   "source": [
    "# xNES on Sinusoidal Task"
   ]
  },
  {
   "cell_type": "code",
   "execution_count": 4,
   "metadata": {},
   "outputs": [
    {
     "name": "stdout",
     "output_type": "stream",
     "text": [
      "xNES - # Gen: 500|Fitness: -0.00000|Params: [ 9972.834 -9983.528]\n",
      "xNES - # Gen: 1000|Fitness: -0.00000|Params: [ 9955.314 -9948.974]\n",
      "xNES - # Gen: 1500|Fitness: -0.00000|Params: [ 9955.314 -9948.974]\n",
      "xNES - # Gen: 2000|Fitness: -0.00000|Params: [ 9166.509 -9119.922]\n",
      "xNES - # Gen: 2500|Fitness: -0.00000|Params: [ 9105.494 -9127.413]\n",
      "xNES - # Gen: 3000|Fitness: -0.00000|Params: [ 7209.5283 -6139.299 ]\n",
      "xNES - # Gen: 3500|Fitness: -1.00000|Params: [ 0.00756863 -0.00739648]\n",
      "xNES - # Gen: 4000|Fitness: -1.00000|Params: [ 0.00756863 -0.00739648]\n",
      "xNES - # Gen: 4500|Fitness: -1.00000|Params: [ 0.00756863 -0.00739648]\n",
      "xNES - # Gen: 5000|Fitness: -1.00000|Params: [ 0.00756863 -0.00739648]\n"
     ]
    }
   ],
   "source": [
    "from evosax.strategies import xNES\n",
    "\n",
    "def f(x):\n",
    "    \"\"\"Taken from https://github.com/chanshing/xnes\"\"\" \n",
    "    r = jnp.sum(x ** 2)\n",
    "    return -jnp.sin(r) / r\n",
    "\n",
    "batch_func = jax.vmap(f, in_axes=0)\n",
    "\n",
    "rng = jax.random.PRNGKey(0)\n",
    "strategy = xNES(popsize=50, num_dims=2)\n",
    "es_params = strategy.default_params\n",
    "es_params[\"use_adaptive_sampling\"] = True\n",
    "es_params[\"use_fitness_shaping\"] = True\n",
    "es_params[\"eta_bmat\"] = 0.01\n",
    "es_params[\"eta_sigma\"] = 0.1\n",
    "\n",
    "state = strategy.initialize(rng, es_params)\n",
    "state[\"mean\"] = jnp.array([9999.0, -9999.0])  # a bad init guess\n",
    "num_iters = 5000\n",
    "for t in range(num_iters):\n",
    "    rng, rng_iter = jax.random.split(rng)\n",
    "    y, state = strategy.ask(rng_iter, state, es_params)\n",
    "    fitness = batch_func(y)\n",
    "    state = strategy.tell(y, fitness, state, es_params)\n",
    "    if (t + 1) % 500 == 0:\n",
    "        print(\"xNES - # Gen: {}|Fitness: {:.5f}|Params: {}\".format(\n",
    "                t+1, state[\"best_fitness\"], state[\"best_member\"]))\n"
   ]
  }
 ],
 "metadata": {
  "kernelspec": {
   "display_name": "snippets",
   "language": "python",
   "name": "snippets"
  },
  "language_info": {
   "codemirror_mode": {
    "name": "ipython",
    "version": 3
   },
   "file_extension": ".py",
   "mimetype": "text/x-python",
   "name": "python",
   "nbconvert_exporter": "python",
   "pygments_lexer": "ipython3",
   "version": "3.8.11"
  }
 },
 "nbformat": 4,
 "nbformat_minor": 4
}
