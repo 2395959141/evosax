{
 "cells": [
  {
   "cell_type": "code",
   "execution_count": 1,
   "metadata": {},
   "outputs": [],
   "source": [
    "%matplotlib inline\n",
    "%load_ext autoreload\n",
    "%autoreload 2\n",
    "%config InlineBackend.figure_format = 'retina'"
   ]
  },
  {
   "cell_type": "markdown",
   "metadata": {},
   "source": [
    "EvoTF_ES With MLP Controller"
   ]
  },
  {
   "cell_type": "code",
   "execution_count": 2,
   "metadata": {},
   "outputs": [],
   "source": [
    "import jax\n",
    "import time\n",
    "import numpy as np\n",
    "from evojax.obs_norm import ObsNormalizer\n",
    "from evojax.sim_mgr import SimManager\n",
    "from evojax.task.brax_task import BraxTask\n",
    "from evojax.policy import MLPPolicy\n",
    "\n",
    "from evosax import Strategies\n",
    "from evosax.utils.evojax_wrapper import Evosax2JAX_Wrapper"
   ]
  },
  {
   "cell_type": "code",
   "execution_count": 4,
   "metadata": {},
   "outputs": [],
   "source": [
    "def get_brax_task(\n",
    "    env_name = \"ant\",\n",
    "    hidden_dims = [32, 32, 32, 32],\n",
    "):\n",
    "    train_task = BraxTask(env_name, test=False)\n",
    "    test_task = BraxTask(env_name, test=True)\n",
    "    policy = MLPPolicy(\n",
    "        input_dim=train_task.obs_shape[0],\n",
    "        output_dim=train_task.act_shape[0],\n",
    "        hidden_dims=hidden_dims,\n",
    "    )\n",
    "    return train_task, test_task, policy"
   ]
  },
  {
   "cell_type": "code",
   "execution_count": 5,
   "metadata": {},
   "outputs": [
    {
     "name": "stdout",
     "output_type": "stream",
     "text": [
      "[CudaDevice(id=0)]\n"
     ]
    }
   ],
   "source": [
    "print(jax.devices())"
   ]
  },
  {
   "cell_type": "code",
   "execution_count": 6,
   "metadata": {},
   "outputs": [
    {
     "name": "stderr",
     "output_type": "stream",
     "text": [
      "MLPPolicy: 2024-08-30 21:37:48,034 [INFO] MLPPolicy.num_params = 4328\n"
     ]
    },
    {
     "name": "stdout",
     "output_type": "stream",
     "text": [
      "Loaded pretrained EvoTF model from ckpt: 2024_03_SNES_small.pkl\n"
     ]
    },
    {
     "name": "stderr",
     "output_type": "stream",
     "text": [
      "SimManager: 2024-08-30 21:37:48,380 [INFO] use_for_loop=True\n"
     ]
    },
    {
     "name": "stdout",
     "output_type": "stream",
     "text": [
      "START EVOLVING 4328 PARAMS.\n"
     ]
    },
    {
     "name": "stderr",
     "output_type": "stream",
     "text": [
      "2024-08-30 21:38:04.184620: W external/xla/xla/service/hlo_rematerialization.cc:3005] Can't reduce memory use below -7.23GiB (-7763868160 bytes) by rematerialization; only reduced to 13.96GiB (14985267200 bytes), down from 13.96GiB (14985267200 bytes) originally\n",
      "2024-08-30 21:38:04.288057: W external/xla/xla/service/hlo_rematerialization.cc:3005] Can't reduce memory use below -7.23GiB (-7763868160 bytes) by rematerialization; only reduced to 27.94GiB (30002427920 bytes), down from 27.94GiB (30002427920 bytes) originally\n",
      "2024-08-30 21:38:04.332230: W external/xla/xla/service/hlo_rematerialization.cc:3005] Can't reduce memory use below -7.23GiB (-7763868160 bytes) by rematerialization; only reduced to 26.42MiB (27699200 bytes), down from 26.42MiB (27699200 bytes) originally\n",
      "2024-08-30 21:38:04.348334: W external/xla/xla/service/hlo_rematerialization.cc:3005] Can't reduce memory use below -7.23GiB (-7763868160 bytes) by rematerialization; only reduced to 13.96GiB (14985267200 bytes), down from 13.96GiB (14985267200 bytes) originally\n",
      "2024-08-30 21:38:04.361841: W external/xla/xla/service/hlo_rematerialization.cc:3005] Can't reduce memory use below -7.23GiB (-7763868160 bytes) by rematerialization; only reduced to 13.96GiB (14985267200 bytes), down from 13.96GiB (14985267200 bytes) originally\n",
      "2024-08-30 21:38:04.363297: W external/xla/xla/service/hlo_rematerialization.cc:3005] Can't reduce memory use below -7.23GiB (-7763868160 bytes) by rematerialization; only reduced to 13.96GiB (14985267200 bytes), down from 13.96GiB (14985267200 bytes) originally\n",
      "2024-08-30 21:38:04.410754: W external/xla/xla/service/hlo_rematerialization.cc:3005] Can't reduce memory use below -7.23GiB (-7763868160 bytes) by rematerialization; only reduced to 26.42MiB (27699200 bytes), down from 26.42MiB (27699200 bytes) originally\n",
      "2024-08-30 21:38:04.414563: W external/xla/xla/service/hlo_rematerialization.cc:3005] Can't reduce memory use below -7.23GiB (-7763868160 bytes) by rematerialization; only reduced to 13.96GiB (14985267200 bytes), down from 13.96GiB (14985267200 bytes) originally\n",
      "2024-08-30 21:38:04.444871: W external/xla/xla/service/hlo_rematerialization.cc:3005] Can't reduce memory use below -7.23GiB (-7763868160 bytes) by rematerialization; only reduced to 26.42MiB (27699200 bytes), down from 26.42MiB (27699200 bytes) originally\n",
      "2024-08-30 21:38:04.455296: W external/xla/xla/service/hlo_rematerialization.cc:3005] Can't reduce memory use below -7.23GiB (-7763868160 bytes) by rematerialization; only reduced to 26.42MiB (27699200 bytes), down from 26.42MiB (27699200 bytes) originally\n",
      "2024-08-30 21:38:04.467865: W external/xla/xla/service/hlo_rematerialization.cc:3005] Can't reduce memory use below -7.23GiB (-7763868160 bytes) by rematerialization; only reduced to 13.96GiB (14985267200 bytes), down from 13.96GiB (14985267200 bytes) originally\n",
      "2024-08-30 21:38:04.472870: W external/xla/xla/service/hlo_rematerialization.cc:3005] Can't reduce memory use below -7.23GiB (-7763868160 bytes) by rematerialization; only reduced to 26.42MiB (27699200 bytes), down from 26.42MiB (27699200 bytes) originally\n",
      "2024-08-30 21:38:04.550756: W external/xla/xla/service/hlo_rematerialization.cc:3005] Can't reduce memory use below -7.23GiB (-7763868160 bytes) by rematerialization; only reduced to 13.96GiB (14985267200 bytes), down from 13.96GiB (14985267200 bytes) originally\n",
      "2024-08-30 21:38:04.615492: W external/xla/xla/service/hlo_rematerialization.cc:3005] Can't reduce memory use below -7.23GiB (-7763868160 bytes) by rematerialization; only reduced to 26.42MiB (27699200 bytes), down from 26.42MiB (27699200 bytes) originally\n",
      "2024-08-30 21:38:04.636401: W external/xla/xla/service/hlo_rematerialization.cc:3005] Can't reduce memory use below -7.23GiB (-7763868160 bytes) by rematerialization; only reduced to 13.96GiB (14985267200 bytes), down from 13.96GiB (14985267200 bytes) originally\n",
      "2024-08-30 21:38:04.653978: W external/xla/xla/service/hlo_rematerialization.cc:3005] Can't reduce memory use below -7.23GiB (-7763868160 bytes) by rematerialization; only reduced to 13.96GiB (14985267200 bytes), down from 13.96GiB (14985267200 bytes) originally\n",
      "2024-08-30 21:38:04.654119: W external/xla/xla/service/hlo_rematerialization.cc:3005] Can't reduce memory use below -7.23GiB (-7763868160 bytes) by rematerialization; only reduced to 26.42MiB (27699200 bytes), down from 26.42MiB (27699200 bytes) originally\n",
      "2024-08-30 21:38:04.669871: W external/xla/xla/service/hlo_rematerialization.cc:3005] Can't reduce memory use below -7.23GiB (-7763868160 bytes) by rematerialization; only reduced to 56.83MiB (59592720 bytes), down from 56.83MiB (59592720 bytes) originally\n",
      "2024-08-30 21:38:04.707975: W external/xla/xla/service/hlo_rematerialization.cc:3005] Can't reduce memory use below -7.23GiB (-7763868160 bytes) by rematerialization; only reduced to 13.96GiB (14985267200 bytes), down from 13.96GiB (14985267200 bytes) originally\n",
      "2024-08-30 21:38:04.720965: W external/xla/xla/service/hlo_rematerialization.cc:3005] Can't reduce memory use below -7.23GiB (-7763868160 bytes) by rematerialization; only reduced to 26.42MiB (27699200 bytes), down from 26.42MiB (27699200 bytes) originally\n",
      "2024-08-30 21:38:04.724278: W external/xla/xla/service/hlo_rematerialization.cc:3005] Can't reduce memory use below -7.23GiB (-7763868160 bytes) by rematerialization; only reduced to 13.96GiB (14985267200 bytes), down from 13.96GiB (14985267200 bytes) originally\n",
      "2024-08-30 21:38:04.730366: W external/xla/xla/service/hlo_rematerialization.cc:3005] Can't reduce memory use below -7.23GiB (-7763868160 bytes) by rematerialization; only reduced to 13.96GiB (14985267200 bytes), down from 13.96GiB (14985267200 bytes) originally\n",
      "2024-08-30 21:38:04.737152: W external/xla/xla/service/hlo_rematerialization.cc:3005] Can't reduce memory use below -7.23GiB (-7763868160 bytes) by rematerialization; only reduced to 13.96GiB (14985267200 bytes), down from 13.96GiB (14985267200 bytes) originally\n",
      "2024-08-30 21:38:04.757808: W external/xla/xla/service/hlo_rematerialization.cc:3005] Can't reduce memory use below -7.23GiB (-7763868160 bytes) by rematerialization; only reduced to 26.42MiB (27699200 bytes), down from 26.42MiB (27699200 bytes) originally\n",
      "2024-08-30 21:38:04.769565: W external/xla/xla/service/hlo_rematerialization.cc:3005] Can't reduce memory use below -7.23GiB (-7763868160 bytes) by rematerialization; only reduced to 26.42MiB (27699200 bytes), down from 26.42MiB (27699200 bytes) originally\n",
      "2024-08-30 21:38:04.822257: W external/xla/xla/service/hlo_rematerialization.cc:3005] Can't reduce memory use below -7.23GiB (-7763868160 bytes) by rematerialization; only reduced to 13.96GiB (14985267200 bytes), down from 13.96GiB (14985267200 bytes) originally\n",
      "2024-08-30 21:38:04.827687: W external/xla/xla/service/hlo_rematerialization.cc:3005] Can't reduce memory use below -7.23GiB (-7763868160 bytes) by rematerialization; only reduced to 13.96GiB (14985267200 bytes), down from 13.96GiB (14985267200 bytes) originally\n",
      "2024-08-30 21:38:04.861549: W external/xla/xla/service/hlo_rematerialization.cc:3005] Can't reduce memory use below -7.23GiB (-7763868160 bytes) by rematerialization; only reduced to 13.96GiB (14985267200 bytes), down from 13.96GiB (14985267200 bytes) originally\n",
      "2024-08-30 21:38:04.933383: W external/xla/xla/service/hlo_rematerialization.cc:3005] Can't reduce memory use below -7.23GiB (-7763868160 bytes) by rematerialization; only reduced to 26.42MiB (27699200 bytes), down from 26.42MiB (27699200 bytes) originally\n",
      "2024-08-30 21:38:04.940947: W external/xla/xla/service/hlo_rematerialization.cc:3005] Can't reduce memory use below -7.23GiB (-7763868160 bytes) by rematerialization; only reduced to 26.42MiB (27699200 bytes), down from 26.42MiB (27699200 bytes) originally\n",
      "2024-08-30 21:38:04.957866: W external/xla/xla/service/hlo_rematerialization.cc:3005] Can't reduce memory use below -7.23GiB (-7763868160 bytes) by rematerialization; only reduced to 13.96GiB (14985267200 bytes), down from 13.96GiB (14985267200 bytes) originally\n",
      "2024-08-30 21:38:04.970646: W external/xla/xla/service/hlo_rematerialization.cc:3005] Can't reduce memory use below -7.23GiB (-7763868160 bytes) by rematerialization; only reduced to 26.42MiB (27699200 bytes), down from 26.42MiB (27699200 bytes) originally\n",
      "2024-08-30 21:38:04.976093: W external/xla/xla/service/hlo_rematerialization.cc:3005] Can't reduce memory use below -7.23GiB (-7763868160 bytes) by rematerialization; only reduced to 26.42MiB (27699200 bytes), down from 26.42MiB (27699200 bytes) originally\n",
      "2024-08-30 21:38:04.989502: W external/xla/xla/service/hlo_rematerialization.cc:3005] Can't reduce memory use below -7.23GiB (-7763868160 bytes) by rematerialization; only reduced to 26.42MiB (27699200 bytes), down from 26.42MiB (27699200 bytes) originally\n",
      "2024-08-30 21:38:04.991214: W external/xla/xla/service/hlo_rematerialization.cc:3005] Can't reduce memory use below -7.23GiB (-7763868160 bytes) by rematerialization; only reduced to 13.96GiB (14985267200 bytes), down from 13.96GiB (14985267200 bytes) originally\n",
      "2024-08-30 21:38:05.003931: W external/xla/xla/service/hlo_rematerialization.cc:3005] Can't reduce memory use below -7.23GiB (-7763868160 bytes) by rematerialization; only reduced to 26.42MiB (27699200 bytes), down from 26.42MiB (27699200 bytes) originally\n",
      "2024-08-30 21:38:05.048770: W external/xla/xla/service/hlo_rematerialization.cc:3005] Can't reduce memory use below -7.23GiB (-7763868160 bytes) by rematerialization; only reduced to 26.42MiB (27699200 bytes), down from 26.42MiB (27699200 bytes) originally\n",
      "2024-08-30 21:38:05.096286: W external/xla/xla/service/hlo_rematerialization.cc:3005] Can't reduce memory use below -7.23GiB (-7763868160 bytes) by rematerialization; only reduced to 13.96GiB (14985267200 bytes), down from 13.96GiB (14985267200 bytes) originally\n",
      "2024-08-30 21:38:05.104897: W external/xla/xla/service/hlo_rematerialization.cc:3005] Can't reduce memory use below -7.23GiB (-7763868160 bytes) by rematerialization; only reduced to 13.96GiB (14985267200 bytes), down from 13.96GiB (14985267200 bytes) originally\n",
      "2024-08-30 21:38:05.116935: W external/xla/xla/service/hlo_rematerialization.cc:3005] Can't reduce memory use below -7.23GiB (-7763868160 bytes) by rematerialization; only reduced to 26.42MiB (27699200 bytes), down from 26.42MiB (27699200 bytes) originally\n",
      "2024-08-30 21:38:05.130110: W external/xla/xla/service/hlo_rematerialization.cc:3005] Can't reduce memory use below -7.23GiB (-7763868160 bytes) by rematerialization; only reduced to 13.96GiB (14985267200 bytes), down from 13.96GiB (14985267200 bytes) originally\n",
      "2024-08-30 21:38:05.166909: W external/xla/xla/service/hlo_rematerialization.cc:3005] Can't reduce memory use below -7.23GiB (-7763868160 bytes) by rematerialization; only reduced to 26.42MiB (27699200 bytes), down from 26.42MiB (27699200 bytes) originally\n",
      "2024-08-30 21:38:05.200238: W external/xla/xla/service/hlo_rematerialization.cc:3005] Can't reduce memory use below -7.23GiB (-7763868160 bytes) by rematerialization; only reduced to 13.96GiB (14985267200 bytes), down from 13.96GiB (14985267200 bytes) originally\n",
      "2024-08-30 21:38:05.287517: W external/xla/xla/service/hlo_rematerialization.cc:3005] Can't reduce memory use below -7.23GiB (-7763868160 bytes) by rematerialization; only reduced to 26.42MiB (27699200 bytes), down from 26.42MiB (27699200 bytes) originally\n",
      "2024-08-30 21:38:05.306020: W external/xla/xla/service/hlo_rematerialization.cc:3005] Can't reduce memory use below -7.23GiB (-7763868160 bytes) by rematerialization; only reduced to 26.42MiB (27699200 bytes), down from 26.42MiB (27699200 bytes) originally\n",
      "2024-08-30 21:38:05.377876: W external/xla/xla/service/hlo_rematerialization.cc:3005] Can't reduce memory use below -7.23GiB (-7763868160 bytes) by rematerialization; only reduced to 26.42MiB (27699200 bytes), down from 26.42MiB (27699200 bytes) originally\n",
      "2024-08-30 21:38:05.379735: W external/xla/xla/service/hlo_rematerialization.cc:3005] Can't reduce memory use below -7.23GiB (-7763868160 bytes) by rematerialization; only reduced to 13.96GiB (14985267200 bytes), down from 13.96GiB (14985267200 bytes) originally\n",
      "2024-08-30 21:38:05.382050: W external/xla/xla/service/hlo_rematerialization.cc:3005] Can't reduce memory use below -7.23GiB (-7763868160 bytes) by rematerialization; only reduced to 26.42MiB (27699200 bytes), down from 26.42MiB (27699200 bytes) originally\n",
      "2024-08-30 21:38:05.612774: W external/xla/xla/service/hlo_rematerialization.cc:3005] Can't reduce memory use below -7.23GiB (-7763868160 bytes) by rematerialization; only reduced to 26.42MiB (27699200 bytes), down from 26.42MiB (27699200 bytes) originally\n",
      "2024-08-30 21:38:05.859712: W external/xla/xla/service/hlo_rematerialization.cc:3005] Can't reduce memory use below -7.23GiB (-7763868160 bytes) by rematerialization; only reduced to 26.42MiB (27699200 bytes), down from 26.42MiB (27699200 bytes) originally\n",
      "2024-08-30 21:38:16.715063: W external/xla/xla/tsl/framework/bfc_allocator.cc:482] Allocator (GPU_0_bfc) ran out of memory trying to allocate 13.96GiB (rounded to 14985267200)requested by op \n",
      "2024-08-30 21:38:16.715275: W external/xla/xla/tsl/framework/bfc_allocator.cc:494] ***_________________________________________________________________________________________________\n",
      "2024-08-30 21:38:26.715926: W external/xla/xla/tsl/framework/bfc_allocator.cc:482] Allocator (GPU_0_bfc) ran out of memory trying to allocate 13.96GiB (rounded to 14985267200)requested by op \n",
      "2024-08-30 21:38:26.716151: W external/xla/xla/tsl/framework/bfc_allocator.cc:494] ***_________________________________________________________________________________________________\n"
     ]
    }
   ],
   "source": [
    "train_task, test_task, policy = get_brax_task(\"ant\")\n",
    "solver = Evosax2JAX_Wrapper(\n",
    "    Strategies[\"EvoTF_ES\"],\n",
    "    param_size=policy.num_params,\n",
    "    pop_size=5,\n",
    "    es_config={\"maximize\": True,\n",
    "               \"centered_rank\": True},\n",
    "    #            \"lrate_init\": 0.01,\n",
    "    #            \"lrate_decay\": 0.999,\n",
    "    #            \"lrate_limit\": 0.001},\n",
    "    # es_params={\"sigma_init\": 0.05,\n",
    "    # \"sigma_decay\": 0.999,\n",
    "    # \"sigma_limit\": 0.01},\n",
    "    seed=0,\n",
    ")\n",
    "obs_normalizer = ObsNormalizer(\n",
    "    obs_shape=train_task.obs_shape, dummy=not True\n",
    ")\n",
    "sim_mgr = SimManager(\n",
    "    policy_net=policy,\n",
    "    train_vec_task=train_task,\n",
    "    valid_vec_task=test_task,\n",
    "    seed=0,\n",
    "    obs_normalizer=obs_normalizer,\n",
    "    pop_size=5,\n",
    "    use_for_loop=True,  #使用 Python 的 for 循环来进行模拟，那么可以将 use_for_loop 设置为 True。\n",
    "    #如果你希望利用 JAX 的自动微分和并行计算功能，那么可以将 use_for_loop 设置为 False。\n",
    "    n_repeats=8,\n",
    "    test_n_repeats=1,\n",
    "    n_evaluations=32,  \n",
    ")\n",
    "\n",
    "print(f\"START EVOLVING {policy.num_params} PARAMS.\")\n",
    "# Run ES Loop.\n",
    "for gen_counter in range(10):\n",
    "    start_time = time.time()  # 记录开始时间\n",
    "\n",
    "    params = solver.ask()\n",
    "    scores, _ = sim_mgr.eval_params(params=params, test=False)\n",
    "    solver.tell(fitness=scores)\n",
    "    if gen_counter == 0 or (gen_counter + 1) % 2 == 0:\n",
    "        test_scores, _ = sim_mgr.eval_params(\n",
    "            params=solver.best_params, test=True\n",
    "        )\n",
    "        print(\n",
    "            {\n",
    "                \"num_gens\": gen_counter + 1,\n",
    "            },\n",
    "            {\n",
    "                \"train_perf\": float(np.nanmean(scores)),\n",
    "                \"test_perf\": float(np.nanmean(test_scores)),\n",
    "            },\n",
    "        )\n",
    "        end_time = time.time()  # 记录结束时间\n",
    "        elapsed_time = end_time - start_time  # 计算时间差\n",
    "        print(f\"Time taken for iteration {gen_counter + 1}: {elapsed_time/60} min\")"
   ]
  }
 ],
 "metadata": {
  "kernelspec": {
   "display_name": "Python 3",
   "language": "python",
   "name": "python3"
  },
  "language_info": {
   "codemirror_mode": {
    "name": "ipython",
    "version": 3
   },
   "file_extension": ".py",
   "mimetype": "text/x-python",
   "name": "python",
   "nbconvert_exporter": "python",
   "pygments_lexer": "ipython3",
   "version": "3.10.14"
  }
 },
 "nbformat": 4,
 "nbformat_minor": 2
}
