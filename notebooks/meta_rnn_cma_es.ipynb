{
 "cells": [
  {
   "cell_type": "code",
   "execution_count": 1,
   "metadata": {},
   "outputs": [],
   "source": [
    "%matplotlib inline\n",
    "%load_ext autoreload\n",
    "%autoreload 2\n",
    "%config InlineBackend.figure_format = 'retina'\n",
    "\n",
    "import sys\n",
    "sys.path.append(\"..\")\n",
    "\n",
    "import jax\n",
    "import jax.numpy as jnp\n",
    "from jax import vmap, jit\n",
    "import haiku as hk"
   ]
  },
  {
   "cell_type": "code",
   "execution_count": 2,
   "metadata": {},
   "outputs": [
    {
     "name": "stderr",
     "output_type": "stream",
     "text": [
      "WARNING:absl:No GPU/TPU found, falling back to CPU. (Set TF_CPP_MIN_LOG_LEVEL=0 and rerun for more info.)\n"
     ]
    }
   ],
   "source": [
    "from evosax.problems.bernoulli_bandit import reset, step\n",
    "from evosax.problems.bernoulli_bandit import params as env_params\n",
    "from evosax.strategies.cma_es import init_strategy, ask, tell, check_termination\n",
    "from evosax.utils import init_logger, update_logger, flat_to_network"
   ]
  },
  {
   "cell_type": "markdown",
   "metadata": {},
   "source": [
    "# Haiku Meta-RNN"
   ]
  },
  {
   "cell_type": "code",
   "execution_count": 15,
   "metadata": {},
   "outputs": [],
   "source": [
    "def lstm_policy(x):\n",
    "    \"\"\" Perform single step forward through LSTM. \"\"\"\n",
    "    core = hk.LSTM(32)\n",
    "    dense = hk.Linear(2)  \n",
    "    \n",
    "    counter = hk.get_state(\"counter\", shape=[],\n",
    "                           dtype=jnp.int32,\n",
    "                           init=jnp.zeros)\n",
    "    state = hk.get_state(\"state\", shape=[],\n",
    "                         dtype=jnp.float32,\n",
    "                         init=jnp.zeros)\n",
    "    if counter == 0:\n",
    "        state = core.initial_state(1)\n",
    "    \n",
    "    x, state = core(x, state)\n",
    "    x = dense(x)\n",
    "    \n",
    "    hk.set_state(\"counter\", counter + 1)\n",
    "    hk.set_state(\"state\", state)\n",
    "    return x\n"
   ]
  },
  {
   "cell_type": "code",
   "execution_count": 16,
   "metadata": {},
   "outputs": [],
   "source": [
    "# Test single forward + step transition\n",
    "lstm_policy = hk.transform_with_state(lstm_policy)\n",
    "net_params, lstm_state = lstm_policy.init(rng_reset, jnp.expand_dims(obs, 0))\n",
    "logits, lstm_state = lstm_policy.apply(net_params, lstm_state, None,\n",
    "                                       jnp.expand_dims(obs, 0))\n",
    "action = hk.multinomial(rng, logits, 1).squeeze()\n",
    "\n",
    "obs, state, reward, done, _ = step(rng_step, env_params, state, action)\n",
    "reward"
   ]
  },
  {
   "cell_type": "code",
   "execution_count": 40,
   "metadata": {},
   "outputs": [
    {
     "name": "stdout",
     "output_type": "stream",
     "text": [
      "4802 FrozenDict({\n",
      "    lstm/linear: {\n",
      "        w: (36, 128),\n",
      "        b: (128,),\n",
      "    },\n",
      "    linear: {\n",
      "        w: (32, 2),\n",
      "        b: (2,),\n",
      "    },\n",
      "})\n"
     ]
    }
   ],
   "source": [
    "from evosax.utils import get_total_params, get_network_shapes\n",
    "from evosax.utils import flat_to_network, z_score_fitness\n",
    "total_no_params = get_total_params(net_params)\n",
    "network_shapes = get_network_shapes(net_params)\n",
    "print(total_no_params, network_shapes)"
   ]
  },
  {
   "cell_type": "code",
   "execution_count": 41,
   "metadata": {},
   "outputs": [],
   "source": [
    "def rollout_episode(rng, net_params, env_params):\n",
    "    \"\"\" Rollout a bandit episode with RNN policy. \"\"\"\n",
    "    rng, rng_reset, rng_net = jax.random.split(rng, 3)\n",
    "    \n",
    "    # Reset bandit env + placeholder network fct. (use candidate params)\n",
    "    obs, state = reset(rng_reset, env_params)\n",
    "    _, lstm_state = lstm_policy.init(rng_net, jnp.expand_dims(obs, 0))\n",
    "    \n",
    "    cum_reward = 0\n",
    "    # Loop over episode timesteps and LSTM policy steps\n",
    "    for t in range(env_params[\"max_steps\"]):\n",
    "        # Generate rng keys for action sampling and step transition\n",
    "        rng, rng_action, rng_step = jax.random.split(rng, 3)\n",
    "        # Perform forward through RNN and sample action\n",
    "        logits, lstm_state = lstm_policy.apply(net_params, lstm_state,\n",
    "                                               None,\n",
    "                                               jnp.expand_dims(obs, 0))\n",
    "        action = hk.multinomial(rng_action, logits, 1).squeeze()\n",
    "        # Perform step transition\n",
    "        obs, state, reward, done, _ = step(rng_step, env_params,\n",
    "                                           state, action)\n",
    "        cum_reward += reward\n",
    "    return cum_reward"
   ]
  },
  {
   "cell_type": "code",
   "execution_count": 42,
   "metadata": {},
   "outputs": [
    {
     "data": {
      "text/plain": [
       "(DeviceArray(58, dtype=int32), FrozenDict({\n",
       "     sample_probs: DeviceArray([0.1, 0.9], dtype=float32),\n",
       "     num_arms: 2,\n",
       "     max_steps: 100,\n",
       " }))"
      ]
     },
     "execution_count": 42,
     "metadata": {},
     "output_type": "execute_result"
    }
   ],
   "source": [
    "ep_reward = rollout_episode(rng, net_params, env_params)\n",
    "ep_reward, env_params"
   ]
  },
  {
   "cell_type": "code",
   "execution_count": 43,
   "metadata": {},
   "outputs": [],
   "source": [
    "# Jitting fails because of counter hidden init boolean\n",
    "# fast_rollout = jit(rollout_episode, static_argnums=(2,))\n",
    "# fast_rollout(rng, net_params, env_params)"
   ]
  },
  {
   "cell_type": "code",
   "execution_count": 44,
   "metadata": {},
   "outputs": [
    {
     "data": {
      "text/plain": [
       "DeviceArray([40, 44, 38, 59, 66, 43, 43, 58, 44, 65], dtype=int32)"
      ]
     },
     "execution_count": 44,
     "metadata": {},
     "output_type": "execute_result"
    }
   ],
   "source": [
    "# Batch over different evaluation episodes\n",
    "batch_rollout = vmap(rollout_episode, in_axes=(0, None, None), out_axes=0)\n",
    "batch_keys = jax.random.split(rng, 10)\n",
    "ep_rewards = batch_rollout(batch_keys, net_params, env_params)\n",
    "ep_rewards"
   ]
  },
  {
   "cell_type": "code",
   "execution_count": 45,
   "metadata": {},
   "outputs": [
    {
     "data": {
      "text/plain": [
       "DeviceArray(-51.1, dtype=float32)"
      ]
     },
     "execution_count": 45,
     "metadata": {},
     "output_type": "execute_result"
    }
   ],
   "source": [
    "def reshape_and_eval(rng, x, network_shapes, env_params):\n",
    "    \"\"\" Perform both parameter reshaping and evaluation in one go. \"\"\"\n",
    "    net_params = flat_to_network(x, network_shapes)\n",
    "    returns = batch_rollout(rng, net_params, env_params)\n",
    "    return - returns.mean()\n",
    "\n",
    "x = jnp.zeros(total_no_params)\n",
    "reshape_and_eval(batch_keys, x, network_shapes, env_params)"
   ]
  },
  {
   "cell_type": "code",
   "execution_count": 46,
   "metadata": {},
   "outputs": [
    {
     "data": {
      "text/plain": [
       "DeviceArray([-51.1, -51.1], dtype=float32)"
      ]
     },
     "execution_count": 46,
     "metadata": {},
     "output_type": "execute_result"
    }
   ],
   "source": [
    "generation_fitness = vmap(reshape_and_eval, in_axes=(None, 0, None, None))\n",
    "xs = jnp.stack([x, x])\n",
    "generation_fitness(batch_keys, xs, network_shapes, env_params)"
   ]
  },
  {
   "cell_type": "code",
   "execution_count": 49,
   "metadata": {},
   "outputs": [
    {
     "name": "stdout",
     "output_type": "stream",
     "text": [
      "Episode return: -57.0\n",
      "Episode return: -53.2\n",
      "Episode return: -58.5\n",
      "Episode return: -65.8\n",
      "Episode return: -50.7\n",
      "Episode return: -66.9\n",
      "Episode return: -57.9\n",
      "Episode return: -74.6\n",
      "Episode return: -60.0\n",
      "Episode return: -58.4\n"
     ]
    }
   ],
   "source": [
    "# Run Open-NES\n",
    "num_generations = 10\n",
    "pop_size = 10\n",
    "elite_size = 5\n",
    "mean_init = jnp.zeros((total_no_params, ))\n",
    "sigma_init = 1\n",
    "params, memory = init_strategy(mean_init, sigma_init,\n",
    "                               pop_size, elite_size)\n",
    "fit = []\n",
    "for g in range(num_generations):\n",
    "    # Explicitly handle random number generation\n",
    "    rng, rng_ask, rng_eval = jax.random.split(rng, 3)\n",
    "    batch_keys = jax.random.split(rng_eval, 10)\n",
    "    # Ask for the next generation population to test\n",
    "    x, memory = ask(rng_ask, params, memory)\n",
    "    # Evaluate the fitness of the generation members\n",
    "    #fitness = batch_rosenbrock(x, 1, 100) \n",
    "    fitness = generation_fitness(batch_keys, x,\n",
    "                                 network_shapes, env_params)\n",
    "    fit.append(fitness.min())\n",
    "    print(\"Episode return:\", fit[-1])\n",
    "    # x, fitness = rank_shaped_fitness(x, fitness)\n",
    "    # Tell/Update the CMA-ES with newest data points\n",
    "    memory = tell(x, fitness, params, memory)\n",
    "    "
   ]
  },
  {
   "cell_type": "code",
   "execution_count": 53,
   "metadata": {},
   "outputs": [
    {
     "data": {
      "text/plain": [
       "[<matplotlib.lines.Line2D at 0x7faf006c4e48>]"
      ]
     },
     "execution_count": 53,
     "metadata": {},
     "output_type": "execute_result"
    },
    {
     "data": {
      "image/png": "[encoded data removed]",
      "text/plain": [
       "<Figure size 432x288 with 1 Axes>"
      ]
     },
     "metadata": {
      "image/png": {
       "height": 248,
       "width": 377
      },
      "needs_background": "light"
     },
     "output_type": "display_data"
    }
   ],
   "source": [
    "import matplotlib.pyplot as plt\n",
    "plt.plot(fit)"
   ]
  },
  {
   "cell_type": "code",
   "execution_count": 54,
   "metadata": {},
   "outputs": [
    {
     "data": {
      "text/plain": [
       "[DeviceArray(-57., dtype=float32),\n",
       " DeviceArray(-53.2, dtype=float32),\n",
       " DeviceArray(-58.5, dtype=float32),\n",
       " DeviceArray(-65.8, dtype=float32),\n",
       " DeviceArray(-50.7, dtype=float32),\n",
       " DeviceArray(-66.9, dtype=float32),\n",
       " DeviceArray(-57.9, dtype=float32),\n",
       " DeviceArray(-74.6, dtype=float32),\n",
       " DeviceArray(-60., dtype=float32),\n",
       " DeviceArray(-58.4, dtype=float32)]"
      ]
     },
     "execution_count": 54,
     "metadata": {},
     "output_type": "execute_result"
    }
   ],
   "source": [
    "fit"
   ]
  },
  {
   "cell_type": "code",
   "execution_count": null,
   "metadata": {},
   "outputs": [],
   "source": []
  }
 ],
 "metadata": {
  "kernelspec": {
   "display_name": "Python3 (ma-vision)",
   "language": "python",
   "name": "ma-vision"
  },
  "language_info": {
   "codemirror_mode": {
    "name": "ipython",
    "version": 3
   },
   "file_extension": ".py",
   "mimetype": "text/x-python",
   "name": "python",
   "nbconvert_exporter": "python",
   "pygments_lexer": "ipython3",
   "version": "3.6.9"
  }
 },
 "nbformat": 4,
 "nbformat_minor": 4
}
