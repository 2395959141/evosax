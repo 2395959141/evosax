{
 "cells": [
  {
   "cell_type": "markdown",
   "metadata": {},
   "source": [
    "# 02 - Evolving CartPole Controllers\n",
    "### [Last Update: February 2022][![Colab](https://colab.research.google.com/assets/colab-badge.svg)](https://colab.research.google.com/github/RobertTLange/evosax/blob/main/examples/02_mlp_control.ipynb)"
   ]
  },
  {
   "cell_type": "code",
   "execution_count": 1,
   "metadata": {},
   "outputs": [],
   "source": [
    "%matplotlib inline\n",
    "%load_ext autoreload\n",
    "%autoreload 2\n",
    "%config InlineBackend.figure_format = 'retina'\n",
    "\n",
    "import jax\n",
    "import jax.numpy as jnp"
   ]
  },
  {
   "cell_type": "markdown",
   "metadata": {},
   "source": [
    "## Open-ES with MLP Controller"
   ]
  },
  {
   "cell_type": "code",
   "execution_count": null,
   "metadata": {},
   "outputs": [],
   "source": [
    "from evosax import Open_ES\n",
    "from ParameterReshaper, FitnessShaper, NetworkMapper\n",
    "from evosax.problems import GymFitness\n",
    "\n",
    "rng = jax.random.PRNGKey(0)\n",
    "network = NetworkMapper[\"MLP\"](\n",
    "    num_hidden_units=64,\n",
    "    num_hidden_layers=2,\n",
    "    num_output_units=2,\n",
    "    hidden_activation=\"relu\",\n",
    "    output_activation=\"categorical\",\n",
    ")\n",
    "pholder = jnp.zeros((4,))\n",
    "params = network.init(\n",
    "    rng,\n",
    "    x=pholder,\n",
    "    rng=rng,\n",
    ")\n",
    "\n",
    "param_reshaper = ParameterReshaper(params['params'])"
   ]
  },
  {
   "cell_type": "code",
   "execution_count": null,
   "metadata": {},
   "outputs": [],
   "source": [
    "evaluator = GymFitness()\n",
    "evaluator.set_apply_fn(network.apply)\n",
    "rollout = jax.jit(jax.vmap(evaluator.rollout, in_axes=(None, param_reshaper.vmap_dict)))\n",
    "\n",
    "fit_shaper = FitnessShaper(rank_fitness=True,\n",
    "                           z_score_fitness=True,\n",
    "                           weight_decay=0.1,\n",
    "                           maximize_objective=True)"
   ]
  },
  {
   "cell_type": "code",
   "execution_count": null,
   "metadata": {},
   "outputs": [],
   "source": [
    "strategy = Open_ES(popsize=100,\n",
    "                   num_dims=param_reshaper.total_params,\n",
    "                   opt_name=\"sgd\")\n",
    "\n",
    "es_params = {\n",
    "        \"lrate_init\": 0.01,  # Adam learning rate outer step\n",
    "        \"lrate_decay\": 0.999,\n",
    "        \"lrate_limit\": 0.001,\n",
    "        \"beta_1\": 0.99,  # beta_1 outer step\n",
    "        \"beta_2\": 0.999,  # beta_2 outer step\n",
    "        \"eps\": 1e-8,  # eps constant outer step,\n",
    "        \"sigma_init\": 0.1,\n",
    "        \"sigma_decay\": 0.999,\n",
    "        \"sigma_limit\": 0.01,\n",
    "        \"init_min\": -0.1,\n",
    "        \"init_max\": 0.1\n",
    "}"
   ]
  },
  {
   "cell_type": "code",
   "execution_count": null,
   "metadata": {},
   "outputs": [],
   "source": [
    "num_generations = 350\n",
    "num_rollouts = 20\n",
    "state = strategy.initialize(rng, es_params)\n",
    "\n",
    "for gen in range(num_generations):\n",
    "    rng, rng_init, rng_ask, rng_eval = jax.random.split(rng, 4)\n",
    "    x, state = strategy.ask(rng_ask, state, es_params)\n",
    "    reshaped_params = param_reshaper.reshape(x)\n",
    "    batch_rng = jax.random.split(rng_eval, num_rollouts)\n",
    "    fitness = rollout(batch_rng, reshaped_params).mean(axis=1)\n",
    "    fit_re = fit_shaper.apply(x, fitness)\n",
    "    state = strategy.tell(x, fit_re, state, es_params)\n",
    "    "
   ]
  },
  {
   "cell_type": "markdown",
   "metadata": {},
   "source": [
    "# PGPE with LSTM Controller"
   ]
  },
  {
   "cell_type": "code",
   "execution_count": null,
   "metadata": {},
   "outputs": [],
   "source": [
    "rng = jax.random.PRNGKey(0)\n",
    "network = NetworkMapper[\"LSTM\"](\n",
    "    num_hidden_units=64,\n",
    "    num_output_units=2,\n",
    "    output_activation=\"categorical\",\n",
    ")\n",
    "pholder = jnp.zeros((4,))\n",
    "carry_init = network.initialize_carry()\n",
    "params = network.init(\n",
    "    rng,\n",
    "    x=pholder,\n",
    "    carry=carry_init,\n",
    "    rng=rng,\n",
    ")\n",
    "\n",
    "from evosax.utils import ParameterReshaper\n",
    "param_reshaper = ParameterReshaper(params['params'])"
   ]
  },
  {
   "cell_type": "code",
   "execution_count": null,
   "metadata": {},
   "outputs": [],
   "source": [
    "evaluator = GymFitness()\n",
    "evaluator.set_apply_fn(network.apply, network.initialize_carry)\n",
    "rollout = jax.jit(jax.vmap(evaluator.rollout, in_axes=(None, param_reshaper.vmap_dict)))"
   ]
  },
  {
   "cell_type": "code",
   "execution_count": null,
   "metadata": {},
   "outputs": [],
   "source": [
    "popsize = 100\n",
    "strategy = PGPE_ES(shaper.total_params, popsize, elite_ratio=0.1)\n",
    "params = strategy.default_params\n",
    "\n",
    "params = {\n",
    "        \"sigma_init\": 0.10,  # initial standard deviation\n",
    "        \"sigma_lrate\": 0.2,\n",
    "        \"sigma_decay\": 0.999,            # anneal standard deviation\n",
    "        \"sigma_limit\": 0.01,             # stop annealing if less than this\n",
    "        \"sigma_max_change\": 0.2,         # clips adaptive sigma to 20%\n",
    "        \"lrate_init\": 0.01,\n",
    "        \"lrate_decay\": 0.999,\n",
    "        \"lrate_limit\": 0.001,\n",
    "        \"beta_1\": 0.99,  # beta_1 outer step\n",
    "        \"beta_2\": 0.999,  # beta_2 outer step\n",
    "        \"eps\": 1e-8,  # eps constant outer step,\n",
    "        \"init_min\": -0.1,\n",
    "        \"init_max\": 0.1\n",
    "}"
   ]
  },
  {
   "cell_type": "code",
   "execution_count": null,
   "metadata": {},
   "outputs": [],
   "source": [
    "num_generations = 350\n",
    "num_rollouts = 20\n",
    "state = strategy.initialize(rng, es_params)\n",
    "\n",
    "for gen in range(num_generations):\n",
    "    rng, rng_init, rng_ask, rng_eval = jax.random.split(rng, 4)\n",
    "    x, state = strategy.ask(rng_ask, state, es_params)\n",
    "    reshaped_params = param_reshaper.reshape(x)\n",
    "    batch_rng = jax.random.split(rng_eval, num_rollouts)\n",
    "    fitness = rollout(batch_rng, reshaped_params).mean(axis=1)\n",
    "    fit_re = fit_shaper.apply(x, fitness)\n",
    "    state = strategy.tell(x, fit_re, state, es_params)"
   ]
  },
  {
   "cell_type": "code",
   "execution_count": null,
   "metadata": {},
   "outputs": [],
   "source": []
  }
 ],
 "metadata": {
  "kernelspec": {
   "display_name": "Python3 (mle-toolbox)",
   "language": "python",
   "name": "mle-toolbox"
  },
  "language_info": {
   "codemirror_mode": {
    "name": "ipython",
    "version": 3
   },
   "file_extension": ".py",
   "mimetype": "text/x-python",
   "name": "python",
   "nbconvert_exporter": "python",
   "pygments_lexer": "ipython3",
   "version": "3.9.6"
  }
 },
 "nbformat": 4,
 "nbformat_minor": 4
}
