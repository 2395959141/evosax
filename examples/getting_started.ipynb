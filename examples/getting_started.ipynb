{
 "cells": [
  {
   "cell_type": "markdown",
   "id": "ce660e6c-1d05-413d-8dd3-9a3de2671276",
   "metadata": {},
   "source": [
    "# `evosax`: JAX-Based Evolution Strategies\n",
    "### Author: [@RobertTLange](https://twitter.com/RobertTLange) [Last Update: November 2021][![Colab](https://colab.research.google.com/assets/colab-badge.svg)](https://colab.research.google.com/github/RobertTLange/evosax/blob/main/examples/getting_started.ipynb)"
   ]
  },
  {
   "cell_type": "code",
   "execution_count": null,
   "id": "99e7d883-ecfc-4602-9b8f-816844f7d212",
   "metadata": {},
   "outputs": [],
   "source": [
    "%matplotlib inline\n",
    "%load_ext autoreload\n",
    "%autoreload 2\n",
    "%config InlineBackend.figure_format = 'retina'"
   ]
  },
  {
   "cell_type": "markdown",
   "id": "286b9fb3-556a-491a-b1fb-c1c3181beca0",
   "metadata": {},
   "source": [
    "## The Ask-Eval-Tell API"
   ]
  },
  {
   "cell_type": "code",
   "execution_count": null,
   "id": "9dee8f4d-9ce8-4f5b-8d9a-ccde409dd873",
   "metadata": {},
   "outputs": [],
   "source": [
    "from evosax import Simple_ES\n",
    "\n",
    "strategy = Simple_ES(num_dims=2, popsize=8)\n",
    "es_params = strategy.default_params\n",
    "state = strategy.initialize(rng, es_params)\n",
    "candidates = strategy.ask(rng, state, es_params)"
   ]
  },
  {
   "cell_type": "markdown",
   "id": "420cf593-2ea8-473a-9ea4-1cd38e1d7d93",
   "metadata": {},
   "source": [
    "## Differential Evolution on `gymnax` Pendulum Task"
   ]
  },
  {
   "cell_type": "code",
   "execution_count": null,
   "id": "92cbdc9d-fe18-4582-91c8-4713568c1199",
   "metadata": {},
   "outputs": [],
   "source": []
  },
  {
   "cell_type": "markdown",
   "id": "d1d45d76-9d68-494e-95f5-88d79df2cae3",
   "metadata": {},
   "source": [
    "## CMA-ES on `brax` Locomotion Task"
   ]
  },
  {
   "cell_type": "code",
   "execution_count": null,
   "id": "f1753ee7-525f-4ba2-a078-ebc1407b9cfd",
   "metadata": {},
   "outputs": [],
   "source": []
  }
 ],
 "metadata": {
  "kernelspec": {
   "display_name": "Python3 (mle-toolbox)",
   "language": "python",
   "name": "mle-toolbox"
  },
  "language_info": {
   "codemirror_mode": {
    "name": "ipython",
    "version": 3
   },
   "file_extension": ".py",
   "mimetype": "text/x-python",
   "name": "python",
   "nbconvert_exporter": "python",
   "pygments_lexer": "ipython3",
   "version": "3.9.6"
  }
 },
 "nbformat": 4,
 "nbformat_minor": 5
}
