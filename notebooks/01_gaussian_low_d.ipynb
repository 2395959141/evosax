{
 "cells": [
  {
   "cell_type": "code",
   "execution_count": 1,
   "metadata": {},
   "outputs": [],
   "source": [
    "%matplotlib inline\n",
    "%load_ext autoreload\n",
    "%autoreload 2\n",
    "%config InlineBackend.figure_format = 'retina'\n",
    "import sys\n",
    "sys.path.append(\"..\")\n",
    "\n",
    "import numpy as np\n",
    "import matplotlib.pyplot as plt\n",
    "\n",
    "import jax\n",
    "import jax.numpy as jnp\n",
    "\n",
    "from evosax.problems.low_d_optimisation import (batch_rosenbrock,\n",
    "                                                batch_himmelblau,\n",
    "                                                batch_hump_camel)\n",
    "from evosax.utils import init_logger, update_logger"
   ]
  },
  {
   "cell_type": "markdown",
   "metadata": {},
   "source": [
    "# Demo: Ask-Evaluate-Tell API\n",
    "## 2D Rosenbrock Function"
   ]
  },
  {
   "cell_type": "code",
   "execution_count": 2,
   "metadata": {},
   "outputs": [],
   "source": [
    "from evosax.strategies.gaussian import init_strategy, ask, tell"
   ]
  },
  {
   "cell_type": "code",
   "execution_count": 3,
   "metadata": {},
   "outputs": [
    {
     "name": "stderr",
     "output_type": "stream",
     "text": [
      "WARNING:absl:No GPU/TPU found, falling back to CPU. (Set TF_CPP_MIN_LOG_LEVEL=0 and rerun for more info.)\n"
     ]
    },
    {
     "data": {
      "text/plain": [
       "(DeviceArray([0.18893634, 0.03640625], dtype=float32),\n",
       " DeviceArray([1., 1.], dtype=float32))"
      ]
     },
     "execution_count": 3,
     "metadata": {},
     "output_type": "execute_result"
    }
   ],
   "source": [
    "rng = jax.random.PRNGKey(0)\n",
    "num_params = 2\n",
    "a, b = 1, 100\n",
    "num_generations = 100\n",
    "print_every_gen = 5\n",
    "\n",
    "mean_init, sigma_init = jnp.zeros(2), 1.0\n",
    "pop_size, mu = 10, 5\n",
    "params, memory = init_strategy(mean_init, sigma_init,\n",
    "                               pop_size, mu)\n",
    "\n",
    "# Fix population size, fix elite size\n",
    "rng, rng_input = jax.random.split(rng)\n",
    "x, memory = ask(rng_input, params, memory)\n",
    "value = batch_rosenbrock(x, a, b)\n",
    "memory = tell(x, value, params, memory)\n",
    "memory[\"mean\"], memory[\"sigma\"]"
   ]
  },
  {
   "cell_type": "code",
   "execution_count": 4,
   "metadata": {},
   "outputs": [
    {
     "data": {
      "text/plain": [
       "{'pop_size': 10,\n",
       " 'n_dim': 2,\n",
       " 'weights': DeviceArray([0.2, 0.2, 0.2, 0.2, 0.2, 0. , 0. , 0. , 0. , 0. ], dtype=float32),\n",
       " 'c_m': 1,\n",
       " 'c_sigma': 0.0,\n",
       " 'tol_fun': 1e-12,\n",
       " 'min_generations': 10}"
      ]
     },
     "execution_count": 4,
     "metadata": {},
     "output_type": "execute_result"
    }
   ],
   "source": [
    "params"
   ]
  },
  {
   "cell_type": "markdown",
   "metadata": {},
   "source": [
    "### Run full Rosenbrock Example with JIT"
   ]
  },
  {
   "cell_type": "code",
   "execution_count": 5,
   "metadata": {},
   "outputs": [
    {
     "name": "stdout",
     "output_type": "stream",
     "text": [
      "# Gen: 5|Fitness: 2.51|Params: [ 0.0354423  -0.12457814]\n",
      "# Gen: 10|Fitness: 0.91|Params: [0.74999964 0.6545119 ]\n",
      "# Gen: 15|Fitness: 0.39|Params: [1.335381  1.7303352]\n",
      "# Gen: 20|Fitness: 0.10|Params: [0.6815662  0.46708193]\n",
      "# Gen: 25|Fitness: 0.10|Params: [0.6815662  0.46708193]\n",
      "# Gen: 30|Fitness: 0.10|Params: [0.6815662  0.46708193]\n",
      "# Gen: 35|Fitness: 0.01|Params: [1.0614763 1.1363623]\n",
      "# Gen: 40|Fitness: 0.01|Params: [1.0614763 1.1363623]\n",
      "# Gen: 45|Fitness: 0.01|Params: [1.0614763 1.1363623]\n",
      "# Gen: 50|Fitness: 0.01|Params: [1.0614763 1.1363623]\n",
      "# Gen: 55|Fitness: 0.01|Params: [1.0614763 1.1363623]\n",
      "# Gen: 60|Fitness: 0.01|Params: [1.0614763 1.1363623]\n",
      "# Gen: 65|Fitness: 0.01|Params: [1.0614763 1.1363623]\n",
      "# Gen: 70|Fitness: 0.01|Params: [1.0614763 1.1363623]\n",
      "# Gen: 75|Fitness: 0.01|Params: [1.0614763 1.1363623]\n",
      "# Gen: 80|Fitness: 0.01|Params: [1.0614763 1.1363623]\n",
      "# Gen: 85|Fitness: 0.01|Params: [1.0614763 1.1363623]\n",
      "# Gen: 90|Fitness: 0.01|Params: [1.0614763 1.1363623]\n",
      "# Gen: 95|Fitness: 0.01|Params: [0.99222404 0.9772174 ]\n",
      "# Gen: 100|Fitness: 0.01|Params: [0.99222404 0.9772174 ]\n"
     ]
    }
   ],
   "source": [
    "mean_init, sigma_init = jnp.zeros(num_params), 1\n",
    "params, memory = init_strategy(mean_init, sigma_init, pop_size, mu)\n",
    "\n",
    "top_k = 3\n",
    "\n",
    "evo_logger = init_logger(top_k, num_params)\n",
    "\n",
    "for generation in range(num_generations):\n",
    "    # Ask - Eval - Tell - Log\n",
    "    rng, rng_input = jax.random.split(rng)\n",
    "    x, memory = ask(rng_input, params, memory)\n",
    "    value = batch_rosenbrock(x, a, b)\n",
    "    memory = tell(x, value, params, memory)\n",
    "    evo_logger = update_logger(evo_logger, x, value, memory, top_k)\n",
    "    if (generation + 1) % print_every_gen == 0:\n",
    "        print(\"# Gen: {}|Fitness: {:.2f}|Params: {}\".format(generation+1,\n",
    "                                                  evo_logger[\"top_values\"][0],\n",
    "                                                  evo_logger[\"top_params\"][0]))"
   ]
  }
 ],
 "metadata": {
  "kernelspec": {
   "display_name": "Python3 (ma-vision)",
   "language": "python",
   "name": "ma-vision"
  },
  "language_info": {
   "codemirror_mode": {
    "name": "ipython",
    "version": 3
   },
   "file_extension": ".py",
   "mimetype": "text/x-python",
   "name": "python",
   "nbconvert_exporter": "python",
   "pygments_lexer": "ipython3",
   "version": "3.6.9"
  }
 },
 "nbformat": 4,
 "nbformat_minor": 4
}
