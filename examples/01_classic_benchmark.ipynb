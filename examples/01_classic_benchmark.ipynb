{
 "cells": [
  {
   "cell_type": "markdown",
   "metadata": {},
   "source": [
    "# 01 - Simple ES Benchmark Function\n",
    "### [Last Update: March 2022][![Colab](https://colab.research.google.com/assets/colab-badge.svg)](https://colab.research.google.com/github/RobertTLange/evosax/blob/main/examples/01_classic_benchmark.ipynb)"
   ]
  },
  {
   "cell_type": "code",
   "execution_count": null,
   "metadata": {},
   "outputs": [],
   "source": [
    "%matplotlib inline\n",
    "%load_ext autoreload\n",
    "%autoreload 2\n",
    "%config InlineBackend.figure_format = 'retina'\n",
    "\n",
    "!pip install -q git+https://github.com/RobertTLange/evosax.git@main"
   ]
  },
  {
   "cell_type": "markdown",
   "metadata": {},
   "source": [
    "## 2D Rosenbrock with CMA-ES\n",
    "\n",
    "`evosax` implements a set of different classic benchmark functions. These include multi-dimensional versions of `quadratic`, `rosenbrock`, `ackley`, `griewank`, `rastrigin`, `schwefel`, `himmelblau`, `six-hump`. In the following we focus on the 2D Rosenbrock case, but feel free to play around with the others."
   ]
  },
  {
   "cell_type": "code",
   "execution_count": 3,
   "metadata": {},
   "outputs": [
    {
     "name": "stdout",
     "output_type": "stream",
     "text": [
      "CMA-ES - # Gen: 10|Fitness: 0.11798|Params: [-0.24922156 -0.45996755]\n",
      "CMA-ES - # Gen: 20|Fitness: 0.06408|Params: [-0.25254983 -0.44303334]\n",
      "CMA-ES - # Gen: 30|Fitness: 0.00020|Params: [-0.00756136 -0.01385564]\n",
      "CMA-ES - # Gen: 40|Fitness: 0.00000|Params: [-0.00087966 -0.00171674]\n",
      "CMA-ES - # Gen: 50|Fitness: 0.00000|Params: [-3.9389306e-06 -8.1345934e-06]\n"
     ]
    }
   ],
   "source": [
    "import jax\n",
    "import jax.numpy as jnp\n",
    "from evosax import CMA_ES\n",
    "from evosax.problems import BBOBFitness\n",
    "\n",
    "# Instantiate the problem evaluator\n",
    "rosenbrock = BBOBFitness(\"RosenbrockOriginal\", num_dims=2)\n",
    "\n",
    "# Instantiate the search strategy\n",
    "rng = jax.random.PRNGKey(0)\n",
    "strategy = CMA_ES(popsize=20, num_dims=2, elite_ratio=0.5)\n",
    "es_params = strategy.default_params.replace(init_min=-2, init_max=2)\n",
    "\n",
    "state = strategy.initialize(rng, es_params)\n",
    "\n",
    "# Run ask-eval-tell loop - NOTE: By default minimization\n",
    "for t in range(50):\n",
    "    rng, rng_gen, rng_eval = jax.random.split(rng, 3)\n",
    "    x, state = strategy.ask(rng_gen, state, es_params)\n",
    "    fitness = rosenbrock.rollout(rng_eval, x)\n",
    "    state = strategy.tell(x, fitness, state, es_params)\n",
    "\n",
    "    if (t + 1) % 10 == 0:\n",
    "        print(\"CMA-ES - # Gen: {}|Fitness: {:.5f}|Params: {}\".format(\n",
    "            t+1, state.best_fitness, state.best_member))"
   ]
  },
  {
   "cell_type": "markdown",
   "metadata": {},
   "source": [
    "## 2D Rosenbrock with Other ES"
   ]
  },
  {
   "cell_type": "code",
   "execution_count": 4,
   "metadata": {},
   "outputs": [
    {
     "name": "stdout",
     "output_type": "stream",
     "text": [
      "SimpleES - # Gen: 5|Fitness: 2.41|Params: [0.5749427 1.3363407]\n",
      "SimpleES - # Gen: 10|Fitness: 0.05|Params: [-0.02394086 -0.06951416]\n",
      "SimpleES - # Gen: 15|Fitness: 0.02|Params: [0.052019   0.11855024]\n",
      "SimpleES - # Gen: 20|Fitness: 0.02|Params: [0.052019   0.11855024]\n",
      "SimpleES - # Gen: 25|Fitness: 0.02|Params: [0.052019   0.11855024]\n",
      "SimpleES - # Gen: 30|Fitness: 0.02|Params: [0.052019   0.11855024]\n",
      "====================\n",
      "SimpleGA - # Gen: 5|Fitness: 0.05|Params: [-0.23124489 -0.40957353]\n",
      "SimpleGA - # Gen: 10|Fitness: 0.03|Params: [-0.13031456 -0.23322381]\n",
      "SimpleGA - # Gen: 15|Fitness: 0.02|Params: [-0.11532619 -0.20849138]\n",
      "SimpleGA - # Gen: 20|Fitness: 0.00|Params: [-0.00291448 -0.00076399]\n",
      "SimpleGA - # Gen: 25|Fitness: 0.00|Params: [-0.00291448 -0.00076399]\n",
      "SimpleGA - # Gen: 30|Fitness: 0.00|Params: [0.0479427  0.09704389]\n",
      "====================\n",
      "PSO - # Gen: 5|Fitness: 0.32|Params: [-0.01428866  0.02790421]\n",
      "PSO - # Gen: 10|Fitness: 0.19|Params: [-0.32952115 -0.5220759 ]\n",
      "PSO - # Gen: 15|Fitness: 0.12|Params: [-0.33950207 -0.56108034]\n",
      "PSO - # Gen: 20|Fitness: 0.09|Params: [-0.30322644 -0.5158702 ]\n",
      "PSO - # Gen: 25|Fitness: 0.06|Params: [-0.23692334 -0.41880134]\n",
      "PSO - # Gen: 30|Fitness: 0.06|Params: [-0.23692334 -0.41880134]\n",
      "====================\n",
      "DE - # Gen: 5|Fitness: 0.37|Params: [-0.6068972 -0.8382896]\n",
      "DE - # Gen: 10|Fitness: 0.03|Params: [-0.15622607 -0.2968421 ]\n",
      "DE - # Gen: 15|Fitness: 0.00|Params: [-0.01819804 -0.03231879]\n",
      "DE - # Gen: 20|Fitness: 0.00|Params: [0.0003629  0.00136572]\n",
      "DE - # Gen: 25|Fitness: 0.00|Params: [0.0003629  0.00136572]\n",
      "DE - # Gen: 30|Fitness: 0.00|Params: [0.00027412 0.00099771]\n",
      "====================\n",
      "Sep_CMA_ES - # Gen: 5|Fitness: 4.09|Params: [-1.5836709 -0.5336474]\n",
      "Sep_CMA_ES - # Gen: 10|Fitness: 4.09|Params: [-1.5836709 -0.5336474]\n",
      "Sep_CMA_ES - # Gen: 15|Fitness: 4.09|Params: [-1.5836709 -0.5336474]\n",
      "Sep_CMA_ES - # Gen: 20|Fitness: 4.09|Params: [-1.5836709 -0.5336474]\n",
      "Sep_CMA_ES - # Gen: 25|Fitness: 4.09|Params: [-1.5836709 -0.5336474]\n",
      "Sep_CMA_ES - # Gen: 30|Fitness: 4.09|Params: [-1.5836709 -0.5336474]\n",
      "====================\n",
      "Full_iAMaLGaM - # Gen: 5|Fitness: 0.01|Params: [-0.10261801 -0.19658661]\n",
      "Full_iAMaLGaM - # Gen: 10|Fitness: 0.00|Params: [-0.0065736  -0.01341229]\n",
      "Full_iAMaLGaM - # Gen: 15|Fitness: 0.00|Params: [9.990766e-05 1.880897e-04]\n",
      "Full_iAMaLGaM - # Gen: 20|Fitness: 0.00|Params: [2.0616037e-05 4.2061394e-05]\n",
      "Full_iAMaLGaM - # Gen: 25|Fitness: 0.00|Params: [1.1449511e-06 2.9405437e-06]\n",
      "Full_iAMaLGaM - # Gen: 30|Fitness: 0.00|Params: [-9.1895004e-07 -1.6921636e-06]\n",
      "====================\n",
      "Indep_iAMaLGaM - # Gen: 5|Fitness: 0.05|Params: [0.14939058 0.30428362]\n",
      "Indep_iAMaLGaM - # Gen: 10|Fitness: 0.02|Params: [0.13289806 0.28522342]\n",
      "Indep_iAMaLGaM - # Gen: 15|Fitness: 0.02|Params: [0.13289806 0.28522342]\n",
      "Indep_iAMaLGaM - # Gen: 20|Fitness: 0.02|Params: [0.13289806 0.28522342]\n",
      "Indep_iAMaLGaM - # Gen: 25|Fitness: 0.02|Params: [0.13289806 0.28522342]\n",
      "Indep_iAMaLGaM - # Gen: 30|Fitness: 0.02|Params: [0.13289806 0.28522342]\n",
      "====================\n",
      "MA_ES - # Gen: 5|Fitness: 0.33|Params: [-0.5359075 -0.7642154]\n",
      "MA_ES - # Gen: 10|Fitness: 0.33|Params: [-0.5359075 -0.7642154]\n",
      "MA_ES - # Gen: 15|Fitness: 0.33|Params: [-0.5359075 -0.7642154]\n",
      "MA_ES - # Gen: 20|Fitness: 0.33|Params: [-0.5359075 -0.7642154]\n",
      "MA_ES - # Gen: 25|Fitness: 0.33|Params: [-0.5359075 -0.7642154]\n",
      "MA_ES - # Gen: 30|Fitness: 0.33|Params: [-0.5359075 -0.7642154]\n",
      "====================\n",
      "LM_MA_ES - # Gen: 5|Fitness: 7.78|Params: [-2.7078676  1.8501627]\n",
      "LM_MA_ES - # Gen: 10|Fitness: 7.45|Params: [-2.7272193  1.9920657]\n",
      "LM_MA_ES - # Gen: 15|Fitness: 7.42|Params: [-2.7236936  1.9769124]\n",
      "LM_MA_ES - # Gen: 20|Fitness: 7.42|Params: [-2.7237751  1.9702088]\n",
      "LM_MA_ES - # Gen: 25|Fitness: 7.41|Params: [-2.721651   1.9702324]\n",
      "LM_MA_ES - # Gen: 30|Fitness: 7.41|Params: [-2.7209196  1.9683607]\n",
      "====================\n",
      "RmES - # Gen: 5|Fitness: 0.37|Params: [-0.59044695 -0.84810144]\n",
      "RmES - # Gen: 10|Fitness: 0.37|Params: [-0.59044695 -0.84810144]\n",
      "RmES - # Gen: 15|Fitness: 0.11|Params: [-0.33058548 -0.5489675 ]\n",
      "RmES - # Gen: 20|Fitness: 0.11|Params: [-0.33058548 -0.5489675 ]\n",
      "RmES - # Gen: 25|Fitness: 0.11|Params: [-0.33058548 -0.5489675 ]\n",
      "RmES - # Gen: 30|Fitness: 0.09|Params: [-0.28109062 -0.47365618]\n",
      "====================\n",
      "GLD - # Gen: 5|Fitness: 0.01|Params: [-0.1030587  -0.19583313]\n",
      "GLD - # Gen: 10|Fitness: 0.01|Params: [-0.07785733 -0.14456296]\n",
      "GLD - # Gen: 15|Fitness: 0.00|Params: [-0.03990307 -0.08063483]\n",
      "GLD - # Gen: 20|Fitness: 0.00|Params: [-0.0303201 -0.0579391]\n",
      "GLD - # Gen: 25|Fitness: 0.00|Params: [-0.03103314 -0.06153299]\n",
      "GLD - # Gen: 30|Fitness: 0.00|Params: [-0.0139228  -0.02847508]\n",
      "====================\n",
      "SimAnneal - # Gen: 5|Fitness: 114.55|Params: [-1.7434927   0.60876817]\n",
      "SimAnneal - # Gen: 10|Fitness: 29.11|Params: [-1.990768    0.48308632]\n",
      "SimAnneal - # Gen: 15|Fitness: 4.59|Params: [-2.1422086   0.30636734]\n",
      "SimAnneal - # Gen: 20|Fitness: 4.36|Params: [-2.0813289   0.18672767]\n",
      "SimAnneal - # Gen: 25|Fitness: 4.25|Params: [-2.0612166   0.12882923]\n",
      "SimAnneal - # Gen: 30|Fitness: 3.98|Params: [-1.9781697 -0.0172411]\n",
      "====================\n",
      "GESMR_GA - # Gen: 5|Fitness: 9.00|Params: [-1.181883  -1.2426325]\n",
      "GESMR_GA - # Gen: 10|Fitness: 1.43|Params: [-1.1773776  -0.99034745]\n",
      "GESMR_GA - # Gen: 15|Fitness: 0.43|Params: [-0.57461786 -0.78734714]\n",
      "GESMR_GA - # Gen: 20|Fitness: 0.27|Params: [-0.5132652 -0.7691257]\n",
      "GESMR_GA - # Gen: 25|Fitness: 0.24|Params: [-0.4847008 -0.7374786]\n",
      "GESMR_GA - # Gen: 30|Fitness: 0.21|Params: [-0.46073768 -0.7048114 ]\n",
      "====================\n",
      "SAMR_GA - # Gen: 5|Fitness: 0.59|Params: [0.68800676 1.8831477 ]\n",
      "SAMR_GA - # Gen: 10|Fitness: 0.57|Params: [0.64244306 1.7375212 ]\n",
      "SAMR_GA - # Gen: 15|Fitness: 0.57|Params: [0.64244306 1.7375212 ]\n",
      "SAMR_GA - # Gen: 20|Fitness: 0.57|Params: [0.64244306 1.7375212 ]\n",
      "SAMR_GA - # Gen: 25|Fitness: 0.52|Params: [0.6906921 1.8796452]\n",
      "SAMR_GA - # Gen: 30|Fitness: 0.52|Params: [0.6906921 1.8796452]\n",
      "====================\n"
     ]
    }
   ],
   "source": [
    "from evosax import Strategies\n",
    "rng = jax.random.PRNGKey(0)\n",
    "\n",
    "for s_name in [\"SimpleES\", \"SimpleGA\", \"PSO\", \"DE\", \"Sep_CMA_ES\",\n",
    "               \"Full_iAMaLGaM\", \"Indep_iAMaLGaM\", \"MA_ES\", \"LM_MA_ES\",\n",
    "               \"RmES\", \"GLD\", \"SimAnneal\", \"GESMR_GA\", \"SAMR_GA\"]:\n",
    "    strategy = Strategies[s_name](popsize=20, num_dims=2)\n",
    "    es_params = strategy.default_params\n",
    "    es_params = es_params.replace(init_min=-2, init_max=2)\n",
    "    state = strategy.initialize(rng, es_params)\n",
    "\n",
    "    for t in range(30):\n",
    "        rng, rng_gen, rng_eval = jax.random.split(rng, 3)\n",
    "        x, state = strategy.ask(rng_gen, state, es_params)\n",
    "        fitness = rosenbrock.rollout(rng_eval, x)\n",
    "        state = strategy.tell(x, fitness, state, es_params)\n",
    "\n",
    "        if (t + 1) % 5 == 0:\n",
    "            print(\"{} - # Gen: {}|Fitness: {:.2f}|Params: {}\".format(\n",
    "                s_name, t+1, state.best_fitness, state.best_member))\n",
    "    print(20*\"=\")"
   ]
  },
  {
   "cell_type": "markdown",
   "metadata": {},
   "source": [
    "# Try out one of the many `evosax` algorithms!"
   ]
  },
  {
   "cell_type": "code",
   "execution_count": 5,
   "metadata": {},
   "outputs": [
    {
     "data": {
      "text/plain": [
       "dict_keys(['SimpleGA', 'SimpleES', 'CMA_ES', 'DE', 'PSO', 'OpenES', 'PGPE', 'PBT', 'PersistentES', 'ARS', 'Sep_CMA_ES', 'BIPOP_CMA_ES', 'IPOP_CMA_ES', 'Full_iAMaLGaM', 'Indep_iAMaLGaM', 'MA_ES', 'LM_MA_ES', 'RmES', 'GLD', 'SimAnneal', 'SNES', 'xNES', 'ESMC', 'DES', 'SAMR_GA', 'GESMR_GA', 'GuidedES', 'ASEBO', 'CR_FM_NES', 'MR15_GA'])"
      ]
     },
     "execution_count": 5,
     "metadata": {},
     "output_type": "execute_result"
    }
   ],
   "source": [
    "Strategies.keys()"
   ]
  }
 ],
 "metadata": {
  "kernelspec": {
   "display_name": "mle-toolbox",
   "language": "python",
   "name": "mle-toolbox"
  },
  "language_info": {
   "codemirror_mode": {
    "name": "ipython",
    "version": 3
   },
   "file_extension": ".py",
   "mimetype": "text/x-python",
   "name": "python",
   "nbconvert_exporter": "python",
   "pygments_lexer": "ipython3",
   "version": "3.9.7"
  }
 },
 "nbformat": 4,
 "nbformat_minor": 4
}
