{
 "cells": [
  {
   "cell_type": "markdown",
   "metadata": {},
   "source": [
    "# 01 - Simple ES Benchmark Function\n",
    "### [Last Update: March 2022][![Colab](https://colab.research.google.com/assets/colab-badge.svg)](https://colab.research.google.com/github/RobertTLange/evosax/blob/main/examples/01_classic_benchmark.ipynb)"
   ]
  },
  {
   "cell_type": "code",
   "execution_count": 1,
   "metadata": {},
   "outputs": [],
   "source": [
    "%matplotlib inline\n",
    "%load_ext autoreload\n",
    "%autoreload 2\n",
    "%config InlineBackend.figure_format = 'retina'\n",
    "\n",
    "!pip install git+https://github.com/RobertTLange/evosax.git@main"
   ]
  },
  {
   "cell_type": "markdown",
   "metadata": {},
   "source": [
    "## 2D Rosenbrock with CMA-ES\n",
    "\n",
    "`evosax` implements a set of different classic benchmark functions. These include multi-dimensional versions of `quadratic`, `rosenbrock`, `ackley`, `griewank`, `rastrigin`, `schwefel`, `himmelblau`, `six-hump`. In the following we focus on the 2D Rosenbrock case, but feel free to play around with the others."
   ]
  },
  {
   "cell_type": "code",
   "execution_count": 2,
   "metadata": {},
   "outputs": [
    {
     "name": "stdout",
     "output_type": "stream",
     "text": [
      "CMA-ES - # Gen: 10|Fitness: 0.19|Params: [0.5686723  0.32108894]\n",
      "CMA-ES - # Gen: 20|Fitness: 0.00|Params: [0.93153477 0.8686122 ]\n",
      "CMA-ES - # Gen: 30|Fitness: 0.00|Params: [0.994307   0.98881495]\n",
      "CMA-ES - # Gen: 40|Fitness: 0.00|Params: [0.999974  0.9999472]\n",
      "CMA-ES - # Gen: 50|Fitness: 0.00|Params: [0.9999999 0.9999998]\n"
     ]
    }
   ],
   "source": [
    "import jax\n",
    "import jax.numpy as jnp\n",
    "from evosax import CMA_ES\n",
    "from evosax.problems import ClassicFitness\n",
    "\n",
    "# Instantiate the problem evaluator\n",
    "rosenbrock = ClassicFitness(\"rosenbrock\", num_dims=2)\n",
    "\n",
    "# Instantiate the search strategy\n",
    "rng = jax.random.PRNGKey(0)\n",
    "strategy = CMA_ES(popsize=20, num_dims=2, elite_ratio=0.5)\n",
    "es_params = strategy.default_params\n",
    "es_params[\"init_min\"] = -0\n",
    "es_params[\"init_max\"] = 0\n",
    "state = strategy.initialize(rng, es_params)\n",
    "\n",
    "# Run ask-eval-tell loop - NOTE: By default minimization\n",
    "for t in range(50):\n",
    "    rng, rng_gen, rng_eval = jax.random.split(rng, 3)\n",
    "    x, state = strategy.ask(rng_gen, state, es_params)\n",
    "    fitness = rosenbrock.rollout(rng_eval, x)\n",
    "    state = strategy.tell(x, fitness, state, es_params)\n",
    "\n",
    "    if (t + 1) % 10 == 0:\n",
    "        print(\"CMA-ES - # Gen: {}|Fitness: {:.2f}|Params: {}\".format(\n",
    "            t+1, state[\"best_fitness\"], state[\"best_member\"]))"
   ]
  },
  {
   "cell_type": "markdown",
   "metadata": {},
   "source": [
    "## 2D Rosenbrock with Other ES"
   ]
  },
  {
   "cell_type": "code",
   "execution_count": 3,
   "metadata": {},
   "outputs": [
    {
     "name": "stdout",
     "output_type": "stream",
     "text": [
      "SimpleES - # Gen: 5|Fitness: 0.30|Params: [0.92314136 0.90602154]\n",
      "SimpleES - # Gen: 10|Fitness: 0.30|Params: [0.92314136 0.90602154]\n",
      "SimpleES - # Gen: 15|Fitness: 0.01|Params: [1.0070696 1.0240867]\n",
      "SimpleES - # Gen: 20|Fitness: 0.01|Params: [1.0070696 1.0240867]\n",
      "SimpleES - # Gen: 25|Fitness: 0.01|Params: [1.0070696 1.0240867]\n",
      "SimpleES - # Gen: 30|Fitness: 0.01|Params: [1.0070696 1.0240867]\n",
      "====================\n",
      "SimpleGA - # Gen: 5|Fitness: 6.79|Params: [-0.012256   -0.24003565]\n",
      "SimpleGA - # Gen: 10|Fitness: 0.68|Params: [0.21533592 0.02063736]\n",
      "SimpleGA - # Gen: 15|Fitness: 0.39|Params: [0.4103716  0.14900509]\n",
      "SimpleGA - # Gen: 20|Fitness: 0.18|Params: [0.5903524  0.33600026]\n",
      "SimpleGA - # Gen: 25|Fitness: 0.17|Params: [0.6199676  0.39935672]\n",
      "SimpleGA - # Gen: 30|Fitness: 0.13|Params: [0.64335036 0.40990546]\n",
      "====================\n",
      "PSO - # Gen: 5|Fitness: 1.11|Params: [-0.01428866  0.02790421]\n",
      "PSO - # Gen: 10|Fitness: 0.03|Params: [1.0889671 1.1718146]\n",
      "PSO - # Gen: 15|Fitness: 0.01|Params: [1.109518  1.2260276]\n",
      "PSO - # Gen: 20|Fitness: 0.01|Params: [1.07492   1.1620886]\n",
      "PSO - # Gen: 25|Fitness: 0.01|Params: [1.07492   1.1620886]\n",
      "PSO - # Gen: 30|Fitness: 0.01|Params: [1.07492   1.1620886]\n",
      "====================\n",
      "DE - # Gen: 5|Fitness: 1.47|Params: [0.4202202  0.07006817]\n",
      "DE - # Gen: 10|Fitness: 0.06|Params: [0.8021141  0.62911767]\n",
      "DE - # Gen: 15|Fitness: 0.02|Params: [0.9362315  0.86526275]\n",
      "DE - # Gen: 20|Fitness: 0.00|Params: [0.9845552 0.9694641]\n",
      "DE - # Gen: 25|Fitness: 0.00|Params: [0.9845552 0.9694641]\n",
      "DE - # Gen: 30|Fitness: 0.00|Params: [1.0019752 1.0039067]\n",
      "====================\n",
      "Sep_CMA_ES - # Gen: 5|Fitness: 5.36|Params: [-1.3023839  1.7210877]\n",
      "Sep_CMA_ES - # Gen: 10|Fitness: 5.36|Params: [-1.3023839  1.7210877]\n",
      "Sep_CMA_ES - # Gen: 15|Fitness: 5.36|Params: [-1.3023839  1.7210877]\n",
      "Sep_CMA_ES - # Gen: 20|Fitness: 5.36|Params: [-1.3023839  1.7210877]\n",
      "Sep_CMA_ES - # Gen: 25|Fitness: 5.36|Params: [-1.3023839  1.7210877]\n",
      "Sep_CMA_ES - # Gen: 30|Fitness: 5.36|Params: [-1.3023839  1.7210877]\n",
      "====================\n",
      "Full_iAMaLGaM - # Gen: 5|Fitness: 0.25|Params: [0.6604286 0.3994702]\n",
      "Full_iAMaLGaM - # Gen: 10|Fitness: 0.13|Params: [0.69210684 0.49688506]\n",
      "Full_iAMaLGaM - # Gen: 15|Fitness: 0.04|Params: [0.7911082 0.6271152]\n",
      "Full_iAMaLGaM - # Gen: 20|Fitness: 0.01|Params: [0.88771087 0.7831604 ]\n",
      "Full_iAMaLGaM - # Gen: 25|Fitness: 0.00|Params: [0.9760238 0.951268 ]\n",
      "Full_iAMaLGaM - # Gen: 30|Fitness: 0.00|Params: [0.999678  0.9994286]\n",
      "====================\n",
      "Indep_iAMaLGaM - # Gen: 5|Fitness: 0.17|Params: [0.6100822  0.38497382]\n",
      "Indep_iAMaLGaM - # Gen: 10|Fitness: 0.14|Params: [0.6913663 0.5000105]\n",
      "Indep_iAMaLGaM - # Gen: 15|Fitness: 0.14|Params: [0.6913663 0.5000105]\n",
      "Indep_iAMaLGaM - # Gen: 20|Fitness: 0.14|Params: [0.6913663 0.5000105]\n",
      "Indep_iAMaLGaM - # Gen: 25|Fitness: 0.14|Params: [0.6367065  0.41385126]\n",
      "Indep_iAMaLGaM - # Gen: 30|Fitness: 0.14|Params: [0.6367065  0.41385126]\n",
      "====================\n",
      "MA_ES - # Gen: 5|Fitness: 840.14|Params: [ 1.6348459  -0.22510758]\n",
      "MA_ES - # Gen: 10|Fitness: 839.89|Params: [ 1.6386213  -0.21230145]\n",
      "MA_ES - # Gen: 15|Fitness: 839.11|Params: [ 1.6380427  -0.21285582]\n",
      "MA_ES - # Gen: 20|Fitness: 839.04|Params: [ 1.6380086  -0.21284352]\n",
      "MA_ES - # Gen: 25|Fitness: 839.04|Params: [ 1.6380068  -0.21284315]\n",
      "MA_ES - # Gen: 30|Fitness: 839.04|Params: [ 1.6380068  -0.21284278]\n",
      "====================\n",
      "LM_MA_ES - # Gen: 5|Fitness: 6.08|Params: [-1.30967    1.6290693]\n",
      "LM_MA_ES - # Gen: 10|Fitness: 6.08|Params: [-1.30967    1.6290693]\n",
      "LM_MA_ES - # Gen: 15|Fitness: 6.08|Params: [-1.30967    1.6290693]\n",
      "LM_MA_ES - # Gen: 20|Fitness: 6.08|Params: [-1.30967    1.6290693]\n",
      "LM_MA_ES - # Gen: 25|Fitness: 6.08|Params: [-1.30967    1.6290693]\n",
      "LM_MA_ES - # Gen: 30|Fitness: 6.08|Params: [-1.30967    1.6290693]\n",
      "====================\n"
     ]
    }
   ],
   "source": [
    "from evosax import Strategies\n",
    "rng = jax.random.PRNGKey(0)\n",
    "\n",
    "for s_name in [\"SimpleES\", \"SimpleGA\", \"PSO\", \"DE\", \"Sep_CMA_ES\",\n",
    "               \"Full_iAMaLGaM\", \"Indep_iAMaLGaM\", \"MA_ES\", \"LM_MA_ES\"]:\n",
    "    strategy = Strategies[s_name](popsize=20, num_dims=2)\n",
    "    es_params = strategy.default_params\n",
    "    es_params[\"init_min\"] = -2\n",
    "    es_params[\"init_max\"] = 2\n",
    "    state = strategy.initialize(rng, es_params)\n",
    "\n",
    "    for t in range(30):\n",
    "        rng, rng_gen, rng_eval = jax.random.split(rng, 3)\n",
    "        x, state = strategy.ask(rng_gen, state, es_params)\n",
    "        fitness = rosenbrock.rollout(rng_eval, x)\n",
    "        state = strategy.tell(x, fitness, state, es_params)\n",
    "\n",
    "        if (t + 1) % 5 == 0:\n",
    "            print(\"{} - # Gen: {}|Fitness: {:.2f}|Params: {}\".format(\n",
    "                s_name, t+1, state[\"best_fitness\"], state[\"best_member\"]))\n",
    "    print(20*\"=\")"
   ]
  },
  {
   "cell_type": "markdown",
   "metadata": {},
   "source": [
    "# xNES on Sinusoidal Task"
   ]
  },
  {
   "cell_type": "code",
   "execution_count": 4,
   "metadata": {},
   "outputs": [
    {
     "name": "stdout",
     "output_type": "stream",
     "text": [
      "xNES - # Gen: 500|Fitness: -0.00000|Params: [ 9917.408 -9997.561]\n",
      "xNES - # Gen: 1000|Fitness: -0.00000|Params: [ 9913.989 -9864.156]\n",
      "xNES - # Gen: 1500|Fitness: -1.00000|Params: [ 0.01426671 -0.00338664]\n",
      "xNES - # Gen: 2000|Fitness: -1.00000|Params: [ 0.01426671 -0.00338664]\n",
      "xNES - # Gen: 2500|Fitness: -1.00000|Params: [ 0.01426671 -0.00338664]\n",
      "xNES - # Gen: 3000|Fitness: -1.00000|Params: [ 0.01426671 -0.00338664]\n",
      "xNES - # Gen: 3500|Fitness: -1.00000|Params: [ 0.01426671 -0.00338664]\n",
      "xNES - # Gen: 4000|Fitness: -1.00000|Params: [ 0.01426671 -0.00338664]\n",
      "xNES - # Gen: 4500|Fitness: -1.00000|Params: [ 0.01426671 -0.00338664]\n",
      "xNES - # Gen: 5000|Fitness: -1.00000|Params: [ 0.01426671 -0.00338664]\n"
     ]
    }
   ],
   "source": [
    "from evosax.strategies import xNES\n",
    "\n",
    "def f(x):\n",
    "    \"\"\"Taken from https://github.com/chanshing/xnes\"\"\" \n",
    "    r = jnp.sum(x ** 2)\n",
    "    return -jnp.sin(r) / r\n",
    "\n",
    "batch_func = jax.vmap(f, in_axes=0)\n",
    "\n",
    "rng = jax.random.PRNGKey(0)\n",
    "strategy = xNES(popsize=50, num_dims=2)\n",
    "es_params = strategy.default_params\n",
    "es_params[\"use_adaptive_sampling\"] = True\n",
    "es_params[\"use_fitness_shaping\"] = True\n",
    "es_params[\"eta_bmat\"] = 0.01\n",
    "es_params[\"eta_sigma\"] = 0.1\n",
    "\n",
    "state = strategy.initialize(rng, es_params)\n",
    "state[\"mean\"] = jnp.array([9999.0, -9999.0])  # a bad init guess\n",
    "num_iters = 5000\n",
    "for t in range(num_iters):\n",
    "    rng, rng_iter = jax.random.split(rng)\n",
    "    y, state = strategy.ask(rng_iter, state, es_params)\n",
    "    fitness = batch_func(y)\n",
    "    state = strategy.tell(y, fitness, state, es_params)\n",
    "    if (t + 1) % 500 == 0:\n",
    "        print(\"xNES - # Gen: {}|Fitness: {:.5f}|Params: {}\".format(\n",
    "                t+1, state[\"best_fitness\"], state[\"best_member\"]))\n"
   ]
  }
 ],
 "metadata": {
  "kernelspec": {
   "display_name": "snippets",
   "language": "python",
   "name": "snippets"
  },
  "language_info": {
   "codemirror_mode": {
    "name": "ipython",
    "version": 3
   },
   "file_extension": ".py",
   "mimetype": "text/x-python",
   "name": "python",
   "nbconvert_exporter": "python",
   "pygments_lexer": "ipython3",
   "version": "3.8.11"
  }
 },
 "nbformat": 4,
 "nbformat_minor": 4
}
