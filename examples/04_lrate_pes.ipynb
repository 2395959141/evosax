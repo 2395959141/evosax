{
 "cells": [
  {
   "cell_type": "markdown",
   "metadata": {},
   "source": [
    "# 04 - Persistent ES on Learning Rate Tuning Problem\n",
    "### [Last Update: February 2022][![Colab](https://colab.research.google.com/assets/colab-badge.svg)](https://colab.research.google.com/github/RobertTLange/evosax/blob/main/examples/04_mlp_pes.ipynb)"
   ]
  },
  {
   "cell_type": "code",
   "execution_count": 1,
   "metadata": {},
   "outputs": [],
   "source": [
    "%matplotlib inline\n",
    "%load_ext autoreload\n",
    "%autoreload 2\n",
    "%config InlineBackend.figure_format = 'retina'\n",
    "\n",
    "!pip install evosax\n",
    "\n",
    "import jax\n",
    "import jax.numpy as jnp\n",
    "from functools import partial"
   ]
  },
  {
   "cell_type": "markdown",
   "metadata": {},
   "source": [
    "## Problem as in [Vicol et al. (2021)](http://proceedings.mlr.press/v139/vicol21a/vicol21a-supp.pdf) - Toy 2D Regression"
   ]
  },
  {
   "cell_type": "code",
   "execution_count": 2,
   "metadata": {},
   "outputs": [],
   "source": [
    "def loss(x):\n",
    "    \"\"\"Inner loss.\"\"\"\n",
    "    return (\n",
    "        jnp.sqrt(x[0] ** 2 + 5)\n",
    "        - jnp.sqrt(5)\n",
    "        + jnp.sin(x[1]) ** 2 * jnp.exp(-5 * x[0] ** 2)\n",
    "        + 0.25 * jnp.abs(x[1] - 100)\n",
    "    )\n",
    "\n",
    "def update(state, i):\n",
    "    \"\"\"Performs a single inner problem update, e.g., a single unroll step.\"\"\"\n",
    "    (L, x, theta, t_curr, T, K) = state\n",
    "    lr = jnp.exp(theta[0]) * (T - t_curr) / T + jnp.exp(theta[1]) * t_curr / T\n",
    "    x = x - lr * jax.grad(loss)(x)\n",
    "    L += loss(x) * (t_curr < T)\n",
    "    t_curr += 1\n",
    "    return (L, x, theta, t_curr, T, K), x\n",
    "\n",
    "@partial(jax.jit, static_argnums=(3, 4))\n",
    "def unroll(x_init, theta, t0, T, K):\n",
    "    \"\"\"Unroll the inner problem for K steps.\"\"\"\n",
    "    L = 0.0\n",
    "    initial_state = (L, x_init, theta, t0, T, K)\n",
    "    state, outputs = jax.lax.scan(update, initial_state, None, length=K)\n",
    "    (L, x_curr, theta, t_curr, T, K) = state\n",
    "    return L, x_curr"
   ]
  },
  {
   "cell_type": "markdown",
   "metadata": {},
   "source": [
    "### Initialize Persistent Evolution Strategy"
   ]
  },
  {
   "cell_type": "code",
   "execution_count": 3,
   "metadata": {},
   "outputs": [],
   "source": [
    "from evosax import Persistent_ES\n",
    "\n",
    "popsize = 100\n",
    "T = 100\n",
    "K = 10\n",
    "\n",
    "strategy = Persistent_ES(popsize=popsize, num_dims=2)\n",
    "es_params = strategy.default_params\n",
    "es_params[\"T\"] = 100\n",
    "es_params[\"K\"] = 10\n",
    "\n",
    "rng = jax.random.PRNGKey(5)\n",
    "state = strategy.initialize(rng, es_params)\n",
    "\n",
    "# Initialize inner parameters\n",
    "t = 0\n",
    "xs = jnp.ones((popsize, 2)) * jnp.array([1.0, 1.0])"
   ]
  },
  {
   "cell_type": "markdown",
   "metadata": {},
   "source": [
    "### Run Outer PES Loop of Inner GD Loops :)"
   ]
  },
  {
   "cell_type": "code",
   "execution_count": 4,
   "metadata": {},
   "outputs": [
    {
     "name": "stdout",
     "output_type": "stream",
     "text": [
      "0 [-1.8013444  1.6298852] 2106.2678\n",
      "500 [-1.8695656  3.2172225] 1378.6495\n",
      "1000 [-1.6957031  3.0443091] 1350.8297\n",
      "1500 [-1.7292564  2.9525437] 1394.0214\n",
      "2000 [-1.6703017  2.9694104] 1425.172\n",
      "2500 [-1.5773143  2.965407 ] 1371.3549\n",
      "3000 [-1.5619453  2.9539077] 1369.0419\n",
      "3500 [-1.5344132  2.9571912] 1367.5834\n",
      "4000 [-1.5256056  2.9602153] 1265.4513\n",
      "4500 [-1.5129912  2.9543905] 1267.741\n"
     ]
    }
   ],
   "source": [
    "for i in range(5000):\n",
    "    rng, skey = jax.random.split(rng)\n",
    "    if t >= es_params[\"T\"]:\n",
    "        # Reset the inner problem: iteration, parameters\n",
    "        t = 0\n",
    "        xs = jnp.ones((popsize, 2)) * jnp.array([1.0, 1.0])\n",
    "    x, state = strategy.ask(rng, state, es_params)\n",
    "\n",
    "    # Unroll inner problem for K steps using antithetic perturbations\n",
    "    fitness, xs = jax.vmap(unroll, in_axes=(0, 0, None, None, None))(\n",
    "        xs, x, t, es_params[\"T\"], es_params[\"K\"]\n",
    "    )\n",
    "    \n",
    "    # Update ES - outer step!\n",
    "    state = strategy.tell(x, fitness, state, es_params)\n",
    "    t += es_params[\"K\"]\n",
    "\n",
    "    # Evaluation!\n",
    "    if i % 500 == 0:\n",
    "        L, _ = unroll(\n",
    "            jnp.array([1.0, 1.0]), state[\"mean\"], 0, es_params[\"T\"], es_params[\"T\"]\n",
    "        )\n",
    "        print(i, state[\"mean\"], L)\n"
   ]
  },
  {
   "cell_type": "code",
   "execution_count": null,
   "metadata": {},
   "outputs": [],
   "source": []
  }
 ],
 "metadata": {
  "kernelspec": {
   "display_name": "snippets",
   "language": "python",
   "name": "snippets"
  },
  "language_info": {
   "codemirror_mode": {
    "name": "ipython",
    "version": 3
   },
   "file_extension": ".py",
   "mimetype": "text/x-python",
   "name": "python",
   "nbconvert_exporter": "python",
   "pygments_lexer": "ipython3",
   "version": "3.8.11"
  }
 },
 "nbformat": 4,
 "nbformat_minor": 4
}
