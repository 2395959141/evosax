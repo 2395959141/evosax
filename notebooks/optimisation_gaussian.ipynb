{
 "cells": [
  {
   "cell_type": "code",
   "execution_count": 1,
   "metadata": {},
   "outputs": [],
   "source": [
    "%matplotlib inline\n",
    "%load_ext autoreload\n",
    "%autoreload 2\n",
    "%config InlineBackend.figure_format = 'retina'\n",
    "import sys\n",
    "sys.path.append(\"..\")\n",
    "\n",
    "import numpy as np\n",
    "import matplotlib.pyplot as plt\n",
    "\n",
    "import jax\n",
    "import jax.numpy as jnp\n",
    "\n",
    "from evosax.problems.low_d_optimisation import (batch_rosenbrock,\n",
    "                                                batch_himmelblau,\n",
    "                                                batch_hump_camel)\n",
    "from evosax.utils import init_logger, update_logger"
   ]
  },
  {
   "cell_type": "markdown",
   "metadata": {},
   "source": [
    "# Demo: Ask-Evaluate-Tell API\n",
    "## 2D Rosenbrock Function"
   ]
  },
  {
   "cell_type": "code",
   "execution_count": 2,
   "metadata": {},
   "outputs": [],
   "source": [
    "from evosax.strategies.gaussian import init_strategy, ask, tell"
   ]
  },
  {
   "cell_type": "code",
   "execution_count": 3,
   "metadata": {},
   "outputs": [
    {
     "name": "stderr",
     "output_type": "stream",
     "text": [
      "WARNING:absl:No GPU/TPU found, falling back to CPU. (Set TF_CPP_MIN_LOG_LEVEL=0 and rerun for more info.)\n"
     ]
    },
    {
     "data": {
      "text/plain": [
       "(DeviceArray([-0.27284285,  0.37311685], dtype=float32),\n",
       " DeviceArray([1., 1.], dtype=float32))"
      ]
     },
     "execution_count": 3,
     "metadata": {},
     "output_type": "execute_result"
    }
   ],
   "source": [
    "rng = jax.random.PRNGKey(0)\n",
    "mean_init, sigma_init = jnp.zeros(2), 1.0\n",
    "pop_size, elite_size = 6, 3\n",
    "params, memory = init_strategy(mean_init, sigma_init,\n",
    "                               pop_size, elite_size)\n",
    "\n",
    "# Fix population size, fix elite size\n",
    "rng, rng_input = jax.random.split(rng)\n",
    "x, memory = ask(rng_input, params, memory)\n",
    "value = batch_rosenbrock(x, 1, 100)\n",
    "memory = tell(x, value, params, memory)\n",
    "memory[\"mean\"], memory[\"sigma\"]"
   ]
  },
  {
   "cell_type": "markdown",
   "metadata": {},
   "source": [
    "### Run full Rosenbrock Example with JIT"
   ]
  },
  {
   "cell_type": "code",
   "execution_count": 4,
   "metadata": {},
   "outputs": [
    {
     "name": "stdout",
     "output_type": "stream",
     "text": [
      "# Gen: 20|Fitness: 0.10|Params: [0.6815662  0.46708193]\n",
      "# Gen: 40|Fitness: 0.01|Params: [1.0614763 1.1363623]\n",
      "# Gen: 60|Fitness: 0.01|Params: [1.0614763 1.1363623]\n",
      "# Gen: 80|Fitness: 0.01|Params: [1.0614763 1.1363623]\n",
      "# Gen: 100|Fitness: 0.01|Params: [0.99222404 0.9772174 ]\n",
      "# Gen: 120|Fitness: 0.01|Params: [0.99222404 0.9772174 ]\n",
      "# Gen: 140|Fitness: 0.01|Params: [0.99222404 0.9772174 ]\n",
      "# Gen: 160|Fitness: 0.01|Params: [0.99222404 0.9772174 ]\n",
      "# Gen: 180|Fitness: 0.01|Params: [0.99222404 0.9772174 ]\n",
      "# Gen: 200|Fitness: 0.01|Params: [0.99222404 0.9772174 ]\n"
     ]
    }
   ],
   "source": [
    "a, b = 1, 100\n",
    "num_params = 2\n",
    "pop_size, elite_size = 10, 5\n",
    "mean_init, sigma_init = jnp.zeros(num_params), 1\n",
    "params, memory = init_strategy(mean_init, sigma_init, pop_size, elite_size)\n",
    "\n",
    "top_k = 3\n",
    "\n",
    "evo_logger = init_logger(top_k, num_params)\n",
    "\n",
    "for generation in range(200):\n",
    "    # Ask - Eval - Tell - Log\n",
    "    rng, rng_input = jax.random.split(rng)\n",
    "    x, memory = ask(rng_input, memory, params)\n",
    "    value = batch_rosenbrock(x, a, b)\n",
    "    memory = tell(x, value, params, memory)\n",
    "    evo_logger = update_logger(evo_logger, x, value, memory, top_k)\n",
    "    if (generation + 1) % 20 == 0:\n",
    "        print(\"# Gen: {}|Fitness: {:.2f}|Params: {}\".format(generation+1,\n",
    "                                                  evo_logger[\"top_values\"][0],\n",
    "                                                  evo_logger[\"top_params\"][0]))"
   ]
  },
  {
   "cell_type": "markdown",
   "metadata": {},
   "source": [
    "# Visualize single step update"
   ]
  },
  {
   "cell_type": "code",
   "execution_count": null,
   "metadata": {},
   "outputs": [],
   "source": [
    "rng = jax.random.PRNGKey(1)\n",
    "\n",
    "sigma = (x1_upper_bound - x2_lower_bound) / 5\n",
    "es_params, es_memory = init_strategy(jnp.zeros(2), sigma,\n",
    "                                     population_size=4, mu=2)\n",
    "evo_logger = init_logger(4, 2)"
   ]
  },
  {
   "cell_type": "code",
   "execution_count": null,
   "metadata": {},
   "outputs": [],
   "source": [
    "def gen_base_plot():\n",
    "    rcParams[\"figure.figsize\"] = 5, 5\n",
    "    fig1, ax1 = plt.subplots(1, 1)\n",
    "    fig2, ax2 = plt.subplots(1, 1)\n",
    "\n",
    "    color_dict = {\n",
    "        \"red\": ((0.0, 0.0, 0.0), (1.0, 1.0, 1.0)),\n",
    "        \"green\": ((0.0, 0.0, 0.0), (1.0, 1.0, 1.0)),\n",
    "        \"blue\": ((0.0, 1.0, 1.0), (1.0, 1.0, 1.0)),\n",
    "        \"yellow\": ((1.0, 1.0, 1.0), (1.0, 1.0, 1.0)),\n",
    "    }\n",
    "    bw = LinearSegmentedColormap(\"BlueWhile\", color_dict)\n",
    "\n",
    "\n",
    "    ax1.set_xlim(x1_lower_bound, x1_upper_bound)\n",
    "    ax1.set_ylim(x2_lower_bound, x2_upper_bound)\n",
    "    ax2.set_xlim(x1_lower_bound, x1_upper_bound)\n",
    "    ax2.set_ylim(x2_lower_bound, x2_upper_bound)\n",
    "    ax1.axis(\"off\")\n",
    "    ax2.axis(\"off\")\n",
    "\n",
    "    # Plot 4 local minimum value\n",
    "    for m in global_minimums:\n",
    "        ax1.plot(m[0], m[1], \"y*\", ms=10)\n",
    "        ax2.plot(m[0], m[1], \"y*\", ms=10)\n",
    "\n",
    "    # Plot contour of himmelbleu function\n",
    "    x1 = np.arange(x1_lower_bound, x1_upper_bound, 0.01)\n",
    "    x2 = np.arange(x2_lower_bound, x2_upper_bound, 0.01)\n",
    "    x1, x2 = np.meshgrid(x1, x2)\n",
    "    x = np.stack([x1, x2])\n",
    "    ax1.contour(x1, x2, contour_function(x), 30, cmap=bw)\n",
    "    fig1.tight_layout()\n",
    "    fig2.tight_layout()\n",
    "    return fig1, ax1, fig2, ax2"
   ]
  },
  {
   "cell_type": "code",
   "execution_count": null,
   "metadata": {},
   "outputs": [],
   "source": [
    "fig1, ax1, fig2, ax2 = gen_base_plot()\n",
    "\n",
    "rng, rng_input = jax.random.split(rng)\n",
    "x, es_memory = ask(rng_input, es_memory, es_params)\n",
    "\n",
    "for i in range(4):\n",
    "    # Plot sample points\n",
    "    ax1.plot(x[i, 0], x[i, 1], \"o\", c=\"r\", alpha=0.5)\n",
    "    ax2.plot(x[i, 0], x[i, 1], \"o\", c=\"r\", alpha=0.5)\n",
    "\n",
    "# Plot multivariate gaussian distribution of CMA-ES\n",
    "xt, yt = np.mgrid[x1_lower_bound:x1_upper_bound:0.01,\n",
    "                x2_lower_bound:x2_upper_bound:0.01]\n",
    "rv = stats.multivariate_normal(np.array(es_memory[\"mean\"]),\n",
    "                               np.array(es_memory[\"C\"]))\n",
    "pos = np.dstack((xt, yt))\n",
    "ax2.contourf(xt, yt, rv.pdf(pos), cmap=\"Reds\")"
   ]
  },
  {
   "cell_type": "code",
   "execution_count": null,
   "metadata": {},
   "outputs": [],
   "source": [
    "fig1, ax1, fig2, ax2 = gen_base_plot()\n",
    "\n",
    "# Plot multivariate gaussian distribution of CMA-ES\n",
    "xt, yt = np.mgrid[x1_lower_bound:x1_upper_bound:0.01,\n",
    "                x2_lower_bound:x2_upper_bound:0.01]\n",
    "rv1 = stats.multivariate_normal(np.array(np.zeros(2)),\n",
    "                               np.array(np.eye(2)))\n",
    "pos = np.dstack((xt, yt))\n",
    "c1 = ax2.contour(xt, yt, rv1.pdf(pos), cmap=\"Reds\", alpha=0.5)\n",
    "\n",
    "value = objective(x, 0)\n",
    "es_memory = tell(x, value, es_params, es_memory)\n",
    "\n",
    "# Plot multivariate gaussian distribution of CMA-ES\n",
    "x, y = np.mgrid[x1_lower_bound:x1_upper_bound:0.01,\n",
    "                x2_lower_bound:x2_upper_bound:0.01]\n",
    "rv2 = stats.multivariate_normal(np.array(es_memory[\"mean\"]),\n",
    "                               np.array(es_memory[\"C\"]))\n",
    "pos = np.dstack((x, y))\n",
    "c2 = ax2.contourf(x, y, rv2.pdf(pos), cmap=\"Reds\")"
   ]
  },
  {
   "cell_type": "code",
   "execution_count": null,
   "metadata": {},
   "outputs": [],
   "source": []
  }
 ],
 "metadata": {
  "kernelspec": {
   "display_name": "Python3 (ma-vision)",
   "language": "python",
   "name": "ma-vision"
  },
  "language_info": {
   "codemirror_mode": {
    "name": "ipython",
    "version": 3
   },
   "file_extension": ".py",
   "mimetype": "text/x-python",
   "name": "python",
   "nbconvert_exporter": "python",
   "pygments_lexer": "ipython3",
   "version": "3.6.9"
  }
 },
 "nbformat": 4,
 "nbformat_minor": 4
}
