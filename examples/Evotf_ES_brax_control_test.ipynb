{
 "cells": [
  {
   "cell_type": "code",
   "execution_count": 1,
   "metadata": {},
   "outputs": [],
   "source": [
    "%matplotlib inline\n",
    "%load_ext autoreload\n",
    "%autoreload 2\n",
    "%config InlineBackend.figure_format = 'retina'"
   ]
  },
  {
   "cell_type": "markdown",
   "metadata": {},
   "source": [
    "EvoTF_ES With MLP Controller"
   ]
  },
  {
   "cell_type": "code",
   "execution_count": 2,
   "metadata": {},
   "outputs": [],
   "source": [
    "import jax\n",
    "import numpy as np\n",
    "from evojax.obs_norm import ObsNormalizer\n",
    "from evojax.sim_mgr import SimManager\n",
    "from evojax.task.brax_task import BraxTask\n",
    "from evojax.policy import MLPPolicy\n",
    "\n",
    "from evosax import Strategies\n",
    "from evosax.utils.evojax_wrapper import Evosax2JAX_Wrapper"
   ]
  },
  {
   "cell_type": "code",
   "execution_count": 3,
   "metadata": {},
   "outputs": [],
   "source": [
    "def get_brax_task(\n",
    "    env_name = \"humanoid\",\n",
    "    hidden_dims = [32, 32, 32, 32],\n",
    "):\n",
    "    train_task = BraxTask(env_name, test=False)\n",
    "    test_task = BraxTask(env_name, test=True)\n",
    "    policy = MLPPolicy(\n",
    "        input_dim=train_task.obs_shape[0],\n",
    "        output_dim=train_task.act_shape[0],\n",
    "        hidden_dims=hidden_dims,\n",
    "    )\n",
    "    return train_task, test_task, policy"
   ]
  },
  {
   "cell_type": "code",
   "execution_count": 4,
   "metadata": {},
   "outputs": [
    {
     "name": "stdout",
     "output_type": "stream",
     "text": [
      "[cuda(id=0)]\n"
     ]
    }
   ],
   "source": [
    "print(jax.devices())"
   ]
  },
  {
   "cell_type": "code",
   "execution_count": 5,
   "metadata": {},
   "outputs": [
    {
     "name": "stderr",
     "output_type": "stream",
     "text": [
      "2024-08-29 00:03:23.342155: W external/xla/xla/service/gpu/nvptx_compiler.cc:765] The NVIDIA driver's CUDA version is 12.5 which is older than the ptxas CUDA version (12.6.20). Because the driver is older than the ptxas version, XLA is disabling parallel compilation, which may slow down compilation. You should update your NVIDIA driver or use the NVIDIA-provided CUDA forward compatibility packages.\n",
      "MLPPolicy: 2024-08-29 00:03:41,174 [INFO] MLPPolicy.num_params = 11569\n"
     ]
    },
    {
     "name": "stdout",
     "output_type": "stream",
     "text": [
      "Loaded pretrained EvoTF model from ckpt: 2024_03_SNES_small.pkl\n"
     ]
    },
    {
     "name": "stderr",
     "output_type": "stream",
     "text": [
      "2024-08-29 00:03:41.539173: W external/xla/xla/service/hlo_rematerialization.cc:3005] Can't reduce memory use below 402.82MiB (422389045 bytes) by rematerialization; only reduced to 5.58GiB (5994338228 bytes), down from 5.58GiB (5994338228 bytes) originally\n",
      "SimManager: 2024-08-29 00:03:41,596 [INFO] use_for_loop=False\n"
     ]
    },
    {
     "name": "stdout",
     "output_type": "stream",
     "text": [
      "START EVOLVING 11569 PARAMS.\n"
     ]
    },
    {
     "name": "stderr",
     "output_type": "stream",
     "text": [
      "2024-08-29 00:03:41.778935: W external/xla/xla/service/hlo_rematerialization.cc:3005] Can't reduce memory use below -4.92GiB (-5283442480 bytes) by rematerialization; only reduced to 5.62GiB (6029831912 bytes), down from 5.62GiB (6029878188 bytes) originally\n",
      "2024-08-29 00:03:51.860608: W external/xla/xla/tsl/framework/bfc_allocator.cc:482] Allocator (GPU_0_bfc) ran out of memory trying to allocate 5.52GiB (rounded to 5923328000)requested by op \n",
      "2024-08-29 00:03:51.860875: W external/xla/xla/tsl/framework/bfc_allocator.cc:494] **********************************************************************************************______\n",
      "E0829 00:03:51.860934   43722 pjrt_stream_executor_client.cc:2985] Execution of replica 0 failed: RESOURCE_EXHAUSTED: Out of memory while trying to allocate 5923328000 bytes.\n"
     ]
    },
    {
     "ename": "XlaRuntimeError",
     "evalue": "RESOURCE_EXHAUSTED: Out of memory while trying to allocate 5923328000 bytes.",
     "output_type": "error",
     "traceback": [
      "\u001b[0;31m---------------------------------------------------------------------------\u001b[0m",
      "\u001b[0;31mXlaRuntimeError\u001b[0m                           Traceback (most recent call last)",
      "Cell \u001b[0;32mIn[5], line 35\u001b[0m\n\u001b[1;32m     33\u001b[0m \u001b[38;5;66;03m# Run ES Loop.\u001b[39;00m\n\u001b[1;32m     34\u001b[0m \u001b[38;5;28;01mfor\u001b[39;00m gen_counter \u001b[38;5;129;01min\u001b[39;00m \u001b[38;5;28mrange\u001b[39m(\u001b[38;5;241m10\u001b[39m):\n\u001b[0;32m---> 35\u001b[0m     params \u001b[38;5;241m=\u001b[39m \u001b[43msolver\u001b[49m\u001b[38;5;241;43m.\u001b[39;49m\u001b[43mask\u001b[49m\u001b[43m(\u001b[49m\u001b[43m)\u001b[49m\n\u001b[1;32m     36\u001b[0m     scores, _ \u001b[38;5;241m=\u001b[39m sim_mgr\u001b[38;5;241m.\u001b[39meval_params(params\u001b[38;5;241m=\u001b[39mparams, test\u001b[38;5;241m=\u001b[39m\u001b[38;5;28;01mFalse\u001b[39;00m)\n\u001b[1;32m     37\u001b[0m     solver\u001b[38;5;241m.\u001b[39mtell(fitness\u001b[38;5;241m=\u001b[39mscores)\n",
      "File \u001b[0;32m~/micromamba/envs/evosax/lib/python3.9/site-packages/evosax/utils/evojax_wrapper.py:34\u001b[0m, in \u001b[0;36mEvosax2JAX_Wrapper.ask\u001b[0;34m(self)\u001b[0m\n\u001b[1;32m     32\u001b[0m \u001b[38;5;250m\u001b[39m\u001b[38;5;124;03m\"\"\"Ask strategy for next set of solution candidates to evaluate.\"\"\"\u001b[39;00m\n\u001b[1;32m     33\u001b[0m \u001b[38;5;28mself\u001b[39m\u001b[38;5;241m.\u001b[39mrand_key, ask_key \u001b[38;5;241m=\u001b[39m jax\u001b[38;5;241m.\u001b[39mrandom\u001b[38;5;241m.\u001b[39msplit(\u001b[38;5;28mself\u001b[39m\u001b[38;5;241m.\u001b[39mrand_key)\n\u001b[0;32m---> 34\u001b[0m \u001b[38;5;28mself\u001b[39m\u001b[38;5;241m.\u001b[39mparams, \u001b[38;5;28mself\u001b[39m\u001b[38;5;241m.\u001b[39mes_state \u001b[38;5;241m=\u001b[39m \u001b[38;5;28;43mself\u001b[39;49m\u001b[38;5;241;43m.\u001b[39;49m\u001b[43mes\u001b[49m\u001b[38;5;241;43m.\u001b[39;49m\u001b[43mask\u001b[49m\u001b[43m(\u001b[49m\n\u001b[1;32m     35\u001b[0m \u001b[43m    \u001b[49m\u001b[43mask_key\u001b[49m\u001b[43m,\u001b[49m\u001b[43m \u001b[49m\u001b[38;5;28;43mself\u001b[39;49m\u001b[38;5;241;43m.\u001b[39;49m\u001b[43mes_state\u001b[49m\u001b[43m,\u001b[49m\u001b[43m \u001b[49m\u001b[38;5;28;43mself\u001b[39;49m\u001b[38;5;241;43m.\u001b[39;49m\u001b[43mes_params\u001b[49m\n\u001b[1;32m     36\u001b[0m \u001b[43m\u001b[49m\u001b[43m)\u001b[49m\n\u001b[1;32m     37\u001b[0m \u001b[38;5;28;01mreturn\u001b[39;00m \u001b[38;5;28mself\u001b[39m\u001b[38;5;241m.\u001b[39mparams\n",
      "    \u001b[0;31m[... skipping hidden 10 frame]\u001b[0m\n",
      "File \u001b[0;32m~/micromamba/envs/evosax/lib/python3.9/site-packages/jax/_src/interpreters/pxla.py:1253\u001b[0m, in \u001b[0;36mExecuteReplicated.__call__\u001b[0;34m(self, *args)\u001b[0m\n\u001b[1;32m   1251\u001b[0m   \u001b[38;5;28mself\u001b[39m\u001b[38;5;241m.\u001b[39m_handle_token_bufs(result_token_bufs, sharded_runtime_token)\n\u001b[1;32m   1252\u001b[0m \u001b[38;5;28;01melse\u001b[39;00m:\n\u001b[0;32m-> 1253\u001b[0m   results \u001b[38;5;241m=\u001b[39m \u001b[38;5;28;43mself\u001b[39;49m\u001b[38;5;241;43m.\u001b[39;49m\u001b[43mxla_executable\u001b[49m\u001b[38;5;241;43m.\u001b[39;49m\u001b[43mexecute_sharded\u001b[49m\u001b[43m(\u001b[49m\u001b[43minput_bufs\u001b[49m\u001b[43m)\u001b[49m\n\u001b[1;32m   1255\u001b[0m \u001b[38;5;28;01mif\u001b[39;00m dispatch\u001b[38;5;241m.\u001b[39mneeds_check_special():\n\u001b[1;32m   1256\u001b[0m   out_arrays \u001b[38;5;241m=\u001b[39m results\u001b[38;5;241m.\u001b[39mdisassemble_into_single_device_arrays()\n",
      "\u001b[0;31mXlaRuntimeError\u001b[0m: RESOURCE_EXHAUSTED: Out of memory while trying to allocate 5923328000 bytes."
     ]
    }
   ],
   "source": [
    "train_task, test_task, policy = get_brax_task(\"humanoid\")\n",
    "solver = Evosax2JAX_Wrapper(\n",
    "    Strategies[\"EvoTF_ES\"],\n",
    "    param_size=policy.num_params,\n",
    "    pop_size=256,\n",
    "    # es_config={\"maximize\": True,\n",
    "    #            \"centered_rank\": True,\n",
    "    #            \"lrate_init\": 0.01,\n",
    "    #            \"lrate_decay\": 0.999,\n",
    "    #            \"lrate_limit\": 0.001},\n",
    "    # es_params={\"sigma_init\": 0.05,\n",
    "    # \"sigma_decay\": 0.999,\n",
    "    # \"sigma_limit\": 0.01},\n",
    "    seed=0,\n",
    ")\n",
    "obs_normalizer = ObsNormalizer(\n",
    "    obs_shape=train_task.obs_shape, dummy=not True\n",
    ")\n",
    "sim_mgr = SimManager(\n",
    "    policy_net=policy,\n",
    "    train_vec_task=train_task,\n",
    "    valid_vec_task=test_task,\n",
    "    seed=0,\n",
    "    obs_normalizer=obs_normalizer,\n",
    "    pop_size=256,\n",
    "    use_for_loop=False,\n",
    "    n_repeats=16,\n",
    "    test_n_repeats=1,\n",
    "    n_evaluations=128\n",
    ")\n",
    "\n",
    "print(f\"START EVOLVING {policy.num_params} PARAMS.\")\n",
    "# Run ES Loop.\n",
    "for gen_counter in range(10):\n",
    "    params = solver.ask()\n",
    "    scores, _ = sim_mgr.eval_params(params=params, test=False)\n",
    "    solver.tell(fitness=scores)\n",
    "    if gen_counter == 0 or (gen_counter + 1) % 2 == 0:\n",
    "        test_scores, _ = sim_mgr.eval_params(\n",
    "            params=solver.best_params, test=True\n",
    "        )\n",
    "        print(\n",
    "            {\n",
    "                \"num_gens\": gen_counter + 1,\n",
    "            },\n",
    "            {\n",
    "                \"train_perf\": float(np.nanmean(scores)),\n",
    "                \"test_perf\": float(np.nanmean(test_scores)),\n",
    "            },\n",
    "        )"
   ]
  }
 ],
 "metadata": {
  "kernelspec": {
   "display_name": "Python 3",
   "language": "python",
   "name": "python3"
  },
  "language_info": {
   "codemirror_mode": {
    "name": "ipython",
    "version": 3
   },
   "file_extension": ".py",
   "mimetype": "text/x-python",
   "name": "python",
   "nbconvert_exporter": "python",
   "pygments_lexer": "ipython3",
   "version": "3.9.19"
  }
 },
 "nbformat": 4,
 "nbformat_minor": 2
}
