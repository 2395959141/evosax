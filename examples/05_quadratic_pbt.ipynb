{
 "cells": [
  {
   "cell_type": "markdown",
   "metadata": {},
   "source": [
    "# 05 - PBT on Quadratic Toy Problem\n",
    "### [Last Update: February 2022][![Colab](https://colab.research.google.com/assets/colab-badge.svg)](https://colab.research.google.com/github/RobertTLange/evosax/blob/main/examples/05_quadratic_pbt.ipynb)"
   ]
  },
  {
   "cell_type": "code",
   "execution_count": null,
   "metadata": {},
   "outputs": [],
   "source": [
    "%matplotlib inline\n",
    "%load_ext autoreload\n",
    "%autoreload 2\n",
    "%config InlineBackend.figure_format = 'retina'"
   ]
  },
  {
   "cell_type": "code",
   "execution_count": null,
   "metadata": {},
   "outputs": [],
   "source": [
    "import jax\n",
    "import jax.numpy as jnp\n",
    "from evosax.strategies import PBT_ES\n",
    "from functools import partial\n",
    "\n",
    "\n",
    "@partial(jax.vmap, in_axes=(0, 0, None))\n",
    "def step(theta, h, lrate):\n",
    "    \"\"\"Perform GradAscent step on quadratic surrogate objective (maximize!).\"\"\"\n",
    "    surrogate_grad = -2.0 * h * theta\n",
    "    return theta + lrate * surrogate_grad\n",
    "\n",
    "\n",
    "@partial(jax.vmap, in_axes=(0,))\n",
    "def evaluate(theta):\n",
    "    \"\"\"Ground truth objective (e.g. val loss) as in Jaderberg et al. 2016.\"\"\"\n",
    "    return 1.2 - jnp.sum(theta ** 2)\n",
    "\n",
    "\n",
    "@partial(jax.vmap, in_axes=(0, 0))\n",
    "def surrogate_objective(theta, h):\n",
    "    \"\"\"Surrogate objective (with hyperparams h) as in Jaderberg et al. 2016.\"\"\"\n",
    "    return 1.2 - jnp.sum(h * theta ** 2)\n",
    "\n",
    "\n",
    "rng = jax.random.PRNGKey(1)\n",
    "strategy = PBT_ES(2, 2)\n",
    "params = strategy.default_params\n",
    "params[\"noise_scale\"] = 0.5\n",
    "state = strategy.initialize(rng, params)\n",
    "\n",
    "# set the state manually for init\n",
    "theta = jnp.array([[0.9, 0.9], [0.9, 0.9]])\n",
    "h = jnp.array([[0, 1], [1, 0]])\n",
    "\n",
    "# Run 10 steps and evaluate final performance\n",
    "fitness_log = []\n",
    "theta_log = []\n",
    "for gen in range(20):\n",
    "    rng, rng_gen = jax.random.split(rng, 2)\n",
    "    for i in range(10):\n",
    "        theta = step(theta, h, 0.01)\n",
    "        theta_log.append(theta)\n",
    "    fitness = evaluate(theta)\n",
    "    state = strategy.tell(h, fitness, state, params)\n",
    "    copy_id, h, state = strategy.ask(rng_gen, state, params)\n",
    "    theta = theta[copy_id]\n",
    "    fitness_log.append(fitness)\n",
    "\n",
    "theta_log = jnp.array(theta_log)\n",
    "\n",
    "# import matplotlib.pyplot as plt\n",
    "#\n",
    "# fig, axs = plt.subplots(1, 2, figsize=(10, 5))\n",
    "# axs[0].plot(fitness_log)\n",
    "# axs[1].scatter(theta_log[:, 0], theta_log[:, 1], s=8)\n"
   ]
  },
  {
   "cell_type": "code",
   "execution_count": null,
   "metadata": {},
   "outputs": [],
   "source": []
  },
  {
   "cell_type": "markdown",
   "metadata": {},
   "source": []
  }
 ],
 "metadata": {
  "kernelspec": {
   "display_name": "Python3 (ma-vision)",
   "language": "python",
   "name": "ma-vision"
  },
  "language_info": {
   "codemirror_mode": {
    "name": "ipython",
    "version": 3
   },
   "file_extension": ".py",
   "mimetype": "text/x-python",
   "name": "python",
   "nbconvert_exporter": "python",
   "pygments_lexer": "ipython3",
   "version": "3.6.9"
  }
 },
 "nbformat": 4,
 "nbformat_minor": 4
}
